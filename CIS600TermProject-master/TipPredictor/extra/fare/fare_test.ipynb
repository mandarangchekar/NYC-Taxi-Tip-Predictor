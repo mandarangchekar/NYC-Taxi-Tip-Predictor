{
 "metadata": {
  "name": ""
 },
 "nbformat": 3,
 "nbformat_minor": 0,
 "worksheets": [
  {
   "cells": [
    {
     "cell_type": "code",
     "collapsed": false,
     "input": [
      "import pandas as pd\n",
      "import numpy as np\n",
      "import math\n",
      "import sklearn\n",
      "from sklearn import datasets, linear_model, metrics, svm\n",
      "from sklearn.feature_extraction import DictVectorizer\n",
      "from sklearn import tree"
     ],
     "language": "python",
     "metadata": {},
     "outputs": [
      {
       "output_type": "stream",
       "stream": "stderr",
       "text": [
        "/usr/local/lib/python2.7/dist-packages/numpy/core/fromnumeric.py:2507: VisibleDeprecationWarning: `rank` is deprecated; use the `ndim` attribute or function instead. To find the rank of a matrix see `numpy.linalg.matrix_rank`.\n",
        "  VisibleDeprecationWarning)\n"
       ]
      }
     ],
     "prompt_number": 1
    },
    {
     "cell_type": "code",
     "collapsed": false,
     "input": [
      "df = pd.io.parsers.read_csv(\"trip_fare_12.csv\", delimiter=',', encoding=\"utf-8-sig\")\n",
      "df.shape"
     ],
     "language": "python",
     "metadata": {},
     "outputs": [
      {
       "metadata": {},
       "output_type": "pyout",
       "prompt_number": 2,
       "text": [
        "(13971118, 11)"
       ]
      }
     ],
     "prompt_number": 2
    },
    {
     "cell_type": "code",
     "collapsed": false,
     "input": [
      "df.head()\n",
      "print df[\" surcharge\"].min()"
     ],
     "language": "python",
     "metadata": {},
     "outputs": [
      {
       "output_type": "stream",
       "stream": "stdout",
       "text": [
        "0.0\n"
       ]
      }
     ],
     "prompt_number": 4
    },
    {
     "cell_type": "code",
     "collapsed": false,
     "input": [
      "driverList = df[\" hack_license\"].unique()\n",
      "df_drivers = df[df[\" hack_license\"].isin(driverList[:100])]"
     ],
     "language": "python",
     "metadata": {},
     "outputs": [],
     "prompt_number": 12
    },
    {
     "cell_type": "code",
     "collapsed": false,
     "input": [
      "def GetTipClasses(tip):\n",
      "    if tip == 0.0:\n",
      "        return \"Z\"\n",
      "    elif tip > 0.0 and tip < 1.0:\n",
      "        return \"A\"\n",
      "    elif tip >= 1.0 and tip < 2.0:\n",
      "        return \"B\"\n",
      "    elif tip >= 2.0 and tip < 3.0:\n",
      "        return \"C\"\n",
      "    elif tip >= 3.0 and tip < 4.0:\n",
      "        return \"D\"\n",
      "    elif tip >= 4.0 and tip < 5.0:\n",
      "        return \"E\"\n",
      "    elif tip >= 5.0 and tip < 7.5:\n",
      "        return \"F\"\n",
      "    elif tip >= 7.5 and tip < 10.0:\n",
      "        return \"G\"\n",
      "    else:\n",
      "        return \"H\"\n",
      "    \n",
      "def CalculateTipClasses(df):\n",
      "    count = df.count()[0]\n",
      "#     print count\n",
      "    tip_df = ['X']*count\n",
      "    tip_amnt = df[\" tip_amount\"].tolist()\n",
      "    for i in range (count-1):\n",
      "        tip_df[i] = GetTipClasses(tip_amnt[i])\n",
      "    df[\"tip_class\"] = np.array(tip_df)\n",
      "    \n",
      "CalculateTipClasses(df_drivers)"
     ],
     "language": "python",
     "metadata": {},
     "outputs": [
      {
       "output_type": "stream",
       "stream": "stderr",
       "text": [
        "-c:28: SettingWithCopyWarning: \n",
        "A value is trying to be set on a copy of a slice from a DataFrame.\n",
        "Try using .loc[row_indexer,col_indexer] = value instead\n",
        "\n",
        "See the the caveats in the documentation: http://pandas.pydata.org/pandas-docs/stable/indexing.html#indexing-view-versus-copy\n"
       ]
      }
     ],
     "prompt_number": 6
    },
    {
     "cell_type": "code",
     "collapsed": false,
     "input": [
      "print df_drivers[\"tip_class\"][:50]"
     ],
     "language": "python",
     "metadata": {},
     "outputs": [
      {
       "output_type": "stream",
       "stream": "stdout",
       "text": [
        "0        Z\n",
        "1        Z\n",
        "2        Z\n",
        "3        Z\n",
        "4        B\n",
        "5        B\n",
        "6        B\n",
        "7        C\n",
        "8        Z\n",
        "9        B\n",
        "10       C\n",
        "11       B\n",
        "12       C\n",
        "13       Z\n",
        "14       Z\n",
        "15       C\n",
        "16       Z\n",
        "17       Z\n",
        "18       C\n",
        "19       Z\n",
        "2971     C\n",
        "3833     Z\n",
        "4236     B\n",
        "4237     Z\n",
        "5049     D\n",
        "5067     Z\n",
        "6413     Z\n",
        "6416     D\n",
        "6418     B\n",
        "6856     B\n",
        "7703     Z\n",
        "7710     B\n",
        "8147     B\n",
        "8156     Z\n",
        "8618     C\n",
        "8624     B\n",
        "9036     Z\n",
        "9466     Z\n",
        "9485     Z\n",
        "9892     D\n",
        "11160    Z\n",
        "11992    D\n",
        "12381    C\n",
        "13185    Z\n",
        "14011    Z\n",
        "14018    Z\n",
        "14790    Z\n",
        "15966    Z\n",
        "15969    C\n",
        "15982    Z\n",
        "Name: tip_class, dtype: object\n"
       ]
      }
     ],
     "prompt_number": 7
    },
    {
     "cell_type": "code",
     "collapsed": false,
     "input": [
      "def GetTrainingAndTest(df):\n",
      "    tr = int(math.floor(0.7*df.count()[0]))\n",
      "    training = df[0:tr]\n",
      "    test = df[tr:]\n",
      "    return training,test\n",
      "\n",
      "train_df,test_df = GetTrainingAndTest(df_drivers)"
     ],
     "language": "python",
     "metadata": {},
     "outputs": [],
     "prompt_number": 8
    },
    {
     "cell_type": "code",
     "collapsed": false,
     "input": [
      "print [(col, pd.isnull(df_drivers[col]).sum()) for col in df_drivers.columns]\n",
      "feature_cols = [ ' fare_amount']"
     ],
     "language": "python",
     "metadata": {},
     "outputs": [
      {
       "output_type": "stream",
       "stream": "stdout",
       "text": [
        "[(u'medallion', 0), (u' hack_license', 0), (u' vendor_id', 0), (u' pickup_datetime', 0), (u' payment_type', 0), (u' fare_amount', 0), (u' surcharge', 0), (u' mta_tax', 0), (u' tip_amount', 0), (u' tolls_amount', 0), (u' total_amount', 0), ('tip_class', 0)]\n"
       ]
      }
     ],
     "prompt_number": 9
    },
    {
     "cell_type": "code",
     "collapsed": false,
     "input": [
      "dvec = DictVectorizer()\n",
      "dict_df = train_df[feature_cols].T.to_dict().values()\n",
      "train_data = pd.DataFrame(dvec.fit_transform(dict_df).toarray())\n",
      "\n",
      "dict_df = test_df[feature_cols].T.to_dict().values()\n",
      "test_data = pd.DataFrame(dvec.transform(dict_df).toarray())\n",
      "\n",
      "X_train = train_data\n",
      "Y_train =  train_df['tip_class'].reshape(len(train_df['tip_class']), 1)\n",
      "\n",
      "X_dev = test_data\n",
      "Y_dev = test_df['tip_class'].reshape(len(test_df['tip_class']), 1)"
     ],
     "language": "python",
     "metadata": {},
     "outputs": [],
     "prompt_number": 10
    },
    {
     "cell_type": "code",
     "collapsed": false,
     "input": [
      "ctr_Z = 0\n",
      "ctr_A = 0\n",
      "ctr_B = 0\n",
      "ctr_C = 0\n",
      "ctr_D = 0\n",
      "ctr_E = 0\n",
      "ctr_F = 0\n",
      "ctr_G = 0\n",
      "ctr_H = 0\n",
      "for i in range(Y_dev.shape[0]):\n",
      "    if Y_dev[i] == 'Z':\n",
      "        ctr_Z += 1\n",
      "    elif Y_dev[i] == 'A':\n",
      "        ctr_A += 1\n",
      "    elif Y_dev[i] == 'B':\n",
      "        ctr_B += 1\n",
      "    elif Y_dev[i] == 'C':\n",
      "        ctr_C += 1\n",
      "    elif Y_dev[i] == 'D':\n",
      "        ctr_D += 1\n",
      "    elif Y_dev[i] == 'E':\n",
      "        ctr_E += 1\n",
      "    elif Y_dev[i] == 'F':\n",
      "        ctr_F += 1\n",
      "    elif Y_dev[i] == 'G':\n",
      "        ctr_G += 1\n",
      "    else:\n",
      "        ctr_H += 1   \n",
      "total = ctr_Z + ctr_A + ctr_B + ctr_C + ctr_D + ctr_E + ctr_F + ctr_G + ctr_H \n",
      "print total\n",
      "float(ctr_Z)*100/total, float(ctr_A)*100/total,  float(ctr_B)*100/total,  float(ctr_C)*100/total, float(ctr_D)*100/total, float(ctr_E)*100/total, float(ctr_F)*100/total, float(ctr_G)*100/total, float(ctr_H)*100/total"
     ],
     "language": "python",
     "metadata": {},
     "outputs": [
      {
       "output_type": "stream",
       "stream": "stdout",
       "text": [
        "3029\n"
       ]
      },
      {
       "metadata": {},
       "output_type": "pyout",
       "prompt_number": 11,
       "text": [
        "(54.14328161109277,\n",
        " 1.0234400792340705,\n",
        " 20.831957741828987,\n",
        " 11.224826675470453,\n",
        " 5.447342357213602,\n",
        " 2.4430505117200396,\n",
        " 2.9052492571805875,\n",
        " 0.6272697259821723,\n",
        " 1.3535820402773193)"
       ]
      }
     ],
     "prompt_number": 11
    },
    {
     "cell_type": "code",
     "collapsed": false,
     "input": [
      "svm_clf = svm.SVC(kernel='rbf', class_weight='auto')\n",
      "svm_clf.fit(X_train, Y_train.reshape(Y_train.shape[0],))\n",
      "Y_pred_dev = svm_clf.predict(X_dev)\n",
      "SVM_acc = float(sum(map(lambda x,y : x==y, Y_pred_dev, Y_dev)))/len(Y_dev)\n",
      "print \"SVM RBF Kernel set accuracy: %f\" %(SVM_acc)"
     ],
     "language": "python",
     "metadata": {},
     "outputs": [
      {
       "output_type": "stream",
       "stream": "stdout",
       "text": [
        "SVM RBF Kernel set accuracy: 0.029383\n"
       ]
      }
     ],
     "prompt_number": 63
    },
    {
     "cell_type": "code",
     "collapsed": false,
     "input": [
      "print len(Y_pred_dev)\n",
      "print len(Y_dev)\n",
      "count = 0\n",
      "cnt = 0\n",
      "cnt1 = 0\n",
      "for i in range(len(Y_dev)):\n",
      "    if Y_pred_dev[i] == \"Z\":\n",
      "        cnt = cnt+1\n",
      "    if Y_dev[i] == \"Z\":\n",
      "        cnt1 = cnt1+1  \n",
      "    if Y_dev[i] == Y_pred_dev[i]:\n",
      "        count = count +1\n",
      "    \n",
      "print  cnt, cnt1, count"
     ],
     "language": "python",
     "metadata": {},
     "outputs": [
      {
       "output_type": "stream",
       "stream": "stdout",
       "text": [
        "3029\n",
        "3029\n",
        "3012 1640 1633\n"
       ]
      }
     ],
     "prompt_number": 60
    },
    {
     "cell_type": "code",
     "collapsed": false,
     "input": [
      "dtc_clf = tree.DecisionTreeClassifier()\n",
      "dtc_clf.fit(X_train, Y_train)\n",
      "Y_pred_dev1 = dtc_clf.predict(X_dev)\n",
      "DTC_acc = float(sum(map(lambda x,y : x==y, Y_pred_dev1, Y_dev)))/len(Y_dev)\n",
      "print \"DRC set accuracy: %f\" %((DTC_acc)*100)"
     ],
     "language": "python",
     "metadata": {},
     "outputs": [
      {
       "output_type": "stream",
       "stream": "stdout",
       "text": [
        "DRC set accuracy: 52.822714\n"
       ]
      }
     ],
     "prompt_number": 61
    },
    {
     "cell_type": "code",
     "collapsed": false,
     "input": [
      "print len(Y_pred_dev1)\n",
      "print len(Y_dev)\n",
      "count = 0\n",
      "cnt = 0\n",
      "cnt1 = 0\n",
      "for i in range(len(Y_dev)):\n",
      "    if Y_pred_dev1[i] == \"Z\":\n",
      "        cnt = cnt+1\n",
      "    if Y_dev[i] == \"Z\":\n",
      "        cnt1 = cnt1+1   \n",
      "    if Y_dev[i] == Y_pred_dev1[i]:\n",
      "        count = count +1\n",
      "    \n",
      "print  cnt,cnt1,  count"
     ],
     "language": "python",
     "metadata": {},
     "outputs": [
      {
       "output_type": "stream",
       "stream": "stdout",
       "text": [
        "3029\n",
        "3029\n",
        "2934 1640 1600\n"
       ]
      }
     ],
     "prompt_number": 62
    },
    {
     "cell_type": "code",
     "collapsed": false,
     "input": [],
     "language": "python",
     "metadata": {},
     "outputs": []
    }
   ],
   "metadata": {}
  }
 ]
}