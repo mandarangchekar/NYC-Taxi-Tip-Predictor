{
 "metadata": {
  "name": ""
 },
 "nbformat": 3,
 "nbformat_minor": 0,
 "worksheets": [
  {
   "cells": [
    {
     "cell_type": "markdown",
     "metadata": {},
     "source": [
      "###TODO\n",
      "\n",
      "1. Cross Validation   - SJ\n",
      "6. Feature Engineering - AG"
     ]
    },
    {
     "cell_type": "markdown",
     "metadata": {},
     "source": [
      "###IMPORTING STUFF"
     ]
    },
    {
     "cell_type": "code",
     "collapsed": false,
     "input": [
      "import pandas as pd\n",
      "import numpy as np\n",
      "import math\n",
      "import sklearn\n",
      "from sklearn import datasets, linear_model, metrics, svm, cluster\n",
      "from sklearn.feature_extraction import DictVectorizer\n",
      "from sklearn import tree\n",
      "from sklearn.ensemble import RandomForestClassifier\n",
      "from sklearn.ensemble import AdaBoostClassifier\n",
      "from sklearn import cross_validation\n",
      "from sklearn.metrics import confusion_matrix"
     ],
     "language": "python",
     "metadata": {},
     "outputs": [
      {
       "output_type": "stream",
       "stream": "stderr",
       "text": [
        "/usr/local/lib/python2.7/dist-packages/numpy/core/fromnumeric.py:2507: VisibleDeprecationWarning: `rank` is deprecated; use the `ndim` attribute or function instead. To find the rank of a matrix see `numpy.linalg.matrix_rank`.\n",
        "  VisibleDeprecationWarning)\n"
       ]
      }
     ],
     "prompt_number": 2
    },
    {
     "cell_type": "code",
     "collapsed": false,
     "input": [
      "import matplotlib\n",
      "matplotlib.use('Agg')\n",
      "from matplotlib import pyplot as plt\n",
      "%matplotlib inline"
     ],
     "language": "python",
     "metadata": {},
     "outputs": [],
     "prompt_number": 3
    },
    {
     "cell_type": "markdown",
     "metadata": {},
     "source": [
      "###READING DATA"
     ]
    },
    {
     "cell_type": "code",
     "collapsed": false,
     "input": [
      "# master_df = pd.read_csv(\"../../data/final.csv\")\n",
      "# master_df = master_df.drop(' store_and_fwd_flag', axis = 1)"
     ],
     "language": "python",
     "metadata": {},
     "outputs": [
      {
       "output_type": "stream",
       "stream": "stderr",
       "text": [
        "/usr/local/lib/python2.7/dist-packages/pandas/io/parsers.py:1164: DtypeWarning: Columns (1,2,4,8,9,10,11,12,13,14,17,18,19,20,21,22) have mixed types. Specify dtype option on import or set low_memory=False.\n",
        "  data = self._reader.read(nrows)\n"
       ]
      }
     ],
     "prompt_number": 33
    },
    {
     "cell_type": "code",
     "collapsed": false,
     "input": [
      "# df = master_df[:100000]\n",
      "# df = pd.read_csv(\"final_withpickuparea.csv\")\n",
      "df = pd.read_csv('../../data/clean.csv')"
     ],
     "language": "python",
     "metadata": {},
     "outputs": [],
     "prompt_number": 4
    },
    {
     "cell_type": "markdown",
     "metadata": {},
     "source": [
      "###VISUALIZATION"
     ]
    },
    {
     "cell_type": "markdown",
     "metadata": {},
     "source": [
      "###DATA CLEANING"
     ]
    },
    {
     "cell_type": "code",
     "collapsed": false,
     "input": [
      "df[' trip_distance'] = df[' trip_distance'].apply(lambda x: np.nan if x > 1000.0 or x == 0.0 else x)\n",
      "df[' passenger_count'] = df[' passenger_count'].apply(lambda x: np.nan if x > 6.0 or x == 0.0 else x)\n",
      "df[' payment_type'] = df[' payment_type'].apply(lambda x: np.nan if x == 'UNK' or x == 'payment_type' else x)\n",
      "df[' trip_time_in_secs'] = df[' trip_time_in_secs'].apply(lambda x: np.nan if x == 0.0 else x)\n",
      "df[' fare_amount'] = df[' fare_amount'].apply(lambda x: np.nan if x == 0.0 else x)"
     ],
     "language": "python",
     "metadata": {},
     "outputs": [],
     "prompt_number": 5
    },
    {
     "cell_type": "code",
     "collapsed": false,
     "input": [
      "df = df.dropna()\n",
      "df.shape"
     ],
     "language": "python",
     "metadata": {},
     "outputs": [
      {
       "metadata": {},
       "output_type": "pyout",
       "prompt_number": 6,
       "text": [
        "(198208, 23)"
       ]
      }
     ],
     "prompt_number": 6
    },
    {
     "cell_type": "code",
     "collapsed": false,
     "input": [
      "df.to_csv('../../data/clean.csv')"
     ],
     "language": "python",
     "metadata": {},
     "outputs": [],
     "prompt_number": 7
    },
    {
     "cell_type": "code",
     "collapsed": false,
     "input": [
      "integer_map = dict([(val, i) for i, val in enumerate(set(df[' payment_type']))]) \n",
      "df[' payment_type'] = df[' payment_type'].apply(lambda x: integer_map[x])"
     ],
     "language": "python",
     "metadata": {},
     "outputs": [],
     "prompt_number": 8
    },
    {
     "cell_type": "markdown",
     "metadata": {},
     "source": [
      "###UTILS FOR FEATURES\n",
      "\n",
      "####Date Time Features"
     ]
    },
    {
     "cell_type": "code",
     "collapsed": false,
     "input": [
      "from datetime import datetime\n",
      "def InterpretPickupTime(df, field):\n",
      "    count = df.count()[0]\n",
      "    month = [0]*count #1-12\n",
      "    hourOfDay = [0]*count #0-23\n",
      "    dayOfWeek = [0]*count #0=monday, 6=sunday\n",
      "    weekend = [\"X\"]*count #weekday/weekend\n",
      "    timegroup = [\"X\"]*count #0-5early, 6-10morning, 11-15afternoon, 16-20evening, 21-23night, \n",
      "    try:\n",
      "        for i in range(count):\n",
      "            dt = datetime.strptime(df[field][i],\"%Y-%m-%d %H:%M:%S\")\n",
      "            month[i] = dt.month\n",
      "            dayOfWeek[i] = dt.weekday()\n",
      "            hourOfDay[i] = dt.hour\n",
      "            if dt.weekday()> 4:\n",
      "                weekend[i] = \"weekend\";\n",
      "            else:\n",
      "                weekend[i] = \"weekday\";\n",
      "            if hourOfDay[i] < 6:\n",
      "                timegroup[i] = \"early\"\n",
      "            elif hourOfDay[i] < 11:\n",
      "                timegroup[i] = \"morning\"\n",
      "            elif hourOfDay[i] < 16:\n",
      "                timegroup[i] = \"afternoon\"\n",
      "            elif hourOfDay[i] < 21:\n",
      "                timegroup[i] = \"evening\"\n",
      "            else:\n",
      "                timegroup[i] = \"night\"\n",
      "    except:\n",
      "        print \"Exception##\" + str(i) + \"  \"+ df[field][i]+ \"## \"\n",
      "        return\n",
      "    df[field+\"month\"] = month\n",
      "    df[field+\"hourOfDay\"] = hourOfDay\n",
      "    df[field+\"dayOfWeek\"] = dayOfWeek\n",
      "    df[field+\"weekend\"] = weekend\n",
      "    df[field+\"timegroup\"] = timegroup"
     ],
     "language": "python",
     "metadata": {},
     "outputs": [],
     "prompt_number": 7
    },
    {
     "cell_type": "markdown",
     "metadata": {},
     "source": [
      "####Tip Class Features"
     ]
    },
    {
     "cell_type": "code",
     "collapsed": false,
     "input": [
      "def GetTipClasses(tip):\n",
      "    if tip == 0.0:\n",
      "        return 0\n",
      "    elif tip > 0.0 and tip < 1.0:\n",
      "        return 1\n",
      "    elif tip >= 1.0 and tip < 2.0:\n",
      "        return 2\n",
      "    elif tip >= 2.0 and tip < 3.0:\n",
      "        return 3\n",
      "    elif tip >= 3.0 and tip < 4.0:\n",
      "        return 4\n",
      "    elif tip >= 4.0 and tip < 5.0:\n",
      "        return 5\n",
      "    elif tip >= 5.0 and tip < 7.5:\n",
      "        return 6\n",
      "    elif tip >= 7.5 and tip < 10.0:\n",
      "        return 7\n",
      "    else:\n",
      "        return 8\n",
      "\n",
      "def CalculateTipClasses(df):\n",
      "    count = len(df)\n",
      "    tip_df = list()\n",
      "    tip_amnt = df[\" tip_amount\"].tolist()\n",
      "    print len(tip_amnt)\n",
      "    for i in range (count):\n",
      "        tip_df.append(GetTipClasses(tip_amnt[i]))\n",
      "    df[\"tip_class\"] = np.array(tip_df)"
     ],
     "language": "python",
     "metadata": {},
     "outputs": [],
     "prompt_number": 8
    },
    {
     "cell_type": "markdown",
     "metadata": {},
     "source": [
      "####Tip no Tip Features"
     ]
    },
    {
     "cell_type": "code",
     "collapsed": false,
     "input": [
      "def GetTipNoTip(tip):\n",
      "    if tip == 0.0:\n",
      "        return 0\n",
      "    else:\n",
      "        return 1\n",
      "\n",
      "def CalculateTipNoTip(df):\n",
      "    count = df.count()[0]\n",
      "#     print count\n",
      "    tip_df = ['X']*count\n",
      "    tip_amnt = df[\" tip_amount\"].tolist()\n",
      "    for i in range (count):\n",
      "        tip_df[i] = GetTipNoTip(tip_amnt[i])\n",
      "    df[\"tip_no_tip\"] = np.array(tip_df)"
     ],
     "language": "python",
     "metadata": {},
     "outputs": [],
     "prompt_number": 9
    },
    {
     "cell_type": "markdown",
     "metadata": {},
     "source": [
      "#### Tip Percent"
     ]
    },
    {
     "cell_type": "code",
     "collapsed": false,
     "input": [
      "def GetTipPercent(tip, fare):\n",
      "    tip_p = tip*100/fare\n",
      "        \n",
      "    if tip_p == 0.0:\n",
      "        return 0\n",
      "    elif tip_p > 0.0 and tip_p <= 5.0:\n",
      "        return 1\n",
      "    elif tip_p > 5.0 and tip_p <= 10.0:\n",
      "        return 2\n",
      "    elif tip_p > 10.0 and tip_p <= 15.0:\n",
      "        return 3\n",
      "    elif tip_p > 15.0 and tip_p <= 20.0:\n",
      "        return 4\n",
      "    elif tip_p > 20.0 and tip_p <= 25.0:\n",
      "        return 5\n",
      "    elif tip_p > 25.0 and tip_p <= 30.0:\n",
      "        return 6\n",
      "    elif tip_p > 30.0 and tip_p <= 35.0:\n",
      "        return 7\n",
      "    else:\n",
      "        return 8\n",
      "    \n",
      "def CalcuateTipPercentage(df):\n",
      "    count = df.count()[0]\n",
      "    tip_df = ['X']*count\n",
      "    tip_amnt = df[\" tip_amount\"].tolist()\n",
      "    fare_amnt = df[' fare_amount'].tolist()\n",
      "    for i in range (count):\n",
      "        tip_df[i] = GetTipPercent(tip_amnt[i], fare_amnt[i])\n",
      "    df[\"tip_percent_class\"] = np.array(tip_df)   "
     ],
     "language": "python",
     "metadata": {},
     "outputs": [],
     "prompt_number": 10
    },
    {
     "cell_type": "markdown",
     "metadata": {},
     "source": [
      "####Zip Code Features"
     ]
    },
    {
     "cell_type": "code",
     "collapsed": false,
     "input": [
      "# def GetZipCodesByBurough():\n",
      "#     zipcodesByB = pd.read_csv(\"../../../zipcodesByBuruough.csv\",header=None)\n",
      "#     zipDiction={}\n",
      "#     for i in range(zipcodesByB.count()[0]):\n",
      "#         print zipcodesByB[0][i]\n",
      "#         for row in zipcodesByB[1][i].split(\",\"):\n",
      "#             zipDiction[int(row.strip())]=zipcodesByB[0][i]\n",
      "#     return zipDiction\n",
      "\n",
      "def PickZipCode(Lat,Long, zipcodes_NY):\n",
      "    #first pick min latitude    \n",
      "    minLong = min(zipcodes_NY.longitude.tolist(), key=lambda x:abs(x-Long))\n",
      "    minLat = min(zipcodes_NY[zipcodes_NY.longitude == minLong].latitude.tolist(), key=lambda x:abs(x-Lat))\n",
      "#     print minLat,minLong\n",
      "    z = zipcodes_NY[((zipcodes_NY.longitude==minLong)&(zipcodes_NY.latitude==minLat))][\"zip\"].tolist()[0]\n",
      "#     print z, zipDiction.keys()\n",
      "#     area = zipDiction[z]\n",
      "#     print area\n",
      "    return z#,area\n",
      "\n",
      "def AssignZipcodes(df,field):\n",
      "    count = df.count()[0]\n",
      "    zipz = [0]*count\n",
      "#     area = [\"X\"]*count\n",
      "#     zipDiction = GetZipCodesByBurough()\n",
      "    print count#, zipDiction.length\n",
      "    nyc_df = pd.read_csv(\"../../../nycitydata.csv\")\n",
      "    A = nyc_df.zipcodes.tolist()\n",
      "    zipcodes_NY = pd.read_csv(\"../../../zipcode_NYC.csv\")\n",
      "    zipcodes_NY = zipcodes_NY[zipcodes_NY.state==\"NY\"]\n",
      "    zipcodes_NY.count()\n",
      "    B = zipcodes_NY.zip.tolist()\n",
      "    keepList = [x for x in B if x in A]\n",
      "    zipcodes_NY = zipcodes_NY[zipcodes_NY.zip.isin(keepList)]\n",
      "    try:\n",
      "        for i in range(count):\n",
      "            if i%10000 == 0:#test\n",
      "                print i\n",
      "            zipz[i] = PickZipCode(df[\" \"+field+\"_latitude\"][i],df[\" \"+field+\"_longitude\"][i], zipcodes_NY)\n",
      "    except:\n",
      "        print \"exception \"+str(i)\n",
      "    df[field+\"zipz\"]=zipz\n",
      "#     df[field+\"area\"]=area"
     ],
     "language": "python",
     "metadata": {},
     "outputs": [],
     "prompt_number": 11
    },
    {
     "cell_type": "code",
     "collapsed": false,
     "input": [
      "def GetNYCityDataByZipCode():\n",
      "    nyc_df = pd.read_csv(\"../../../nycitydata.csv\")\n",
      "    zipDiction={}\n",
      "    for i in range(nyc_df.count()[0]):\n",
      "        zipDiction[nyc_df.zipcodes[i]] = [nyc_df.costOfLivingIndex[i],nyc_df.populationDensity[i],nyc_df.percentageMales[i],nyc_df.medianHouseholdIncome[i]]     \n",
      "    return zipDiction   "
     ],
     "language": "python",
     "metadata": {},
     "outputs": [],
     "prompt_number": 12
    },
    {
     "cell_type": "code",
     "collapsed": false,
     "input": [
      "# z = GetNYCityDataByZipCode()"
     ],
     "language": "python",
     "metadata": {},
     "outputs": []
    },
    {
     "cell_type": "code",
     "collapsed": false,
     "input": [
      "def AddCityData(df,field):\n",
      "    count = df.count()[0]\n",
      "    COLI = [0]*count\n",
      "    PD = [0]*count\n",
      "    PM = [0]*count\n",
      "    MHI = [0]*count\n",
      "    diction = GetNYCityDataByZipCode()\n",
      "#     area = [\"X\"]*count\n",
      "#     zipDiction = GetZipCodesByBurough()\n",
      "    print count#, zipDiction.length\n",
      "    try:\n",
      "        for i in range(count):\n",
      "            if i%10000 == 0:#test\n",
      "                print i\n",
      "            temp = diction[df[field+\"zipz\"][i]]\n",
      "            COLI[i] = temp[0]\n",
      "            PD[i] = temp[1]\n",
      "            PM[i] = temp[2]\n",
      "            MHI[i] = temp[3]\n",
      "    except:\n",
      "        print \"exception \"+str(i)\n",
      "    df[field+\"CostOfLivingIndex\"]=COLI\n",
      "    df[field+\"PopulationDensity\"]=PD\n",
      "    df[field+\"PercentageMale\"]=PM\n",
      "    df[field+\"MedianHouseHoldIncome\"]=MHI\n",
      "    "
     ],
     "language": "python",
     "metadata": {},
     "outputs": [],
     "prompt_number": 13
    },
    {
     "cell_type": "code",
     "collapsed": false,
     "input": [],
     "language": "python",
     "metadata": {},
     "outputs": [],
     "prompt_number": 50
    },
    {
     "cell_type": "code",
     "collapsed": false,
     "input": [
      "AssignZipcodes(df,\"pickup\")\n",
      "# master_df.to_csv(\"zipitworks.csv\")\n",
      "AddCityData(df,\"pickup\")\n",
      "# master_df.to_csv(\"allofitworks.csv\")\n"
     ],
     "language": "python",
     "metadata": {},
     "outputs": [
      {
       "output_type": "stream",
       "stream": "stdout",
       "text": [
        "198208\n",
        "0"
       ]
      },
      {
       "output_type": "stream",
       "stream": "stdout",
       "text": [
        "\n",
        "10000"
       ]
      },
      {
       "output_type": "stream",
       "stream": "stdout",
       "text": [
        "\n",
        "20000"
       ]
      },
      {
       "output_type": "stream",
       "stream": "stdout",
       "text": [
        "\n",
        "30000"
       ]
      },
      {
       "output_type": "stream",
       "stream": "stdout",
       "text": [
        "\n",
        "40000"
       ]
      },
      {
       "output_type": "stream",
       "stream": "stdout",
       "text": [
        "\n",
        "50000"
       ]
      },
      {
       "output_type": "stream",
       "stream": "stdout",
       "text": [
        "\n",
        "60000"
       ]
      },
      {
       "output_type": "stream",
       "stream": "stdout",
       "text": [
        "\n",
        "70000"
       ]
      },
      {
       "output_type": "stream",
       "stream": "stdout",
       "text": [
        "\n",
        "80000"
       ]
      },
      {
       "output_type": "stream",
       "stream": "stdout",
       "text": [
        "\n",
        "90000"
       ]
      },
      {
       "output_type": "stream",
       "stream": "stdout",
       "text": [
        "\n",
        "100000"
       ]
      },
      {
       "output_type": "stream",
       "stream": "stdout",
       "text": [
        "\n",
        "110000"
       ]
      },
      {
       "output_type": "stream",
       "stream": "stdout",
       "text": [
        "\n",
        "120000"
       ]
      },
      {
       "output_type": "stream",
       "stream": "stdout",
       "text": [
        "\n",
        "130000"
       ]
      },
      {
       "output_type": "stream",
       "stream": "stdout",
       "text": [
        "\n",
        "140000"
       ]
      },
      {
       "output_type": "stream",
       "stream": "stdout",
       "text": [
        "\n",
        "150000"
       ]
      },
      {
       "output_type": "stream",
       "stream": "stdout",
       "text": [
        "\n",
        "160000"
       ]
      },
      {
       "output_type": "stream",
       "stream": "stdout",
       "text": [
        "\n",
        "170000"
       ]
      },
      {
       "output_type": "stream",
       "stream": "stdout",
       "text": [
        "\n",
        "180000"
       ]
      },
      {
       "output_type": "stream",
       "stream": "stdout",
       "text": [
        "\n",
        "190000"
       ]
      },
      {
       "output_type": "stream",
       "stream": "stdout",
       "text": [
        "\n",
        "198208"
       ]
      },
      {
       "output_type": "stream",
       "stream": "stdout",
       "text": [
        "\n",
        "0\n",
        "10000"
       ]
      },
      {
       "output_type": "stream",
       "stream": "stdout",
       "text": [
        "\n",
        "20000"
       ]
      },
      {
       "output_type": "stream",
       "stream": "stdout",
       "text": [
        "\n",
        "30000"
       ]
      },
      {
       "output_type": "stream",
       "stream": "stdout",
       "text": [
        "\n",
        "40000"
       ]
      },
      {
       "output_type": "stream",
       "stream": "stdout",
       "text": [
        "\n",
        "50000"
       ]
      },
      {
       "output_type": "stream",
       "stream": "stdout",
       "text": [
        "\n",
        "60000"
       ]
      },
      {
       "output_type": "stream",
       "stream": "stdout",
       "text": [
        "\n",
        "70000"
       ]
      },
      {
       "output_type": "stream",
       "stream": "stdout",
       "text": [
        "\n",
        "80000"
       ]
      },
      {
       "output_type": "stream",
       "stream": "stdout",
       "text": [
        "\n",
        "90000"
       ]
      },
      {
       "output_type": "stream",
       "stream": "stdout",
       "text": [
        "\n",
        "100000"
       ]
      },
      {
       "output_type": "stream",
       "stream": "stdout",
       "text": [
        "\n",
        "110000"
       ]
      },
      {
       "output_type": "stream",
       "stream": "stdout",
       "text": [
        "\n",
        "120000"
       ]
      },
      {
       "output_type": "stream",
       "stream": "stdout",
       "text": [
        "\n",
        "130000"
       ]
      },
      {
       "output_type": "stream",
       "stream": "stdout",
       "text": [
        "\n",
        "140000"
       ]
      },
      {
       "output_type": "stream",
       "stream": "stdout",
       "text": [
        "\n",
        "150000"
       ]
      },
      {
       "output_type": "stream",
       "stream": "stdout",
       "text": [
        "\n",
        "160000"
       ]
      },
      {
       "output_type": "stream",
       "stream": "stdout",
       "text": [
        "\n",
        "170000"
       ]
      },
      {
       "output_type": "stream",
       "stream": "stdout",
       "text": [
        "\n",
        "180000"
       ]
      },
      {
       "output_type": "stream",
       "stream": "stdout",
       "text": [
        "\n",
        "190000"
       ]
      },
      {
       "output_type": "stream",
       "stream": "stdout",
       "text": [
        "\n"
       ]
      }
     ],
     "prompt_number": 14
    },
    {
     "cell_type": "markdown",
     "metadata": {},
     "source": [
      "###CREATE NEW FEATURES\n",
      "\n",
      "####Time Based"
     ]
    },
    {
     "cell_type": "code",
     "collapsed": false,
     "input": [
      "InterpretPickupTime(df, \" pickup_datetime\")\n",
      "InterpretPickupTime(df, \" dropoff_datetime\")"
     ],
     "language": "python",
     "metadata": {},
     "outputs": [],
     "prompt_number": 16
    },
    {
     "cell_type": "code",
     "collapsed": false,
     "input": [
      "df.to_csv(\"newfinal.csv\")"
     ],
     "language": "python",
     "metadata": {},
     "outputs": [],
     "prompt_number": 17
    },
    {
     "cell_type": "markdown",
     "metadata": {},
     "source": [
      "####Tip Based"
     ]
    },
    {
     "cell_type": "code",
     "collapsed": false,
     "input": [
      "CalculateTipClasses(df)"
     ],
     "language": "python",
     "metadata": {},
     "outputs": [
      {
       "output_type": "stream",
       "stream": "stdout",
       "text": [
        "198208\n"
       ]
      }
     ],
     "prompt_number": 18
    },
    {
     "cell_type": "code",
     "collapsed": false,
     "input": [
      "CalculateTipNoTip(df)"
     ],
     "language": "python",
     "metadata": {},
     "outputs": [],
     "prompt_number": 19
    },
    {
     "cell_type": "code",
     "collapsed": false,
     "input": [
      "CalcuateTipPercentage(df)"
     ],
     "language": "python",
     "metadata": {},
     "outputs": [],
     "prompt_number": 20
    },
    {
     "cell_type": "markdown",
     "metadata": {},
     "source": [
      "####Location Based"
     ]
    },
    {
     "cell_type": "code",
     "collapsed": false,
     "input": [
      "# kuts = df[:100]\n",
      "# AssignZipcodes(df, 'pickup')\n",
      "# AssignZipcodes(df, 'dropoff')"
     ],
     "language": "python",
     "metadata": {},
     "outputs": []
    },
    {
     "cell_type": "markdown",
     "metadata": {},
     "source": [
      "###MODELS"
     ]
    },
    {
     "cell_type": "markdown",
     "metadata": {},
     "source": [
      "####Utils for models"
     ]
    },
    {
     "cell_type": "code",
     "collapsed": false,
     "input": [
      "def plot_confusion_matrix(true, pred, title='Normalized Confusion matrix', cmap=plt.cm.Blues):\n",
      "    cm = sklearn.metrics.confusion_matrix(true, pred)\n",
      "    cm_normalized = cm.astype('float') / cm.sum(axis=1)[:, np.newaxis]\n",
      "    plt.imshow(cm_normalized, interpolation='nearest', cmap=cmap)\n",
      "    plt.title(title)\n",
      "    plt.colorbar()\n",
      "#     tick_marks = np.arange(len(iris.target_names))\n",
      "#     plt.xticks(tick_marks, iris.target_names, rotation=45)\n",
      "#     plt.yticks(tick_marks, iris.target_names)\n",
      "    plt.tight_layout()\n",
      "    plt.ylabel('True label')\n",
      "    plt.xlabel('Predicted label')\n",
      "\n",
      "def run_SVM(X_train, Y_train, Y_dev, run=True):\n",
      "    svm_clf = svm.SVC(kernel='rbf')\n",
      "    if not run:\n",
      "        return svm_clf\n",
      "    svm_clf.fit(X_train, Y_train.reshape(Y_train.shape[0],))\n",
      "    Y_pred_dev = svm_clf.predict(X_dev)\n",
      "    plot_confusion_matrix(Y_dev, Y_pred_dev)\n",
      "    SVM_acc = float(sum(map(lambda x,y : x==y, Y_pred_dev, Y_dev)))/len(Y_dev)\n",
      "    print \"SVM RBF Kernel set accuracy: %f\" %((SVM_acc)*100)\n",
      "\n",
      "def run_decision_tree(X_train, Y_train, Y_dev, run=True):\n",
      "    dtc_clf = tree.DecisionTreeClassifier()\n",
      "    if not run:\n",
      "        return dtc_clf\n",
      "    dtc_clf.fit(X_train, Y_train)\n",
      "    Y_pred_dev1 = dtc_clf.predict(X_dev)\n",
      "    plot_confusion_matrix(Y_dev, Y_pred_dev1)\n",
      "    DTC_acc = float(sum(map(lambda x,y : x==y, Y_pred_dev1, Y_dev)))/len(Y_dev)\n",
      "    print \"DRC set accuracy: %f\" %((DTC_acc)*100)\n",
      "    print \"Most important features are:\" , dtc_clf.feature_importances_\n",
      "    \n",
      "def run_random_forests(X_train, Y_train, Y_dev, run=True):\n",
      "    rf_clf = RandomForestClassifier(n_estimators=10)\n",
      "    if not run:\n",
      "        return rf_clf\n",
      "    rf_clf.fit(X_train, Y_train)\n",
      "    Y_pred_dev1 = rf_clf.predict(X_dev)\n",
      "    plot_confusion_matrix(Y_dev, Y_pred_dev1)\n",
      "    DTC_acc = float(sum(map(lambda x,y : x==y, Y_pred_dev1, Y_dev)))/len(Y_dev)\n",
      "    print \"RF set accuracy: %f\" %((DTC_acc)*100)\n",
      "    \n",
      "def run_Adaboost(X_train, Y_train, Y_dev, run=True):\n",
      "    adb_clf = AdaBoostClassifier(n_estimators=20)\n",
      "    if not run:\n",
      "        return adb_clf\n",
      "    adb_clf.fit(X_train, Y_train)\n",
      "    Y_pred_dev1 = adb_clf.predict(X_dev)\n",
      "    plot_confusion_matrix(Y_dev, Y_pred_dev1)\n",
      "    DTC_acc = float(sum(map(lambda x,y : x==y, Y_pred_dev1, Y_dev)))/len(Y_dev)\n",
      "    print \"Adaboost set accuracy: %f\" %((DTC_acc)*100)\n",
      "\n",
      "def cv_clf(clf, data, target, n = 5):\n",
      "    scores = cross_validation.cross_val_score(clf, data, target, cv=n)\n",
      "    print 'individual scores: ', scores\n",
      "    print \"CV Accuracy: %0.2f (+/- %0.2f)\" % (scores.mean(), scores.std() / 2)"
     ],
     "language": "python",
     "metadata": {},
     "outputs": [],
     "prompt_number": 34
    },
    {
     "cell_type": "code",
     "collapsed": false,
     "input": [
      "print [(col, pd.isnull(df[col]).sum()) for col in df.columns]"
     ],
     "language": "python",
     "metadata": {},
     "outputs": [
      {
       "output_type": "stream",
       "stream": "stdout",
       "text": [
        "[('Unnamed: 0', 0), ('Unnamed: 0.1', 0), ('medallion', 0), (' hack_license', 0), (' vendor_id_x', 0), (' rate_code', 0), (' pickup_datetime', 0), (' dropoff_datetime', 0), (' passenger_count', 0), (' trip_time_in_secs', 0), (' trip_distance', 0), (' pickup_longitude', 0), (' pickup_latitude', 0), (' dropoff_longitude', 0), (' dropoff_latitude', 0), (' vendor_id_y', 0), (' payment_type', 0), (' fare_amount', 0), (' surcharge', 0), (' mta_tax', 0), (' tip_amount', 0), (' tolls_amount', 0), (' total_amount', 0), ('pickupzipz', 0), ('pickupCostOfLivingIndex', 0), ('pickupPopulationDensity', 0), ('pickupPercentageMale', 0), ('pickupMedianHouseHoldIncome', 0), (' pickup_datetimemonth', 0), (' pickup_datetimehourOfDay', 0), (' pickup_datetimedayOfWeek', 0), (' pickup_datetimeweekend', 0), (' pickup_datetimetimegroup', 0), (' dropoff_datetimemonth', 0), (' dropoff_datetimehourOfDay', 0), (' dropoff_datetimedayOfWeek', 0), (' dropoff_datetimeweekend', 0), (' dropoff_datetimetimegroup', 0), ('tip_class', 0), ('tip_no_tip', 0), ('tip_percent_class', 0)]\n"
       ]
      }
     ],
     "prompt_number": 22
    },
    {
     "cell_type": "code",
     "collapsed": false,
     "input": [
      "def GetTrainingAndTest(df):\n",
      "    tr = int(math.floor(0.7*df.count()[0]))\n",
      "    training = df[0:tr]\n",
      "    test = df[tr:]\n",
      "    return training,test"
     ],
     "language": "python",
     "metadata": {},
     "outputs": [],
     "prompt_number": 23
    },
    {
     "cell_type": "code",
     "collapsed": false,
     "input": [
      "feature_cols = [ ' fare_amount', ' payment_type', ' tolls_amount']#, ' trip_distance']#, ' trip_time_in_secs',\\\n",
      "                #' passenger_count']#, ' pickup_datetimeweekend', ' dropoff_datetimeweekend']"
     ],
     "language": "python",
     "metadata": {},
     "outputs": [],
     "prompt_number": 24
    },
    {
     "cell_type": "markdown",
     "metadata": {},
     "source": [
      "###Tip No-Tip Classification Model"
     ]
    },
    {
     "cell_type": "code",
     "collapsed": false,
     "input": [
      "train_df,test_df = GetTrainingAndTest(df)\n",
      "dvec = DictVectorizer()\n",
      "dict_df = train_df[feature_cols].T.to_dict().values()\n",
      "train_data = pd.DataFrame(dvec.fit_transform(dict_df).toarray())\n",
      "\n",
      "dict_df = test_df[feature_cols].T.to_dict().values()\n",
      "test_data = pd.DataFrame(dvec.transform(dict_df).toarray())\n",
      "\n",
      "X_train = train_data\n",
      "Y_train =  train_df['tip_no_tip'].reshape(len(train_df['tip_no_tip']), 1)\n",
      "\n",
      "X_dev = test_data\n",
      "Y_dev = test_df['tip_no_tip'].reshape(len(test_df['tip_no_tip']), 1)\n",
      "\n",
      "# train_df,test_df = GetTrainingAndTest(df)\n",
      "# X_train = train_df[feature_cols]\n",
      "# Y_train =  train_df['tip_no_tip'].reshape(len(train_df['tip_no_tip']), 1)\n",
      "\n",
      "# X_dev = test_df[feature_cols]\n",
      "# Y_dev = test_df['tip_no_tip'].reshape(len(test_df['tip_no_tip']), 1)"
     ],
     "language": "python",
     "metadata": {},
     "outputs": [],
     "prompt_number": 25
    },
    {
     "cell_type": "code",
     "collapsed": false,
     "input": [
      "dvec = DictVectorizer()\n",
      "dict_df = df[feature_cols].T.to_dict().values()\n",
      "data = pd.DataFrame(dvec.fit_transform(dict_df).toarray())\n",
      "target = df['tip_no_tip'].reshape(len(df['tip_no_tip']), 1)\n",
      "print data.shape, target.shape\n",
      "\n",
      "# target = df['tip_no_tip'].reshape(len(df['tip_no_tip']), 1)\n",
      "# data = df[feature_cols]"
     ],
     "language": "python",
     "metadata": {},
     "outputs": [
      {
       "output_type": "stream",
       "stream": "stdout",
       "text": [
        "(198208, 6) (198208, 1)\n"
       ]
      }
     ],
     "prompt_number": 26
    },
    {
     "cell_type": "code",
     "collapsed": false,
     "input": [
      "print len(df[df['tip_no_tip'] == 1])"
     ],
     "language": "python",
     "metadata": {},
     "outputs": [
      {
       "output_type": "stream",
       "stream": "stdout",
       "text": [
        "103735\n"
       ]
      }
     ],
     "prompt_number": 27
    },
    {
     "cell_type": "markdown",
     "metadata": {},
     "source": [
      "####Support Vector Machine Classifier"
     ]
    },
    {
     "cell_type": "code",
     "collapsed": false,
     "input": [
      "run_SVM(X_train, Y_train, Y_dev)\n",
      "svm_clf = run_SVM(X_train, Y_train, Y_dev, False)\n",
      "cv_clf(svm_clf, data, target)"
     ],
     "language": "python",
     "metadata": {},
     "outputs": [
      {
       "output_type": "stream",
       "stream": "stderr",
       "text": [
        "/usr/lib/python2.7/dist-packages/sklearn/svm/base.py:440: DataConversionWarning: A column-vector y was passed when a 1d array was expected. Please change the shape of y to (n_samples, ), for example using ravel().\n",
        "  y = column_or_1d(y, warn=True)\n",
        "/usr/lib/python2.7/dist-packages/sklearn/svm/base.py:440: DataConversionWarning: A column-vector y was passed when a 1d array was expected. Please change the shape of y to (n_samples, ), for example using ravel().\n",
        "  y = column_or_1d(y, warn=True)\n"
       ]
      },
      {
       "output_type": "stream",
       "stream": "stderr",
       "text": [
        "/usr/lib/python2.7/dist-packages/sklearn/svm/base.py:440: DataConversionWarning: A column-vector y was passed when a 1d array was expected. Please change the shape of y to (n_samples, ), for example using ravel().\n",
        "  y = column_or_1d(y, warn=True)\n",
        "/usr/lib/python2.7/dist-packages/sklearn/svm/base.py:440: DataConversionWarning: A column-vector y was passed when a 1d array was expected. Please change the shape of y to (n_samples, ), for example using ravel().\n",
        "  y = column_or_1d(y, warn=True)\n"
       ]
      },
      {
       "output_type": "stream",
       "stream": "stdout",
       "text": [
        "SVM RBF Kernel set accuracy: 98.163333\n",
        "individual scores: "
       ]
      },
      {
       "output_type": "stream",
       "stream": "stdout",
       "text": [
        " [ 1.  1.  1.  1.  1.]\n",
        "CV Accuracy: 1.00 (+/- 0.00)\n"
       ]
      },
      {
       "output_type": "stream",
       "stream": "stderr",
       "text": [
        "/usr/lib/python2.7/dist-packages/sklearn/svm/base.py:440: DataConversionWarning: A column-vector y was passed when a 1d array was expected. Please change the shape of y to (n_samples, ), for example using ravel().\n",
        "  y = column_or_1d(y, warn=True)\n"
       ]
      }
     ],
     "prompt_number": 55
    },
    {
     "cell_type": "markdown",
     "metadata": {},
     "source": [
      "####Decision Tree Classifier"
     ]
    },
    {
     "cell_type": "code",
     "collapsed": false,
     "input": [
      "run_decision_tree(X_train, Y_train, Y_dev)\n",
      "dtc = run_decision_tree(data, target, Y_dev, False)\n",
      "cv_clf(dtc, data, target)"
     ],
     "language": "python",
     "metadata": {},
     "outputs": [
      {
       "output_type": "stream",
       "stream": "stdout",
       "text": [
        "DRC set accuracy: 98.249332\n",
        "Most important features are: [  1.55797351e-03   9.97953731e-01   4.67988449e-11   3.84344380e-07\n",
        "   0.00000000e+00   4.87910936e-04]\n",
        "individual scores: "
       ]
      },
      {
       "output_type": "stream",
       "stream": "stdout",
       "text": [
        " [ 1.  1.  1.  1.  1.]\n",
        "CV Accuracy: 1.00 (+/- 0.00)\n"
       ]
      },
      {
       "metadata": {},
       "output_type": "display_data",
       "png": "[encoded data removed]",
       "text": [
        "<matplotlib.figure.Figure at 0x7f87c4e0cc50>"
       ]
      }
     ],
     "prompt_number": 35
    },
    {
     "cell_type": "markdown",
     "metadata": {},
     "source": [
      "#### Random Forest Classifier"
     ]
    },
    {
     "cell_type": "code",
     "collapsed": false,
     "input": [
      "run_random_forests(X_train, Y_train, Y_dev)"
     ],
     "language": "python",
     "metadata": {},
     "outputs": [
      {
       "output_type": "stream",
       "stream": "stdout",
       "text": [
        "RF set accuracy: 98.259451\n"
       ]
      },
      {
       "output_type": "stream",
       "stream": "stderr",
       "text": [
        "-c:38: DataConversionWarning: A column-vector y was passed when a 1d array was expected. Please change the shape of y to (n_samples, ), for example using ravel().\n"
       ]
      },
      {
       "metadata": {},
       "output_type": "display_data",
       "png": "[encoded data removed]",
       "text": [
        "<matplotlib.figure.Figure at 0x7f33023905d0>"
       ]
      }
     ],
     "prompt_number": 22
    },
    {
     "cell_type": "markdown",
     "metadata": {},
     "source": [
      "#### Adaboost Classifier using "
     ]
    },
    {
     "cell_type": "code",
     "collapsed": false,
     "input": [
      "run_Adaboost(X_train, Y_train, Y_dev)"
     ],
     "language": "python",
     "metadata": {},
     "outputs": [
      {
       "output_type": "stream",
       "stream": "stdout",
       "text": [
        "Adaboost set accuracy: 98.299812\n"
       ]
      },
      {
       "output_type": "stream",
       "stream": "stderr",
       "text": [
        "/usr/lib/python2.7/dist-packages/sklearn/ensemble/weight_boosting.py:95: DataConversionWarning: A column-vector y was passed when a 1d array was expected. Please change the shape of y to (n_samples, ), for example using ravel().\n",
        "  y = column_or_1d(y, warn=True)\n"
       ]
      },
      {
       "metadata": {},
       "output_type": "display_data",
       "png": "[encoded data removed]",
       "text": [
        "<matplotlib.figure.Figure at 0x7f32f3d0a350>"
       ]
      }
     ],
     "prompt_number": 23
    },
    {
     "cell_type": "markdown",
     "metadata": {},
     "source": [
      "###Non zero Tip Classification Model"
     ]
    },
    {
     "cell_type": "code",
     "collapsed": false,
     "input": [
      "feature_cols = [ ' fare_amount', ' tolls_amount']#, ' trip_distance']#, ' trip_time_in_secs',\\\n",
      "                #' passenger_count']#, ' pickup_datetimeweekend', ' dropoff_datetimeweekend']"
     ],
     "language": "python",
     "metadata": {},
     "outputs": [],
     "prompt_number": 49
    },
    {
     "cell_type": "code",
     "collapsed": false,
     "input": [
      "df_tipnz= df[df[' tip_amount'] > 0.0]\n",
      "train_df,test_df = GetTrainingAndTest(df_tipnz)\n",
      "X_train = train_df[feature_cols]\n",
      "Y_train =  train_df['tip_class'].reshape(len(train_df['tip_class']), 1)\n",
      "\n",
      "X_dev = test_df[feature_cols]\n",
      "Y_dev = test_df['tip_class'].reshape(len(test_df['tip_class']), 1)"
     ],
     "language": "python",
     "metadata": {},
     "outputs": [],
     "prompt_number": 50
    },
    {
     "cell_type": "code",
     "collapsed": false,
     "input": [
      "target = df_tipnz['tip_class'].reshape(len(df_tipnz['tip_class']), 1)\n",
      "data = df_tipnz[feature_cols]"
     ],
     "language": "python",
     "metadata": {},
     "outputs": [],
     "prompt_number": 51
    },
    {
     "cell_type": "markdown",
     "metadata": {},
     "source": [
      "####Support Vector Machine Classifier"
     ]
    },
    {
     "cell_type": "code",
     "collapsed": false,
     "input": [
      "run_SVM(X_train, Y_train, Y_dev)"
     ],
     "language": "python",
     "metadata": {},
     "outputs": []
    },
    {
     "cell_type": "markdown",
     "metadata": {},
     "source": [
      "####Decision Tree Classifier"
     ]
    },
    {
     "cell_type": "code",
     "collapsed": false,
     "input": [
      "run_decision_tree(X_train, Y_train, Y_dev)"
     ],
     "language": "python",
     "metadata": {},
     "outputs": [
      {
       "output_type": "stream",
       "stream": "stdout",
       "text": [
        "DRC set accuracy: 68.002314\n"
       ]
      },
      {
       "metadata": {},
       "output_type": "display_data",
       "png": "[encoded data removed]",
       "text": [
        "<matplotlib.figure.Figure at 0x7fe838ffbfd0>"
       ]
      }
     ],
     "prompt_number": 52
    },
    {
     "cell_type": "code",
     "collapsed": false,
     "input": [
      "run_random_forests(X_train, Y_train, Y_dev)"
     ],
     "language": "python",
     "metadata": {},
     "outputs": [
      {
       "output_type": "stream",
       "stream": "stdout",
       "text": [
        "RF set accuracy: 68.008740\n"
       ]
      },
      {
       "output_type": "stream",
       "stream": "stderr",
       "text": [
        "-c:38: DataConversionWarning: A column-vector y was passed when a 1d array was expected. Please change the shape of y to (n_samples, ), for example using ravel().\n"
       ]
      },
      {
       "metadata": {},
       "output_type": "display_data",
       "png": "[encoded data removed]",
       "text": [
        "<matplotlib.figure.Figure at 0x7fe838fe50d0>"
       ]
      }
     ],
     "prompt_number": 53
    },
    {
     "cell_type": "code",
     "collapsed": false,
     "input": [
      "run_Adaboost(X_train, Y_train, Y_dev)"
     ],
     "language": "python",
     "metadata": {},
     "outputs": [
      {
       "output_type": "stream",
       "stream": "stdout",
       "text": [
        "Adaboost set accuracy: 66.726648\n"
       ]
      },
      {
       "output_type": "stream",
       "stream": "stderr",
       "text": [
        "/usr/lib/python2.7/dist-packages/sklearn/ensemble/weight_boosting.py:95: DataConversionWarning: A column-vector y was passed when a 1d array was expected. Please change the shape of y to (n_samples, ), for example using ravel().\n",
        "  y = column_or_1d(y, warn=True)\n"
       ]
      },
      {
       "metadata": {},
       "output_type": "display_data",
       "png": "[encoded data removed]",
       "text": [
        "<matplotlib.figure.Figure at 0x7fe838f12490>"
       ]
      }
     ],
     "prompt_number": 54
    },
    {
     "cell_type": "markdown",
     "metadata": {},
     "source": [
      "###Tip Classification Model"
     ]
    },
    {
     "cell_type": "code",
     "collapsed": false,
     "input": [
      "feature_cols = [ ' fare_amount', ' payment_type', ' tolls_amount']#, ' trip_distance']#, ' trip_time_in_secs',\\\n",
      "                #' passenger_count']#, ' pickup_datetimeweekend', ' dropoff_datetimeweekend']"
     ],
     "language": "python",
     "metadata": {},
     "outputs": [],
     "prompt_number": 41
    },
    {
     "cell_type": "code",
     "collapsed": false,
     "input": [
      "train_df,test_df = GetTrainingAndTest(df)\n",
      "\n",
      "# dvec = DictVectorizer()\n",
      "# dict_df = train_df[feature_cols].T.to_dict().values()\n",
      "# train_data = pd.DataFrame(dvec.fit_transform(dict_df).toarray())\n",
      "\n",
      "# dict_df = test_df[feature_cols].T.to_dict().values()\n",
      "# test_data = pd.DataFrame(dvec.transform(dict_df).toarray())\n",
      "\n",
      "# X_train = train_data\n",
      "X_train = train_df[feature_cols]\n",
      "Y_train =  train_df['tip_class'].reshape(len(train_df['tip_class']), 1)\n",
      "\n",
      "# X_dev = test_data\n",
      "X_dev = test_df[feature_cols]\n",
      "Y_dev = test_df['tip_class'].reshape(len(test_df['tip_class']), 1)\n",
      "# X_train[' payment_type'].unique()"
     ],
     "language": "python",
     "metadata": {},
     "outputs": [],
     "prompt_number": 42
    },
    {
     "cell_type": "code",
     "collapsed": false,
     "input": [
      "# dvec = DictVectorizer()\n",
      "# dict_df = df[feature_cols].T.to_dict().values()\n",
      "# data = pd.DataFrame(dvec.fit_transform(dict_df).toarray())\n",
      "target = df['tip_class'].reshape(len(df['tip_class']), 1)\n",
      "# # print data.shape, target.shape\n",
      "data = df[feature_cols]"
     ],
     "language": "python",
     "metadata": {},
     "outputs": [],
     "prompt_number": 43
    },
    {
     "cell_type": "markdown",
     "metadata": {},
     "source": [
      "####Support Vector Machine Classifier"
     ]
    },
    {
     "cell_type": "code",
     "collapsed": false,
     "input": [
      "run_SVM(X_train, Y_train, Y_dev)"
     ],
     "language": "python",
     "metadata": {},
     "outputs": [
      {
       "ename": "ValueError",
       "evalue": "could not convert string to float: CSH",
       "output_type": "pyerr",
       "traceback": [
        "\u001b[0;31m---------------------------------------------------------------------------\u001b[0m\n\u001b[0;31mValueError\u001b[0m                                Traceback (most recent call last)",
        "\u001b[0;32m<ipython-input-38-4b8b2661f956>\u001b[0m in \u001b[0;36m<module>\u001b[0;34m()\u001b[0m\n\u001b[0;32m----> 1\u001b[0;31m \u001b[0mrun_SVM\u001b[0m\u001b[0;34m(\u001b[0m\u001b[0mX_train\u001b[0m\u001b[0;34m,\u001b[0m \u001b[0mY_train\u001b[0m\u001b[0;34m,\u001b[0m \u001b[0mY_dev\u001b[0m\u001b[0;34m)\u001b[0m\u001b[0;34m\u001b[0m\u001b[0m\n\u001b[0m",
        "\u001b[0;32m<ipython-input-14-e18575cc6aa6>\u001b[0m in \u001b[0;36mrun_SVM\u001b[0;34m(X_train, Y_train, Y_dev, run)\u001b[0m\n\u001b[1;32m     16\u001b[0m     \u001b[0;32mif\u001b[0m \u001b[0;32mnot\u001b[0m \u001b[0mrun\u001b[0m\u001b[0;34m:\u001b[0m\u001b[0;34m\u001b[0m\u001b[0m\n\u001b[1;32m     17\u001b[0m         \u001b[0;32mreturn\u001b[0m \u001b[0msvm_clf\u001b[0m\u001b[0;34m\u001b[0m\u001b[0m\n\u001b[0;32m---> 18\u001b[0;31m     \u001b[0msvm_clf\u001b[0m\u001b[0;34m.\u001b[0m\u001b[0mfit\u001b[0m\u001b[0;34m(\u001b[0m\u001b[0mX_train\u001b[0m\u001b[0;34m,\u001b[0m \u001b[0mY_train\u001b[0m\u001b[0;34m.\u001b[0m\u001b[0mreshape\u001b[0m\u001b[0;34m(\u001b[0m\u001b[0mY_train\u001b[0m\u001b[0;34m.\u001b[0m\u001b[0mshape\u001b[0m\u001b[0;34m[\u001b[0m\u001b[0;36m0\u001b[0m\u001b[0;34m]\u001b[0m\u001b[0;34m,\u001b[0m\u001b[0;34m)\u001b[0m\u001b[0;34m)\u001b[0m\u001b[0;34m\u001b[0m\u001b[0m\n\u001b[0m\u001b[1;32m     19\u001b[0m     \u001b[0mY_pred_dev\u001b[0m \u001b[0;34m=\u001b[0m \u001b[0msvm_clf\u001b[0m\u001b[0;34m.\u001b[0m\u001b[0mpredict\u001b[0m\u001b[0;34m(\u001b[0m\u001b[0mX_dev\u001b[0m\u001b[0;34m)\u001b[0m\u001b[0;34m\u001b[0m\u001b[0m\n\u001b[1;32m     20\u001b[0m     \u001b[0mplot_confusion_matrix\u001b[0m\u001b[0;34m(\u001b[0m\u001b[0mY_dev\u001b[0m\u001b[0;34m,\u001b[0m \u001b[0mY_pred_dev\u001b[0m\u001b[0;34m)\u001b[0m\u001b[0;34m\u001b[0m\u001b[0m\n",
        "\u001b[0;32m/usr/lib/python2.7/dist-packages/sklearn/svm/base.pyc\u001b[0m in \u001b[0;36mfit\u001b[0;34m(self, X, y, sample_weight)\u001b[0m\n\u001b[1;32m    137\u001b[0m                              \"by not using the ``sparse`` parameter\")\n\u001b[1;32m    138\u001b[0m \u001b[0;34m\u001b[0m\u001b[0m\n\u001b[0;32m--> 139\u001b[0;31m         \u001b[0mX\u001b[0m \u001b[0;34m=\u001b[0m \u001b[0matleast2d_or_csr\u001b[0m\u001b[0;34m(\u001b[0m\u001b[0mX\u001b[0m\u001b[0;34m,\u001b[0m \u001b[0mdtype\u001b[0m\u001b[0;34m=\u001b[0m\u001b[0mnp\u001b[0m\u001b[0;34m.\u001b[0m\u001b[0mfloat64\u001b[0m\u001b[0;34m,\u001b[0m \u001b[0morder\u001b[0m\u001b[0;34m=\u001b[0m\u001b[0;34m'C'\u001b[0m\u001b[0;34m)\u001b[0m\u001b[0;34m\u001b[0m\u001b[0m\n\u001b[0m\u001b[1;32m    140\u001b[0m         \u001b[0my\u001b[0m \u001b[0;34m=\u001b[0m \u001b[0mself\u001b[0m\u001b[0;34m.\u001b[0m\u001b[0m_validate_targets\u001b[0m\u001b[0;34m(\u001b[0m\u001b[0my\u001b[0m\u001b[0;34m)\u001b[0m\u001b[0;34m\u001b[0m\u001b[0m\n\u001b[1;32m    141\u001b[0m \u001b[0;34m\u001b[0m\u001b[0m\n",
        "\u001b[0;32m/usr/lib/python2.7/dist-packages/sklearn/utils/validation.pyc\u001b[0m in \u001b[0;36matleast2d_or_csr\u001b[0;34m(X, dtype, order, copy, force_all_finite)\u001b[0m\n\u001b[1;32m    132\u001b[0m     \"\"\"\n\u001b[1;32m    133\u001b[0m     return _atleast2d_or_sparse(X, dtype, order, copy, sparse.csr_matrix,\n\u001b[0;32m--> 134\u001b[0;31m                                 \"tocsr\", force_all_finite)\n\u001b[0m\u001b[1;32m    135\u001b[0m \u001b[0;34m\u001b[0m\u001b[0m\n\u001b[1;32m    136\u001b[0m \u001b[0;34m\u001b[0m\u001b[0m\n",
        "\u001b[0;32m/usr/lib/python2.7/dist-packages/sklearn/utils/validation.pyc\u001b[0m in \u001b[0;36m_atleast2d_or_sparse\u001b[0;34m(X, dtype, order, copy, sparse_class, convmethod, force_all_finite)\u001b[0m\n\u001b[1;32m    109\u001b[0m     \u001b[0;32melse\u001b[0m\u001b[0;34m:\u001b[0m\u001b[0;34m\u001b[0m\u001b[0m\n\u001b[1;32m    110\u001b[0m         X = array2d(X, dtype=dtype, order=order, copy=copy,\n\u001b[0;32m--> 111\u001b[0;31m                     force_all_finite=force_all_finite)\n\u001b[0m\u001b[1;32m    112\u001b[0m         \u001b[0;32mif\u001b[0m \u001b[0mforce_all_finite\u001b[0m\u001b[0;34m:\u001b[0m\u001b[0;34m\u001b[0m\u001b[0m\n\u001b[1;32m    113\u001b[0m             \u001b[0m_assert_all_finite\u001b[0m\u001b[0;34m(\u001b[0m\u001b[0mX\u001b[0m\u001b[0;34m)\u001b[0m\u001b[0;34m\u001b[0m\u001b[0m\n",
        "\u001b[0;32m/usr/lib/python2.7/dist-packages/sklearn/utils/validation.pyc\u001b[0m in \u001b[0;36marray2d\u001b[0;34m(X, dtype, order, copy, force_all_finite)\u001b[0m\n\u001b[1;32m     89\u001b[0m         raise TypeError('A sparse matrix was passed, but dense data '\n\u001b[1;32m     90\u001b[0m                         'is required. Use X.toarray() to convert to dense.')\n\u001b[0;32m---> 91\u001b[0;31m     \u001b[0mX_2d\u001b[0m \u001b[0;34m=\u001b[0m \u001b[0mnp\u001b[0m\u001b[0;34m.\u001b[0m\u001b[0masarray\u001b[0m\u001b[0;34m(\u001b[0m\u001b[0mnp\u001b[0m\u001b[0;34m.\u001b[0m\u001b[0matleast_2d\u001b[0m\u001b[0;34m(\u001b[0m\u001b[0mX\u001b[0m\u001b[0;34m)\u001b[0m\u001b[0;34m,\u001b[0m \u001b[0mdtype\u001b[0m\u001b[0;34m=\u001b[0m\u001b[0mdtype\u001b[0m\u001b[0;34m,\u001b[0m \u001b[0morder\u001b[0m\u001b[0;34m=\u001b[0m\u001b[0morder\u001b[0m\u001b[0;34m)\u001b[0m\u001b[0;34m\u001b[0m\u001b[0m\n\u001b[0m\u001b[1;32m     92\u001b[0m     \u001b[0;32mif\u001b[0m \u001b[0mforce_all_finite\u001b[0m\u001b[0;34m:\u001b[0m\u001b[0;34m\u001b[0m\u001b[0m\n\u001b[1;32m     93\u001b[0m         \u001b[0m_assert_all_finite\u001b[0m\u001b[0;34m(\u001b[0m\u001b[0mX_2d\u001b[0m\u001b[0;34m)\u001b[0m\u001b[0;34m\u001b[0m\u001b[0m\n",
        "\u001b[0;32m/usr/local/lib/python2.7/dist-packages/numpy/core/numeric.pyc\u001b[0m in \u001b[0;36masarray\u001b[0;34m(a, dtype, order)\u001b[0m\n\u001b[1;32m    460\u001b[0m \u001b[0;34m\u001b[0m\u001b[0m\n\u001b[1;32m    461\u001b[0m     \"\"\"\n\u001b[0;32m--> 462\u001b[0;31m     \u001b[0;32mreturn\u001b[0m \u001b[0marray\u001b[0m\u001b[0;34m(\u001b[0m\u001b[0ma\u001b[0m\u001b[0;34m,\u001b[0m \u001b[0mdtype\u001b[0m\u001b[0;34m,\u001b[0m \u001b[0mcopy\u001b[0m\u001b[0;34m=\u001b[0m\u001b[0mFalse\u001b[0m\u001b[0;34m,\u001b[0m \u001b[0morder\u001b[0m\u001b[0;34m=\u001b[0m\u001b[0morder\u001b[0m\u001b[0;34m)\u001b[0m\u001b[0;34m\u001b[0m\u001b[0m\n\u001b[0m\u001b[1;32m    463\u001b[0m \u001b[0;34m\u001b[0m\u001b[0m\n\u001b[1;32m    464\u001b[0m \u001b[0;32mdef\u001b[0m \u001b[0masanyarray\u001b[0m\u001b[0;34m(\u001b[0m\u001b[0ma\u001b[0m\u001b[0;34m,\u001b[0m \u001b[0mdtype\u001b[0m\u001b[0;34m=\u001b[0m\u001b[0mNone\u001b[0m\u001b[0;34m,\u001b[0m \u001b[0morder\u001b[0m\u001b[0;34m=\u001b[0m\u001b[0mNone\u001b[0m\u001b[0;34m)\u001b[0m\u001b[0;34m:\u001b[0m\u001b[0;34m\u001b[0m\u001b[0m\n",
        "\u001b[0;31mValueError\u001b[0m: could not convert string to float: CSH"
       ]
      }
     ],
     "prompt_number": 38
    },
    {
     "cell_type": "markdown",
     "metadata": {},
     "source": [
      "####Decision Tree Classifier"
     ]
    },
    {
     "cell_type": "code",
     "collapsed": false,
     "input": [
      "run_decision_tree(X_train, Y_train, Y_dev)\n",
      "dtc = run_decision_tree(data, target, Y_dev, False)\n",
      "cv_clf(dtc, data, target)"
     ],
     "language": "python",
     "metadata": {},
     "outputs": [
      {
       "output_type": "stream",
       "stream": "stdout",
       "text": [
        "DRC set accuracy: 81.565007\n",
        "individual scores: "
       ]
      },
      {
       "output_type": "stream",
       "stream": "stdout",
       "text": [
        " [ 1.  1.  1.  1.  1.]\n",
        "CV Accuracy: 1.00 (+/- 0.00)\n"
       ]
      },
      {
       "metadata": {},
       "output_type": "display_data",
       "png": "[encoded data removed]",
       "text": [
        "<matplotlib.figure.Figure at 0x7fe864293690>"
       ]
      }
     ],
     "prompt_number": 44
    },
    {
     "cell_type": "code",
     "collapsed": false,
     "input": [
      "run_random_forests(X_train, Y_train, Y_dev)"
     ],
     "language": "python",
     "metadata": {},
     "outputs": [
      {
       "output_type": "stream",
       "stream": "stdout",
       "text": [
        "RF set accuracy: 81.575097\n"
       ]
      },
      {
       "output_type": "stream",
       "stream": "stderr",
       "text": [
        "-c:38: DataConversionWarning: A column-vector y was passed when a 1d array was expected. Please change the shape of y to (n_samples, ), for example using ravel().\n"
       ]
      },
      {
       "metadata": {},
       "output_type": "display_data",
       "png": "[encoded data removed]",
       "text": [
        "<matplotlib.figure.Figure at 0x7fe82748e1d0>"
       ]
      }
     ],
     "prompt_number": 45
    },
    {
     "cell_type": "code",
     "collapsed": false,
     "input": [
      "run_Adaboost(X_train, Y_train, Y_dev)"
     ],
     "language": "python",
     "metadata": {},
     "outputs": [
      {
       "output_type": "stream",
       "stream": "stdout",
       "text": [
        "Adaboost set accuracy: 81.208483\n"
       ]
      },
      {
       "output_type": "stream",
       "stream": "stderr",
       "text": [
        "/usr/lib/python2.7/dist-packages/sklearn/ensemble/weight_boosting.py:95: DataConversionWarning: A column-vector y was passed when a 1d array was expected. Please change the shape of y to (n_samples, ), for example using ravel().\n",
        "  y = column_or_1d(y, warn=True)\n"
       ]
      },
      {
       "metadata": {},
       "output_type": "display_data",
       "png": "[encoded data removed]",
       "text": [
        "<matplotlib.figure.Figure at 0x7fe838f09150>"
       ]
      }
     ],
     "prompt_number": 46
    },
    {
     "cell_type": "markdown",
     "metadata": {},
     "source": [
      "####Tip Percent Model Classification"
     ]
    },
    {
     "cell_type": "code",
     "collapsed": false,
     "input": [
      "feature_cols = [' payment_type',' tolls_amount']#, ' trip_distance', ' trip_time_in_secs'] #,\\\n",
      "                #' passenger_count']#, ' pickup_datetimeweekend', ' dropoff_datetimeweekend']"
     ],
     "language": "python",
     "metadata": {},
     "outputs": [],
     "prompt_number": 96
    },
    {
     "cell_type": "code",
     "collapsed": false,
     "input": [
      "train_df,test_df = GetTrainingAndTest(df)\n",
      "X_train = train_df[feature_cols]\n",
      "Y_train =  train_df['tip_percent_class'].reshape(len(train_df['tip_percent_class']), 1)\n",
      "\n",
      "X_dev = test_df[feature_cols]\n",
      "Y_dev = test_df['tip_percent_class'].reshape(len(test_df['tip_percent_class']), 1)"
     ],
     "language": "python",
     "metadata": {},
     "outputs": [],
     "prompt_number": 97
    },
    {
     "cell_type": "code",
     "collapsed": false,
     "input": [
      "target = df['tip_percent_class'].reshape(len(df['tip_percent_class']), 1)\n",
      "data = df[feature_cols]"
     ],
     "language": "python",
     "metadata": {},
     "outputs": [],
     "prompt_number": 98
    },
    {
     "cell_type": "code",
     "collapsed": false,
     "input": [
      "run_decision_tree(X_train, Y_train, Y_dev)"
     ],
     "language": "python",
     "metadata": {},
     "outputs": [
      {
       "output_type": "stream",
       "stream": "stdout",
       "text": [
        "DRC set accuracy: 67.917865\n"
       ]
      },
      {
       "metadata": {},
       "output_type": "display_data",
       "png": "[encoded data removed]",
       "text": [
        "<matplotlib.figure.Figure at 0x7fe838f14a90>"
       ]
      }
     ],
     "prompt_number": 99
    },
    {
     "cell_type": "code",
     "collapsed": false,
     "input": [
      "run_random_forests(X_train, Y_train, Y_dev)"
     ],
     "language": "python",
     "metadata": {},
     "outputs": [
      {
       "output_type": "stream",
       "stream": "stdout",
       "text": [
        "RF set accuracy: 68.089400\n"
       ]
      },
      {
       "output_type": "stream",
       "stream": "stderr",
       "text": [
        "-c:38: DataConversionWarning: A column-vector y was passed when a 1d array was expected. Please change the shape of y to (n_samples, ), for example using ravel().\n"
       ]
      },
      {
       "metadata": {},
       "output_type": "display_data",
       "png": "[encoded data removed]",
       "text": [
        "<matplotlib.figure.Figure at 0x7fe838f1a710>"
       ]
      }
     ],
     "prompt_number": 59
    },
    {
     "cell_type": "code",
     "collapsed": false,
     "input": [
      "run_Adaboost(X_train, Y_train, Y_dev)"
     ],
     "language": "python",
     "metadata": {},
     "outputs": [
      {
       "output_type": "stream",
       "stream": "stdout",
       "text": [
        "Adaboost set accuracy: 68.013723\n"
       ]
      },
      {
       "output_type": "stream",
       "stream": "stderr",
       "text": [
        "/usr/lib/python2.7/dist-packages/sklearn/ensemble/weight_boosting.py:95: DataConversionWarning: A column-vector y was passed when a 1d array was expected. Please change the shape of y to (n_samples, ), for example using ravel().\n",
        "  y = column_or_1d(y, warn=True)\n"
       ]
      },
      {
       "metadata": {},
       "output_type": "display_data",
       "png": "[encoded data removed]",
       "text": [
        "<matplotlib.figure.Figure at 0x7fe838f0edd0>"
       ]
      }
     ],
     "prompt_number": 60
    },
    {
     "cell_type": "code",
     "collapsed": false,
     "input": [
      "feature_cols = [ ' fare_amount', ' payment_type' ,' tolls_amount']#, ' trip_distance']#, ' trip_time_in_secs',\\\n",
      "                #' passenger_count']#, ' pickup_datetimeweekend', ' dropoff_datetimeweekend']"
     ],
     "language": "python",
     "metadata": {},
     "outputs": [],
     "prompt_number": 65
    },
    {
     "cell_type": "code",
     "collapsed": false,
     "input": [
      "df_tipnz= df[df[' tip_amount'] > 0.0]\n",
      "train_df,test_df = GetTrainingAndTest(df_tipnz)\n",
      "X_train = train_df[feature_cols]\n",
      "Y_train =  train_df['tip_percent_class'].reshape(len(train_df['tip_percent_class']), 1)\n",
      "\n",
      "X_dev = test_df[feature_cols]\n",
      "Y_dev = test_df['tip_percent_class'].reshape(len(test_df['tip_percent_class']), 1)"
     ],
     "language": "python",
     "metadata": {},
     "outputs": [],
     "prompt_number": 81
    },
    {
     "cell_type": "code",
     "collapsed": false,
     "input": [
      "target = df_tipnz['tip_percent_class'].reshape(len(df_tipnz['tip_percent_class']), 1)\n",
      "data = df_tipnz[feature_cols]"
     ],
     "language": "python",
     "metadata": {},
     "outputs": [],
     "prompt_number": 82
    },
    {
     "cell_type": "code",
     "collapsed": false,
     "input": [
      "run_decision_tree(X_train, Y_train, Y_dev)\n",
      "dtc = run_decision_tree(data, target, Y_dev, False)\n",
      "cv_clf(dtc, data, target)"
     ],
     "language": "python",
     "metadata": {},
     "outputs": [
      {
       "output_type": "stream",
       "stream": "stdout",
       "text": [
        "DRC set accuracy: 30.082581\n",
        "individual scores: "
       ]
      },
      {
       "output_type": "stream",
       "stream": "stdout",
       "text": [
        " [ 0.  0.  0.  0.  0.]\n",
        "CV Accuracy: 0.00 (+/- 0.00)\n"
       ]
      },
      {
       "metadata": {},
       "output_type": "display_data",
       "png": "[encoded data removed]",
       "text": [
        "<matplotlib.figure.Figure at 0x7fe8391db2d0>"
       ]
      }
     ],
     "prompt_number": 83
    },
    {
     "cell_type": "markdown",
     "metadata": {},
     "source": [
      "###Tip Amount Prediction Regression Model"
     ]
    },
    {
     "cell_type": "code",
     "collapsed": false,
     "input": [
      "train_df,test_df = GetTrainingAndTest(df)\n",
      "X_train = train_df[feature_cols]\n",
      "Y_train =  train_df[' tip_amount'].reshape(len(train_df[' tip_amount']), 1)\n",
      "\n",
      "X_dev = test_df[feature_cols]\n",
      "Y_dev = test_df[' tip_amount'].reshape(len(test_df[' tip_amount']), 1)"
     ],
     "language": "python",
     "metadata": {},
     "outputs": [],
     "prompt_number": 71
    },
    {
     "cell_type": "code",
     "collapsed": false,
     "input": [],
     "language": "python",
     "metadata": {},
     "outputs": []
    },
    {
     "cell_type": "markdown",
     "metadata": {},
     "source": [
      "####Baseline Accuracy for Regression"
     ]
    },
    {
     "cell_type": "code",
     "collapsed": false,
     "input": [
      "tip_mean = df[' tip_amount'].mean()\n",
      "\n",
      "diff_df = df[' tip_amount'].apply(lambda(x): abs(x-tip_mean))\n",
      "mae = diff_df.sum()/df.shape[0]\n",
      "print \"Mean absolute Error: %f\" %(mae)"
     ],
     "language": "python",
     "metadata": {},
     "outputs": [
      {
       "output_type": "stream",
       "stream": "stdout",
       "text": [
        "Mean absolute Error: 1.381687\n"
       ]
      }
     ],
     "prompt_number": 72
    },
    {
     "cell_type": "markdown",
     "metadata": {},
     "source": [
      "####Linear Regression Model"
     ]
    },
    {
     "cell_type": "code",
     "collapsed": false,
     "input": [
      "Y_reg_train =  train_df[' tip_amount'].reshape(len(train_df[' tip_amount']), 1)\n",
      "Y_reg_dev = test_df[' tip_amount'].reshape(len(test_df[' tip_amount']), 1)\n",
      "\n",
      "lr = linear_model.LinearRegression()\n",
      "lr.fit(X_train, Y_reg_train.reshape(Y_train.shape[0],))\n",
      "Y_pred_dev = lr.predict(X_dev)\n",
      "Y_pred_dev = Y_pred_dev.reshape(len(Y_pred_dev), 1)\n",
      "print \"Linear Regression Accuracy:%f\" %(lr.score(X_dev, Y_reg_dev))\n",
      "\n",
      "mae = np.sum(np.absolute(Y_reg_dev - Y_pred_dev))/Y_reg_dev.shape[0]\n",
      "print \"Mean absolute Error: %f\" %(mae)"
     ],
     "language": "python",
     "metadata": {},
     "outputs": [
      {
       "output_type": "stream",
       "stream": "stdout",
       "text": [
        "Linear Regression Accuracy:0.521777\n",
        "Mean absolute Error: 0.756813\n"
       ]
      }
     ],
     "prompt_number": 73
    },
    {
     "cell_type": "markdown",
     "metadata": {},
     "source": [
      "####SVM Regression Model"
     ]
    },
    {
     "cell_type": "code",
     "collapsed": false,
     "input": [
      "svr = svm.SVR()\n",
      "svr.fit(X_train, Y_reg_train.reshape(Y_train.shape[0],))\n",
      "# Y_pred_dev2 = lgr.predict(X_dev)\n",
      "print svr.score(X_dev, Y_reg_dev)"
     ],
     "language": "python",
     "metadata": {},
     "outputs": [],
     "prompt_number": "*"
    },
    {
     "cell_type": "markdown",
     "metadata": {},
     "source": [
      "####Lasso Regression Model"
     ]
    },
    {
     "cell_type": "code",
     "collapsed": false,
     "input": [
      "lasso = linear_model.Lasso()\n",
      "lasso.fit(X_train, Y_reg_train.reshape(Y_train.shape[0],))\n",
      "Y_pred_dev = lasso.predict(X_dev).reshape(len(Y_pred_dev), 1)\n",
      "print \"Lasso Regression Accuracy:%f\" %(lasso.score(X_dev, Y_reg_dev))\n",
      "\n",
      "mae = np.sum(np.absolute(Y_reg_dev - Y_pred_dev))/Y_reg_dev.shape[0]\n",
      "print \"Mean absolute Error: %f\" %(mae)\n",
      "\n",
      "# print lasso.coefs"
     ],
     "language": "python",
     "metadata": {},
     "outputs": []
    }
   ],
   "metadata": {}
  }
 ]
}