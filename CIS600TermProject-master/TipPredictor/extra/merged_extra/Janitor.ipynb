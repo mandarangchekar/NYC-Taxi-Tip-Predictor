{
 "metadata": {
  "name": ""
 },
 "nbformat": 3,
 "nbformat_minor": 0,
 "worksheets": [
  {
   "cells": [
    {
     "cell_type": "code",
     "collapsed": false,
     "input": [
      "import pandas as pd\n",
      "import numpy as np"
     ],
     "language": "python",
     "metadata": {},
     "outputs": [],
     "prompt_number": 1
    },
    {
     "cell_type": "code",
     "collapsed": false,
     "input": [
      "master_df = pd.read_csv(\"../../data/final.csv\")"
     ],
     "language": "python",
     "metadata": {},
     "outputs": [
      {
       "output_type": "stream",
       "stream": "stderr",
       "text": [
        "/usr/local/lib/python2.7/dist-packages/pandas/io/parsers.py:1164: DtypeWarning: Columns (1,2,4,8,9,10,11,12,13,14,17,18,19,20,21,22) have mixed types. Specify dtype option on import or set low_memory=False.\n",
        "  data = self._reader.read(nrows)\n"
       ]
      }
     ],
     "prompt_number": 2
    },
    {
     "cell_type": "code",
     "collapsed": false,
     "input": [
      "print master_df.shape\n",
      "master_df.head()"
     ],
     "language": "python",
     "metadata": {},
     "outputs": [
      {
       "output_type": "stream",
       "stream": "stdout",
       "text": [
        "(12000000, 23)\n"
       ]
      },
      {
       "html": [
        "<div style=\"max-height:1000px;max-width:1500px;overflow:auto;\">\n",
        "<table border=\"1\" class=\"dataframe\">\n",
        "  <thead>\n",
        "    <tr style=\"text-align: right;\">\n",
        "      <th></th>\n",
        "      <th>Unnamed: 0</th>\n",
        "      <th>medallion</th>\n",
        "      <th>hack_license</th>\n",
        "      <th>vendor_id_x</th>\n",
        "      <th>rate_code</th>\n",
        "      <th>store_and_fwd_flag</th>\n",
        "      <th>pickup_datetime</th>\n",
        "      <th>dropoff_datetime</th>\n",
        "      <th>passenger_count</th>\n",
        "      <th>trip_time_in_secs</th>\n",
        "      <th>...</th>\n",
        "      <th>dropoff_longitude</th>\n",
        "      <th>dropoff_latitude</th>\n",
        "      <th>vendor_id_y</th>\n",
        "      <th>payment_type</th>\n",
        "      <th>fare_amount</th>\n",
        "      <th>surcharge</th>\n",
        "      <th>mta_tax</th>\n",
        "      <th>tip_amount</th>\n",
        "      <th>tolls_amount</th>\n",
        "      <th>total_amount</th>\n",
        "    </tr>\n",
        "  </thead>\n",
        "  <tbody>\n",
        "    <tr>\n",
        "      <th>0</th>\n",
        "      <td>7440547</td>\n",
        "      <td>2013011658</td>\n",
        "      <td>2013018848</td>\n",
        "      <td>VTS</td>\n",
        "      <td>1</td>\n",
        "      <td>NaN</td>\n",
        "      <td>2013-11-15 23:47:00</td>\n",
        "      <td>2013-11-16 00:17:00</td>\n",
        "      <td>1</td>\n",
        "      <td>1800</td>\n",
        "      <td>...</td>\n",
        "      <td>-73.98399</td>\n",
        "      <td>40.67196</td>\n",
        "      <td>VTS</td>\n",
        "      <td>CRD</td>\n",
        "      <td>25.5</td>\n",
        "      <td>0.5</td>\n",
        "      <td>0.5</td>\n",
        "      <td>5.2</td>\n",
        "      <td>0</td>\n",
        "      <td>31.7</td>\n",
        "    </tr>\n",
        "    <tr>\n",
        "      <th>1</th>\n",
        "      <td>2380903</td>\n",
        "      <td>2013012089</td>\n",
        "      <td>2013019690</td>\n",
        "      <td>VTS</td>\n",
        "      <td>1</td>\n",
        "      <td>NaN</td>\n",
        "      <td>2013-11-05 19:29:00</td>\n",
        "      <td>2013-11-05 19:52:00</td>\n",
        "      <td>2</td>\n",
        "      <td>1380</td>\n",
        "      <td>...</td>\n",
        "      <td>-73.93472</td>\n",
        "      <td>40.79569</td>\n",
        "      <td>VTS</td>\n",
        "      <td>CRD</td>\n",
        "      <td>22.5</td>\n",
        "      <td>0</td>\n",
        "      <td>0.5</td>\n",
        "      <td>3</td>\n",
        "      <td>0</td>\n",
        "      <td>26</td>\n",
        "    </tr>\n",
        "    <tr>\n",
        "      <th>2</th>\n",
        "      <td>2631516</td>\n",
        "      <td>2013000527</td>\n",
        "      <td>2013000525</td>\n",
        "      <td>CMT</td>\n",
        "      <td>1</td>\n",
        "      <td>N</td>\n",
        "      <td>2013-08-08 20:12:40</td>\n",
        "      <td>2013-08-08 20:22:49</td>\n",
        "      <td>2</td>\n",
        "      <td>609</td>\n",
        "      <td>...</td>\n",
        "      <td>-73.98547</td>\n",
        "      <td>40.72207</td>\n",
        "      <td>CMT</td>\n",
        "      <td>CRD</td>\n",
        "      <td>15</td>\n",
        "      <td>0.5</td>\n",
        "      <td>0.5</td>\n",
        "      <td>1.8</td>\n",
        "      <td>0</td>\n",
        "      <td>17.8</td>\n",
        "    </tr>\n",
        "    <tr>\n",
        "      <th>3</th>\n",
        "      <td>1747706</td>\n",
        "      <td>2013004395</td>\n",
        "      <td>2013021600</td>\n",
        "      <td>CMT</td>\n",
        "      <td>1</td>\n",
        "      <td>N</td>\n",
        "      <td>2013-05-04 11:04:58</td>\n",
        "      <td>2013-05-04 11:21:28</td>\n",
        "      <td>1</td>\n",
        "      <td>990</td>\n",
        "      <td>...</td>\n",
        "      <td>-73.9879</td>\n",
        "      <td>40.73233</td>\n",
        "      <td>CMT</td>\n",
        "      <td>CSH</td>\n",
        "      <td>14</td>\n",
        "      <td>0</td>\n",
        "      <td>0.5</td>\n",
        "      <td>0</td>\n",
        "      <td>0</td>\n",
        "      <td>14.5</td>\n",
        "    </tr>\n",
        "    <tr>\n",
        "      <th>4</th>\n",
        "      <td>1619754</td>\n",
        "      <td>2013001666</td>\n",
        "      <td>2013001663</td>\n",
        "      <td>CMT</td>\n",
        "      <td>1</td>\n",
        "      <td>N</td>\n",
        "      <td>2013-07-04 23:40:10</td>\n",
        "      <td>2013-07-04 23:49:21</td>\n",
        "      <td>3</td>\n",
        "      <td>551</td>\n",
        "      <td>...</td>\n",
        "      <td>-74.00727</td>\n",
        "      <td>40.7412</td>\n",
        "      <td>CMT</td>\n",
        "      <td>CRD</td>\n",
        "      <td>10.5</td>\n",
        "      <td>0.5</td>\n",
        "      <td>0.5</td>\n",
        "      <td>0.1</td>\n",
        "      <td>0</td>\n",
        "      <td>11.6</td>\n",
        "    </tr>\n",
        "  </tbody>\n",
        "</table>\n",
        "<p>5 rows \u00d7 23 columns</p>\n",
        "</div>"
       ],
       "metadata": {},
       "output_type": "pyout",
       "prompt_number": 3,
       "text": [
        "   Unnamed: 0   medallion  hack_license  vendor_id_x  rate_code  \\\n",
        "0     7440547  2013011658    2013018848          VTS          1   \n",
        "1     2380903  2013012089    2013019690          VTS          1   \n",
        "2     2631516  2013000527    2013000525          CMT          1   \n",
        "3     1747706  2013004395    2013021600          CMT          1   \n",
        "4     1619754  2013001666    2013001663          CMT          1   \n",
        "\n",
        "   store_and_fwd_flag      pickup_datetime     dropoff_datetime  \\\n",
        "0                 NaN  2013-11-15 23:47:00  2013-11-16 00:17:00   \n",
        "1                 NaN  2013-11-05 19:29:00  2013-11-05 19:52:00   \n",
        "2                   N  2013-08-08 20:12:40  2013-08-08 20:22:49   \n",
        "3                   N  2013-05-04 11:04:58  2013-05-04 11:21:28   \n",
        "4                   N  2013-07-04 23:40:10  2013-07-04 23:49:21   \n",
        "\n",
        "   passenger_count  trip_time_in_secs      ...       dropoff_longitude  \\\n",
        "0                1               1800      ...               -73.98399   \n",
        "1                2               1380      ...               -73.93472   \n",
        "2                2                609      ...               -73.98547   \n",
        "3                1                990      ...                -73.9879   \n",
        "4                3                551      ...               -74.00727   \n",
        "\n",
        "   dropoff_latitude  vendor_id_y  payment_type  fare_amount  surcharge  \\\n",
        "0          40.67196          VTS           CRD         25.5        0.5   \n",
        "1          40.79569          VTS           CRD         22.5          0   \n",
        "2          40.72207          CMT           CRD           15        0.5   \n",
        "3          40.73233          CMT           CSH           14          0   \n",
        "4           40.7412          CMT           CRD         10.5        0.5   \n",
        "\n",
        "   mta_tax  tip_amount  tolls_amount  total_amount  \n",
        "0      0.5         5.2             0          31.7  \n",
        "1      0.5           3             0            26  \n",
        "2      0.5         1.8             0          17.8  \n",
        "3      0.5           0             0          14.5  \n",
        "4      0.5         0.1             0          11.6  \n",
        "\n",
        "[5 rows x 23 columns]"
       ]
      }
     ],
     "prompt_number": 3
    },
    {
     "cell_type": "code",
     "collapsed": false,
     "input": [
      "master_df.columns"
     ],
     "language": "python",
     "metadata": {},
     "outputs": [
      {
       "metadata": {},
       "output_type": "pyout",
       "prompt_number": 5,
       "text": [
        "Index([u'Unnamed: 0', u'medallion', u' hack_license', u' vendor_id_x', u' rate_code', u' store_and_fwd_flag', u' pickup_datetime', u' dropoff_datetime', u' passenger_count', u' trip_time_in_secs', u' trip_distance', u' pickup_longitude', u' pickup_latitude', u' dropoff_longitude', u' dropoff_latitude', u' vendor_id_y', u' payment_type', u' fare_amount', u' surcharge', u' mta_tax', u' tip_amount', u' tolls_amount', u' total_amount'], dtype='object')"
       ]
      }
     ],
     "prompt_number": 5
    },
    {
     "cell_type": "markdown",
     "metadata": {},
     "source": [
      "Clean:: \n",
      "\n",
      "passenger_count"
     ]
    },
    {
     "cell_type": "code",
     "collapsed": false,
     "input": [
      "x = master_df[\" pickup_latitude\"].tolist()"
     ],
     "language": "python",
     "metadata": {},
     "outputs": [],
     "prompt_number": 30
    },
    {
     "cell_type": "code",
     "collapsed": false,
     "input": [
      "x.sort()"
     ],
     "language": "python",
     "metadata": {},
     "outputs": [],
     "prompt_number": 31
    },
    {
     "cell_type": "code",
     "collapsed": false,
     "input": [
      "x"
     ],
     "language": "python",
     "metadata": {},
     "outputs": [],
     "prompt_number": "*"
    },
    {
     "cell_type": "code",
     "collapsed": false,
     "input": [
      "master_df[master_df[\" pickup_latitude\"]>=50.0].count()"
     ],
     "language": "python",
     "metadata": {},
     "outputs": [
      {
       "metadata": {},
       "output_type": "pyout",
       "prompt_number": 19,
       "text": [
        "Unnamed: 0             32842\n",
        "medallion              32843\n",
        " hack_license          32843\n",
        " vendor_id_x           32843\n",
        " rate_code             32843\n",
        " store_and_fwd_flag    16493\n",
        " pickup_datetime       32843\n",
        " dropoff_datetime      32843\n",
        " passenger_count       32843\n",
        " trip_time_in_secs     32843\n",
        " trip_distance         32843\n",
        " pickup_longitude      32843\n",
        " pickup_latitude       32843\n",
        " dropoff_longitude     32841\n",
        " dropoff_latitude      32841\n",
        " vendor_id_y           32843\n",
        " payment_type          32843\n",
        " fare_amount           32843\n",
        " surcharge             32843\n",
        " mta_tax               32843\n",
        " tip_amount            32843\n",
        " tolls_amount          32843\n",
        " total_amount          32843\n",
        "dtype: int64"
       ]
      }
     ],
     "prompt_number": 19
    },
    {
     "cell_type": "code",
     "collapsed": false,
     "input": [],
     "language": "python",
     "metadata": {},
     "outputs": []
    }
   ],
   "metadata": {}
  }
 ]
}