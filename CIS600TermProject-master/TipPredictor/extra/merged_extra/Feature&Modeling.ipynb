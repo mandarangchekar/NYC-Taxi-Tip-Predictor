{
 "metadata": {
  "name": ""
 },
 "nbformat": 3,
 "nbformat_minor": 0,
 "worksheets": [
  {
   "cells": [
    {
     "cell_type": "markdown",
     "metadata": {},
     "source": [
      "###TODO\n",
      "\n",
      "1. Cross Validation   - SJ\n",
      "2. Log, Z score       - SJ\n",
      "3. Non zero tip model accuracy  - AG\n",
      "4. Ensemble           - AG\n",
      "5. DATA CLEANING      - AR\n",
      "6. Feature Engineering - AR"
     ]
    },
    {
     "cell_type": "markdown",
     "metadata": {},
     "source": [
      "###IMPORTING STUFF"
     ]
    },
    {
     "cell_type": "code",
     "collapsed": false,
     "input": [
      "import pandas as pd\n",
      "import numpy as np\n",
      "import math\n",
      "import sklearn\n",
      "from sklearn import datasets, linear_model, metrics, svm, cluster\n",
      "from sklearn.feature_extraction import DictVectorizer\n",
      "from sklearn import tree\n",
      "from sklearn.ensemble import RandomForestClassifier\n",
      "from sklearn.ensemble import AdaBoostClassifier"
     ],
     "language": "python",
     "metadata": {},
     "outputs": [
      {
       "output_type": "stream",
       "stream": "stderr",
       "text": [
        "/usr/local/lib/python2.7/dist-packages/numpy/core/fromnumeric.py:2507: VisibleDeprecationWarning: `rank` is deprecated; use the `ndim` attribute or function instead. To find the rank of a matrix see `numpy.linalg.matrix_rank`.\n",
        "  VisibleDeprecationWarning)\n"
       ]
      }
     ],
     "prompt_number": 1
    },
    {
     "cell_type": "code",
     "collapsed": false,
     "input": [
      "import matplotlib\n",
      "matplotlib.use('Agg')\n",
      "from matplotlib import pyplot as plt\n",
      "%matplotlib inline"
     ],
     "language": "python",
     "metadata": {},
     "outputs": [],
     "prompt_number": 2
    },
    {
     "cell_type": "markdown",
     "metadata": {},
     "source": [
      "###READING DATA"
     ]
    },
    {
     "cell_type": "code",
     "collapsed": false,
     "input": [
      "master_df = pd.read_csv(\"../../data/final.csv\")"
     ],
     "language": "python",
     "metadata": {},
     "outputs": [
      {
       "output_type": "stream",
       "stream": "stderr",
       "text": [
        "/usr/local/lib/python2.7/dist-packages/pandas/io/parsers.py:1164: DtypeWarning: Columns (1,2,4,8,9,10,11,12,13,14,17,18,19,20,21,22) have mixed types. Specify dtype option on import or set low_memory=False.\n",
        "  data = self._reader.read(nrows)\n"
       ]
      }
     ],
     "prompt_number": 3
    },
    {
     "cell_type": "code",
     "collapsed": false,
     "input": [
      "df = master_df[:300000]"
     ],
     "language": "python",
     "metadata": {},
     "outputs": [],
     "prompt_number": 4
    },
    {
     "cell_type": "markdown",
     "metadata": {},
     "source": [
      "###VISUALIZATION"
     ]
    },
    {
     "cell_type": "markdown",
     "metadata": {},
     "source": [
      "###DATA CLEANING"
     ]
    },
    {
     "cell_type": "code",
     "collapsed": false,
     "input": [
      "df.shape"
     ],
     "language": "python",
     "metadata": {},
     "outputs": [
      {
       "metadata": {},
       "output_type": "pyout",
       "prompt_number": 5,
       "text": [
        "(300000, 23)"
       ]
      }
     ],
     "prompt_number": 5
    },
    {
     "cell_type": "code",
     "collapsed": false,
     "input": [
      "len(df[df[' trip_distance'] == 0])\n",
      "for i in range(df.shape[0]):\n",
      "    if df[' trip_distance'][i] == 0:\n",
      "        df[' trip_distance'][i] = np.nan"
     ],
     "language": "python",
     "metadata": {},
     "outputs": [
      {
       "output_type": "stream",
       "stream": "stderr",
       "text": [
        "-c:4: SettingWithCopyWarning: \n",
        "A value is trying to be set on a copy of a slice from a DataFrame\n",
        "\n",
        "See the the caveats in the documentation: http://pandas.pydata.org/pandas-docs/stable/indexing.html#indexing-view-versus-copy\n",
        "/usr/lib/python2.7/dist-packages/IPython/core/interactiveshell.py:2820: SettingWithCopyWarning: \n",
        "A value is trying to be set on a copy of a slice from a DataFrame\n",
        "\n",
        "See the the caveats in the documentation: http://pandas.pydata.org/pandas-docs/stable/indexing.html#indexing-view-versus-copy\n",
        "  exec code_obj in self.user_global_ns, self.user_ns\n"
       ]
      }
     ],
     "prompt_number": "*"
    },
    {
     "cell_type": "code",
     "collapsed": false,
     "input": [
      "len(df[df[' fare_amount'] == 0])"
     ],
     "language": "python",
     "metadata": {},
     "outputs": [
      {
       "metadata": {},
       "output_type": "pyout",
       "prompt_number": 17,
       "text": [
        "284"
       ]
      }
     ],
     "prompt_number": 17
    },
    {
     "cell_type": "code",
     "collapsed": false,
     "input": [
      "for i in range(df.shape[0]):\n",
      "    if df[' fare_amount'][i] == 0:\n",
      "        df[' fare_amount'][i] = np.nan"
     ],
     "language": "python",
     "metadata": {},
     "outputs": [],
     "prompt_number": 9
    },
    {
     "cell_type": "code",
     "collapsed": false,
     "input": [
      "len(df[df[' passenger_count'] == 0])"
     ],
     "language": "python",
     "metadata": {},
     "outputs": [
      {
       "metadata": {},
       "output_type": "pyout",
       "prompt_number": 19,
       "text": [
        "348"
       ]
      }
     ],
     "prompt_number": 19
    },
    {
     "cell_type": "code",
     "collapsed": false,
     "input": [
      "df.dropna()\n",
      "df.shape"
     ],
     "language": "python",
     "metadata": {},
     "outputs": [
      {
       "metadata": {},
       "output_type": "pyout",
       "prompt_number": 35,
       "text": [
        "(100000, 25)"
       ]
      }
     ],
     "prompt_number": 35
    },
    {
     "cell_type": "code",
     "collapsed": false,
     "input": [
      "for i in range(df.shape[0]):\n",
      "    if df[' passenger_count'][i] > 6 or df[' passenger_count'][i] == 0:\n",
      "        df[' passenger_count'][i] = np.nan"
     ],
     "language": "python",
     "metadata": {},
     "outputs": []
    },
    {
     "cell_type": "code",
     "collapsed": false,
     "input": [],
     "language": "python",
     "metadata": {},
     "outputs": []
    },
    {
     "cell_type": "code",
     "collapsed": false,
     "input": [
      "for i in range(df.shape[0]):\n",
      "    if df[' payment_type'][i] == 'UNK':\n",
      "        df[' payment_type'][i] = np.nan"
     ],
     "language": "python",
     "metadata": {},
     "outputs": []
    },
    {
     "cell_type": "code",
     "collapsed": false,
     "input": [
      "for i in range(df.shape[0]):\n",
      "    if type(df[' tip_amount'][i]) == str:\n",
      "        df[' tip_amount'][i] = np.nan"
     ],
     "language": "python",
     "metadata": {},
     "outputs": []
    },
    {
     "cell_type": "code",
     "collapsed": false,
     "input": [
      "df = df.dropna()\n",
      "df.shape"
     ],
     "language": "python",
     "metadata": {},
     "outputs": [],
     "prompt_number": "*"
    },
    {
     "cell_type": "markdown",
     "metadata": {},
     "source": [
      "####K-Means clustering for calculating tip bins"
     ]
    },
    {
     "cell_type": "code",
     "collapsed": false,
     "input": [
      "km = sklearn.cluster.KMeans(n_clusters = 5)\n",
      "km.fit(df[[' tip_amount']].values)"
     ],
     "language": "python",
     "metadata": {},
     "outputs": [
      {
       "metadata": {},
       "output_type": "pyout",
       "prompt_number": 8,
       "text": [
        "KMeans(copy_x=True, init='k-means++', max_iter=300, n_clusters=5, n_init=10,\n",
        "    n_jobs=1, precompute_distances=True, random_state=None, tol=0.0001,\n",
        "    verbose=0)"
       ]
      }
     ],
     "prompt_number": 8
    },
    {
     "cell_type": "code",
     "collapsed": false,
     "input": [
      "df['cluster_class']= km.labels_"
     ],
     "language": "python",
     "metadata": {},
     "outputs": [],
     "prompt_number": 9
    },
    {
     "cell_type": "markdown",
     "metadata": {},
     "source": [
      "###UTILS FOR FEATURES\n",
      "\n",
      "####Date Time Features"
     ]
    },
    {
     "cell_type": "code",
     "collapsed": false,
     "input": [
      "from datetime import datetime\n",
      "def InterpretPickupTime(df, field):\n",
      "    count = df.count()[0]\n",
      "    month = [0]*count #1-12\n",
      "    hourOfDay = [0]*count #0-23\n",
      "    dayOfWeek = [0]*count #0=monday, 6=sunday\n",
      "    weekend = [\"X\"]*count #weekday/weekend\n",
      "    timegroup = [\"X\"]*count #0-5early, 6-10morning, 11-15afternoon, 16-20evening, 21-23night, \n",
      "    try:\n",
      "        for i in range(count):\n",
      "            dt = datetime.strptime(df[field][i],\"%Y-%m-%d %H:%M:%S\")\n",
      "            month[i] = dt.month\n",
      "            dayOfWeek[i] = dt.weekday()\n",
      "            hourOfDay[i] = dt.hour\n",
      "            if dt.weekday()> 4:\n",
      "                weekend[i] = \"weekend\";\n",
      "            else:\n",
      "                weekend[i] = \"weekday\";\n",
      "            if hourOfDay[i] < 6:\n",
      "                timegroup[i] = \"early\"\n",
      "            elif hourOfDay[i] < 11:\n",
      "                timegroup[i] = \"morning\"\n",
      "            elif hourOfDay[i] < 16:\n",
      "                timegroup[i] = \"afternoon\"\n",
      "            elif hourOfDay[i] < 21:\n",
      "                timegroup[i] = \"evening\"\n",
      "            else:\n",
      "                timegroup[i] = \"night\"\n",
      "    except:\n",
      "        print \"Exception##\" + str(i) + \"  \"+ df[field][i]+ \"## \"\n",
      "        return\n",
      "    df[field+\"month\"] = month\n",
      "    df[field+\"hourOfDay\"] = hourOfDay\n",
      "    df[field+\"dayOfWeek\"] = dayOfWeek\n",
      "    df[field+\"weekend\"] = weekend\n",
      "    df[field+\"timegroup\"] = timegroup"
     ],
     "language": "python",
     "metadata": {},
     "outputs": []
    },
    {
     "cell_type": "markdown",
     "metadata": {},
     "source": [
      "####Tip Class Features"
     ]
    },
    {
     "cell_type": "code",
     "collapsed": false,
     "input": [
      "def GetTipClasses(tip):\n",
      "    if tip == 0.0:\n",
      "        return \"Z\"\n",
      "    elif tip > 0.0 and tip < 1.0:\n",
      "        return \"A\"\n",
      "    elif tip >= 1.0 and tip < 2.0:\n",
      "        return \"B\"\n",
      "    elif tip >= 2.0 and tip < 3.0:\n",
      "        return \"C\"\n",
      "    elif tip >= 3.0 and tip < 4.0:\n",
      "        return \"D\"\n",
      "    elif tip >= 4.0 and tip < 5.0:\n",
      "        return \"E\"\n",
      "    elif tip >= 5.0 and tip < 7.5:\n",
      "        return \"F\"\n",
      "    elif tip >= 7.5 and tip < 10.0:\n",
      "        return \"G\"\n",
      "    else:\n",
      "        return \"H\"\n",
      "\n",
      "# def GetTipClasses(tip):\n",
      "#     if tip <= 1.0:\n",
      "#         return \"Z\"\n",
      "#     elif tip > 1.0 and tip < 5.0:\n",
      "#         return \"A\"\n",
      "#     elif tip >= 5.0 and tip < 10.0:\n",
      "        \n",
      "#         return \"B\"\n",
      "#     elif tip >= 10.0 and tip < 20.0:\n",
      "#         return \"C\"\n",
      "#     else:\n",
      "#         return \"D\"\n",
      "\n",
      "def CalculateTipClasses(df):\n",
      "    count = len(df)\n",
      "#     print count\n",
      "    tip_df = list()\n",
      "    tip_amnt = df[\" tip_amount\"].tolist()\n",
      "    print len(tip_amnt)\n",
      "    for i in range (count):\n",
      "        tip_df.append(GetTipClasses(tip_amnt[i]))\n",
      "#     print len(tip_df)\n",
      "    df[\"tip_class\"] = np.array(tip_df)"
     ],
     "language": "python",
     "metadata": {},
     "outputs": []
    },
    {
     "cell_type": "markdown",
     "metadata": {},
     "source": [
      "#### TIP Class Non zero "
     ]
    },
    {
     "cell_type": "code",
     "collapsed": false,
     "input": [
      "def GetTipClasses_nz(tip):\n",
      "    if tip > 0.0 and tip < 1.0:\n",
      "        return \"A\"\n",
      "    elif tip >= 1.0 and tip < 2.0:\n",
      "        return \"B\"\n",
      "    elif tip >= 2.0 and tip < 3.0:\n",
      "        return \"C\"\n",
      "    elif tip >= 3.0 and tip < 4.0:\n",
      "        return \"D\"\n",
      "    elif tip >= 4.0 and tip < 5.0:\n",
      "        return \"E\"\n",
      "    elif tip >= 5.0 and tip < 7.5:\n",
      "        return \"F\"\n",
      "    elif tip >= 7.5 and tip < 10.0:\n",
      "        return \"G\"\n",
      "    else:\n",
      "        return \"H\"\n",
      "    \n",
      "def CalculateTipClasses_nz(df):\n",
      "    count = df.count()[0]\n",
      "#     print count\n",
      "    tip_df = ['X']*(count)\n",
      "    tip_amnt = df[\" tip_amount\"].tolist()\n",
      "    for i in range (count):\n",
      "        tip_df[i] = GetTipClasses_nz(tip_amnt[i])\n",
      "    df[\"tip_class_nz\"] = np.array(tip_df)"
     ],
     "language": "python",
     "metadata": {},
     "outputs": []
    },
    {
     "cell_type": "markdown",
     "metadata": {},
     "source": [
      "####Tip no Tip Features"
     ]
    },
    {
     "cell_type": "code",
     "collapsed": false,
     "input": [
      "def GetTipNoTip(tip):\n",
      "    if tip == 0.0:\n",
      "        return \"NOTIP\"\n",
      "    else:\n",
      "        return \"TIP\"\n",
      "\n",
      "def CalculateTipNoTip(df):\n",
      "    count = df.count()[0]\n",
      "#     print count\n",
      "    tip_df = ['X']*count\n",
      "    tip_amnt = df[\" tip_amount\"].tolist()\n",
      "    for i in range (count):\n",
      "        tip_df[i] = GetTipNoTip(tip_amnt[i])\n",
      "    df[\"tip_no_tip\"] = np.array(tip_df)"
     ],
     "language": "python",
     "metadata": {},
     "outputs": [],
     "prompt_number": 23
    },
    {
     "cell_type": "markdown",
     "metadata": {},
     "source": [
      "### TIP PERCENT"
     ]
    },
    {
     "cell_type": "code",
     "collapsed": false,
     "input": [
      "def GetTipPercent(tip, fare):\n",
      "    if fare == 0.0:\n",
      "        return 0\n",
      "    else:\n",
      "        return tip*100/fare\n",
      "\n",
      "def CalcuateTipPercentage(df):\n",
      "    count = df.count()[0]\n",
      "    tip_df = ['X']*count\n",
      "    tip_amnt = df[\" tip_amount\"].tolist()\n",
      "    fare_amnt = df[' fare_amount'].tolist()\n",
      "    for i in range (count):\n",
      "        tip_df[i] = GetTipPercent(tip_amnt[i], fare_amnt[i])\n",
      "    df[\"tip_percent\"] = np.array(tip_df)   "
     ],
     "language": "python",
     "metadata": {},
     "outputs": [],
     "prompt_number": 12
    },
    {
     "cell_type": "markdown",
     "metadata": {},
     "source": [
      "####Zip Code Features"
     ]
    },
    {
     "cell_type": "code",
     "collapsed": false,
     "input": [
      "# def GetZipCodesByBurough():\n",
      "#     zipcodesByB = pd.read_csv(\"../../../zipcodesByBuruough.csv\",header=None)\n",
      "#     zipDiction={}\n",
      "#     for i in range(zipcodesByB.count()[0]):\n",
      "#         print zipcodesByB[0][i]\n",
      "#         for row in zipcodesByB[1][i].split(\",\"):\n",
      "#             zipDiction[int(row.strip())]=zipcodesByB[0][i]\n",
      "#     return zipDiction\n",
      "\n",
      "def PickZipCode(Lat,Long, zipcodes_NY):\n",
      "    #first pick min latitude    \n",
      "    minLong = min(zipcodes_NY.longitude.tolist(), key=lambda x:abs(x-Long))\n",
      "    minLat = min(zipcodes_NY[zipcodes_NY.longitude == minLong].latitude.tolist(), key=lambda x:abs(x-Lat))\n",
      "#     print minLat,minLong\n",
      "    z = zipcodes_NY[((zipcodes_NY.longitude==minLong)&(zipcodes_NY.latitude==minLat))][\"zip\"].tolist()[0]\n",
      "#     print z, zipDiction.keys()\n",
      "#     area = zipDiction[z]\n",
      "#     print area\n",
      "    return z#,area\n",
      "\n",
      "def AssignZipcodes(df,field):\n",
      "    count = df.count()[0]\n",
      "    zipz = [0]*count\n",
      "#     area = [\"X\"]*count\n",
      "#     zipDiction = GetZipCodesByBurough()\n",
      "    print count#, zipDiction.length\n",
      "    nyc_df = pd.read_csv(\"../../../nycitydata.csv\")\n",
      "    A = nyc_df.zipcodes.tolist()\n",
      "    zipcodes_NY = pd.read_csv(\"../../../zipcode_NYC.csv\")\n",
      "    zipcodes_NY = zipcodes_NY[zipcodes_NY.state==\"NY\"]\n",
      "    zipcodes_NY.count()\n",
      "    B = zipcodes_NY.zip.tolist()\n",
      "    keepList = [x for x in B if x in A]\n",
      "    zipcodes_NY = zipcodes_NY[zipcodes_NY.zip.isin(keepList)]\n",
      "    try:\n",
      "        for i in range(count):\n",
      "            if i%10000 == 0:#test\n",
      "                print i\n",
      "            zipz[i] = PickZipCode(df[\" \"+field+\"_latitude\"][i],df[\" \"+field+\"_longitude\"][i], zipcodes_NY)\n",
      "    except:\n",
      "        print \"exception \"+str(i)\n",
      "    df[field+\"zipz\"]=zipz\n",
      "#     df[field+\"area\"]=area"
     ],
     "language": "python",
     "metadata": {},
     "outputs": []
    },
    {
     "cell_type": "code",
     "collapsed": false,
     "input": [
      "def GetNYCityDataByZipCode():\n",
      "    nyc_df = pd.read_csv(\"../../../nycitydata.csv\")\n",
      "    zipDiction={}\n",
      "    for i in range(nyc_df.count()[0]):\n",
      "        zipDiction[nyc_df.zipcodes[i]] = [nyc_df.costOfLivingIndex[i],nyc_df.populationDensity[i],nyc_df.percentageMales[i],nyc_df.medianHouseholdIncome[i]]     \n",
      "    return zipDiction   "
     ],
     "language": "python",
     "metadata": {},
     "outputs": []
    },
    {
     "cell_type": "code",
     "collapsed": false,
     "input": [
      "# z = GetNYCityDataByZipCode()"
     ],
     "language": "python",
     "metadata": {},
     "outputs": []
    },
    {
     "cell_type": "code",
     "collapsed": false,
     "input": [
      "def AddCityData(df,field):\n",
      "    count = df.count()[0]\n",
      "    COLI = [0]*count\n",
      "    PD = [0]*count\n",
      "    PM = [0]*count\n",
      "    MHI = [0]*count\n",
      "    diction = GetNYCityDataByZipCode()\n",
      "#     area = [\"X\"]*count\n",
      "#     zipDiction = GetZipCodesByBurough()\n",
      "    print count#, zipDiction.length\n",
      "    try:\n",
      "        for i in range(count):\n",
      "            if i%10000 == 0:#test\n",
      "                print i\n",
      "            temp = diction[df[field+\"zipz\"][i]]\n",
      "            COLI[i] = temp[0]\n",
      "            PD[i] = temp[1]\n",
      "            PM[i] = temp[2]\n",
      "            MHI[i] = temp[3]\n",
      "    except:\n",
      "        print \"exception \"+str(i)\n",
      "    df[field+\"CostOfLivingIndex\"]=COLI\n",
      "    df[field+\"PopulationDensity\"]=PD\n",
      "    df[field+\"PercentageMale\"]=PM\n",
      "    df[field+\"MedianHouseHoldIncome\"]=MHI\n",
      "    "
     ],
     "language": "python",
     "metadata": {},
     "outputs": []
    },
    {
     "cell_type": "code",
     "collapsed": false,
     "input": [
      "AssignZipcodes(master_df,\"pickup\")\n",
      "master_df.to_csv(\"zipitworks.csv\")\n",
      "AddCityData(master_df)\n",
      "master_df.to_csv(\"allofitworks.csv\")\n"
     ],
     "language": "python",
     "metadata": {},
     "outputs": []
    },
    {
     "cell_type": "markdown",
     "metadata": {},
     "source": [
      "###CREATE NEW FEATURES\n",
      "\n",
      "####Time Based"
     ]
    },
    {
     "cell_type": "code",
     "collapsed": false,
     "input": [
      "InterpretPickupTime(df, \" pickup_datetime\")\n",
      "InterpretPickupTime(df, \" dropoff_datetime\")"
     ],
     "language": "python",
     "metadata": {},
     "outputs": []
    },
    {
     "cell_type": "markdown",
     "metadata": {},
     "source": [
      "####Tip Based"
     ]
    },
    {
     "cell_type": "code",
     "collapsed": false,
     "input": [
      "CalculateTipClasses(df)\n"
     ],
     "language": "python",
     "metadata": {},
     "outputs": []
    },
    {
     "cell_type": "code",
     "collapsed": false,
     "input": [
      "CalculateTipNoTip(df)"
     ],
     "language": "python",
     "metadata": {},
     "outputs": [],
     "prompt_number": 24
    },
    {
     "cell_type": "code",
     "collapsed": false,
     "input": [
      "CalcuateTipPercentage(df)"
     ],
     "language": "python",
     "metadata": {},
     "outputs": [],
     "prompt_number": 13
    },
    {
     "cell_type": "code",
     "collapsed": false,
     "input": [
      "km = sklearn.cluster.KMeans(n_clusters = 5)\n",
      "km.fit(df[['tip_percent']].values)"
     ],
     "language": "python",
     "metadata": {},
     "outputs": [
      {
       "metadata": {},
       "output_type": "pyout",
       "prompt_number": 14,
       "text": [
        "KMeans(copy_x=True, init='k-means++', max_iter=300, n_clusters=5, n_init=10,\n",
        "    n_jobs=1, precompute_distances=True, random_state=None, tol=0.0001,\n",
        "    verbose=0)"
       ]
      }
     ],
     "prompt_number": 14
    },
    {
     "cell_type": "code",
     "collapsed": false,
     "input": [
      "df['cluster_percent_class']= km.labels_"
     ],
     "language": "python",
     "metadata": {},
     "outputs": [],
     "prompt_number": 15
    },
    {
     "cell_type": "markdown",
     "metadata": {},
     "source": [
      "####Location Based"
     ]
    },
    {
     "cell_type": "code",
     "collapsed": false,
     "input": [
      "# kuts = df[:100]\n",
      "AssignZipcodes(df, 'pickup')\n",
      "# AssignZipcodes(df, 'dropoff')"
     ],
     "language": "python",
     "metadata": {},
     "outputs": []
    },
    {
     "cell_type": "markdown",
     "metadata": {},
     "source": [
      "###MODELS"
     ]
    },
    {
     "cell_type": "markdown",
     "metadata": {},
     "source": [
      "####Utils for models"
     ]
    },
    {
     "cell_type": "code",
     "collapsed": false,
     "input": [
      "def run_SVM(X_train, Y_train, Y_dev):\n",
      "    svm_clf = svm.SVC(kernel='rbf')\n",
      "    svm_clf.fit(X_train, Y_train.reshape(Y_train.shape[0],))\n",
      "    Y_pred_dev = svm_clf.predict(X_dev)\n",
      "    SVM_acc = float(sum(map(lambda x,y : x==y, Y_pred_dev, Y_dev)))/len(Y_dev)\n",
      "    print \"SVM RBF Kernel set accuracy: %f\" %((SVM_acc)*100)\n",
      "\n",
      "def run_decision_tree(X_train, Y_train, Y_dev):\n",
      "    dtc_clf = tree.DecisionTreeClassifier()\n",
      "    dtc_clf.fit(X_train, Y_train)\n",
      "    Y_pred_dev1 = dtc_clf.predict(X_dev)\n",
      "    DTC_acc = float(sum(map(lambda x,y : x==y, Y_pred_dev1, Y_dev)))/len(Y_dev)\n",
      "    print \"DRC set accuracy: %f\" %((DTC_acc)*100)\n",
      "    \n",
      "def run_random_forests(X_train, Y_train, Y_dev):\n",
      "    rf_clf = RandomForestClassifier(n_estimators=10)\n",
      "    rf_clf.fit(X_train, Y_train)\n",
      "    Y_pred_dev1 = rf_clf.predict(X_dev)\n",
      "    DTC_acc = float(sum(map(lambda x,y : x==y, Y_pred_dev1, Y_dev)))/len(Y_dev)\n",
      "    print \"RF set accuracy: %f\" %((DTC_acc)*100)\n",
      "    \n",
      "def run_Adaboost(X_train, Y_train, Y_dev):\n",
      "    adb_clf = AdaBoostClassifier(base_estimator=None, n_estimators=50)\n",
      "    adb_clf.fit(X_train, Y_train)\n",
      "    Y_pred_dev1 = adb_clf.predict(X_dev)\n",
      "    DTC_acc = float(sum(map(lambda x,y : x==y, Y_pred_dev1, Y_dev)))/len(Y_dev)\n",
      "    print \"Adaboost set accuracy: %f\" %((DTC_acc)*100)"
     ],
     "language": "python",
     "metadata": {},
     "outputs": [],
     "prompt_number": 27
    },
    {
     "cell_type": "code",
     "collapsed": false,
     "input": [
      "print [(col, pd.isnull(df[col]).sum()) for col in df.columns]"
     ],
     "language": "python",
     "metadata": {},
     "outputs": [
      {
       "output_type": "stream",
       "stream": "stdout",
       "text": [
        "[('Unnamed: 0', 0), ('medallion', 0), (' hack_license', 0), (' vendor_id_x', 0), (' rate_code', 0), (' store_and_fwd_flag', 0), (' pickup_datetime', 0), (' dropoff_datetime', 0), (' passenger_count', 0), (' trip_time_in_secs', 0), (' trip_distance', 0), (' pickup_longitude', 0), (' pickup_latitude', 0), (' dropoff_longitude', 0), (' dropoff_latitude', 0), (' vendor_id_y', 0), (' payment_type', 0), (' fare_amount', 0), (' surcharge', 0), (' mta_tax', 0), (' tip_amount', 0), (' tolls_amount', 0), (' total_amount', 0), ('tip_percent', 0), ('cluster_percent_class', 0)]\n"
       ]
      }
     ],
     "prompt_number": 17
    },
    {
     "cell_type": "code",
     "collapsed": false,
     "input": [
      "def GetTrainingAndTest(df):\n",
      "    tr = int(math.floor(0.7*df.count()[0]))\n",
      "    training = df[0:tr]\n",
      "    test = df[tr:]\n",
      "    return training,test"
     ],
     "language": "python",
     "metadata": {},
     "outputs": [],
     "prompt_number": 18
    },
    {
     "cell_type": "code",
     "collapsed": false,
     "input": [
      "feature_cols = [ ' fare_amount', ' payment_type', ' tolls_amount']#, ' trip_distance']#, ' trip_time_in_secs',\\\n",
      "                #' passenger_count']#, ' pickup_datetimeweekend', ' dropoff_datetimeweekend']"
     ],
     "language": "python",
     "metadata": {},
     "outputs": [],
     "prompt_number": 19
    },
    {
     "cell_type": "markdown",
     "metadata": {},
     "source": [
      "###Tip No-Tip Classification Model"
     ]
    },
    {
     "cell_type": "code",
     "collapsed": false,
     "input": [
      "train_df,test_df = GetTrainingAndTest(df)\n",
      "dvec = DictVectorizer()\n",
      "dict_df = train_df[feature_cols].T.to_dict().values()\n",
      "train_data = pd.DataFrame(dvec.fit_transform(dict_df).toarray())\n",
      "\n",
      "dict_df = test_df[feature_cols].T.to_dict().values()\n",
      "test_data = pd.DataFrame(dvec.transform(dict_df).toarray())\n",
      "\n",
      "X_train = train_data\n",
      "Y_train =  train_df['tip_no_tip'].reshape(len(train_df['tip_no_tip']), 1)\n",
      "\n",
      "X_dev = test_data\n",
      "Y_dev = test_df['tip_no_tip'].reshape(len(test_df['tip_no_tip']), 1)"
     ],
     "language": "python",
     "metadata": {},
     "outputs": [],
     "prompt_number": 25
    },
    {
     "cell_type": "markdown",
     "metadata": {},
     "source": [
      "####Support Vector Machine Classifier"
     ]
    },
    {
     "cell_type": "code",
     "collapsed": false,
     "input": [
      "run_SVM(X_train, Y_train, Y_dev)"
     ],
     "language": "python",
     "metadata": {},
     "outputs": [
      {
       "output_type": "stream",
       "stream": "stdout",
       "text": [
        "SVM RBF Kernel set accuracy: 50.323484\n"
       ]
      }
     ],
     "prompt_number": 26
    },
    {
     "cell_type": "markdown",
     "metadata": {},
     "source": [
      "####Decision Tree Classifier"
     ]
    },
    {
     "cell_type": "code",
     "collapsed": false,
     "input": [
      "run_decision_tree(X_train, Y_train, Y_dev)"
     ],
     "language": "python",
     "metadata": {},
     "outputs": [
      {
       "output_type": "stream",
       "stream": "stdout",
       "text": [
        "DRC set accuracy: 50.334601\n"
       ]
      }
     ],
     "prompt_number": 28
    },
    {
     "cell_type": "markdown",
     "metadata": {},
     "source": [
      "#### Random Forest Classifier"
     ]
    },
    {
     "cell_type": "code",
     "collapsed": false,
     "input": [
      "run_random_forests(X_train, Y_train, Y_dev)"
     ],
     "language": "python",
     "metadata": {},
     "outputs": [
      {
       "output_type": "stream",
       "stream": "stdout",
       "text": [
        "RF set accuracy: 98.186667\n"
       ]
      },
      {
       "output_type": "stream",
       "stream": "stderr",
       "text": [
        "-c:17: DataConversionWarning: A column-vector y was passed when a 1d array was expected. Please change the shape of y to (n_samples, ), for example using ravel().\n"
       ]
      }
     ],
     "prompt_number": 17
    },
    {
     "cell_type": "markdown",
     "metadata": {},
     "source": [
      "#### Adaboost Classifier using  DTC "
     ]
    },
    {
     "cell_type": "code",
     "collapsed": false,
     "input": [
      "run_"
     ],
     "language": "python",
     "metadata": {},
     "outputs": []
    },
    {
     "cell_type": "markdown",
     "metadata": {},
     "source": [
      "###Non zero Tip Classification Model"
     ]
    },
    {
     "cell_type": "code",
     "collapsed": false,
     "input": [
      "CalculateTipClasses(master_df)\n",
      "InterpretPickupTime(master_df, \" pickup_datetime\")\n",
      "InterpretPickupTime(master_df, \" dropoff_datetime\")\n",
      "df_tipnz= master_df[master_df[' tip_amount'] > 0.0][:100000]\n",
      "print df_tipnz.shape\n",
      "df.shape\n",
      "print df_tipnz.tip_class.unique()"
     ],
     "language": "python",
     "metadata": {},
     "outputs": [
      {
       "ename": "NameError",
       "evalue": "name 'CalculateTipClasses' is not defined",
       "output_type": "pyerr",
       "traceback": [
        "\u001b[0;31m---------------------------------------------------------------------------\u001b[0m\n\u001b[0;31mNameError\u001b[0m                                 Traceback (most recent call last)",
        "\u001b[0;32m<ipython-input-20-c4744ced2ee5>\u001b[0m in \u001b[0;36m<module>\u001b[0;34m()\u001b[0m\n\u001b[0;32m----> 1\u001b[0;31m \u001b[0mCalculateTipClasses\u001b[0m\u001b[0;34m(\u001b[0m\u001b[0mmaster_df\u001b[0m\u001b[0;34m)\u001b[0m\u001b[0;34m\u001b[0m\u001b[0m\n\u001b[0m\u001b[1;32m      2\u001b[0m \u001b[0mInterpretPickupTime\u001b[0m\u001b[0;34m(\u001b[0m\u001b[0mmaster_df\u001b[0m\u001b[0;34m,\u001b[0m \u001b[0;34m\" pickup_datetime\"\u001b[0m\u001b[0;34m)\u001b[0m\u001b[0;34m\u001b[0m\u001b[0m\n\u001b[1;32m      3\u001b[0m \u001b[0mInterpretPickupTime\u001b[0m\u001b[0;34m(\u001b[0m\u001b[0mmaster_df\u001b[0m\u001b[0;34m,\u001b[0m \u001b[0;34m\" dropoff_datetime\"\u001b[0m\u001b[0;34m)\u001b[0m\u001b[0;34m\u001b[0m\u001b[0m\n\u001b[1;32m      4\u001b[0m \u001b[0mdf_tipnz\u001b[0m\u001b[0;34m=\u001b[0m \u001b[0mmaster_df\u001b[0m\u001b[0;34m[\u001b[0m\u001b[0mmaster_df\u001b[0m\u001b[0;34m[\u001b[0m\u001b[0;34m' tip_amount'\u001b[0m\u001b[0;34m]\u001b[0m \u001b[0;34m>\u001b[0m \u001b[0;36m0.0\u001b[0m\u001b[0;34m]\u001b[0m\u001b[0;34m[\u001b[0m\u001b[0;34m:\u001b[0m\u001b[0;36m100000\u001b[0m\u001b[0;34m]\u001b[0m\u001b[0;34m\u001b[0m\u001b[0m\n\u001b[1;32m      5\u001b[0m \u001b[0;32mprint\u001b[0m \u001b[0mdf_tipnz\u001b[0m\u001b[0;34m.\u001b[0m\u001b[0mshape\u001b[0m\u001b[0;34m\u001b[0m\u001b[0m\n",
        "\u001b[0;31mNameError\u001b[0m: name 'CalculateTipClasses' is not defined"
       ]
      }
     ],
     "prompt_number": 20
    },
    {
     "cell_type": "code",
     "collapsed": false,
     "input": [
      "train_df,test_df = GetTrainingAndTest(df_tipnz)\n",
      "\n",
      "dvec = DictVectorizer()\n",
      "dict_df = train_df[feature_cols].T.to_dict().values()\n",
      "train_data = pd.DataFrame(dvec.fit_transform(dict_df).toarray())\n",
      "\n",
      "dict_df = test_df[feature_cols].T.to_dict().values()\n",
      "test_data = pd.DataFrame(dvec.transform(dict_df).toarray())\n",
      "\n",
      "X_train = train_data\n",
      "Y_train =  train_df['tip_class'].reshape(len(train_df['tip_class']), 1)\n",
      "\n",
      "X_dev = test_data\n",
      "Y_dev = test_df['tip_class'].reshape(len(test_df['tip_class']), 1)"
     ],
     "language": "python",
     "metadata": {},
     "outputs": []
    },
    {
     "cell_type": "markdown",
     "metadata": {},
     "source": [
      "####Support Vector Machine Classifier"
     ]
    },
    {
     "cell_type": "code",
     "collapsed": false,
     "input": [
      "run_SVM(X_train, Y_train, Y_dev)"
     ],
     "language": "python",
     "metadata": {},
     "outputs": []
    },
    {
     "cell_type": "markdown",
     "metadata": {},
     "source": [
      "####Decision Tree Classifier"
     ]
    },
    {
     "cell_type": "code",
     "collapsed": false,
     "input": [
      "run_decision_tree(X_train, Y_train, Y_dev)"
     ],
     "language": "python",
     "metadata": {},
     "outputs": []
    },
    {
     "cell_type": "markdown",
     "metadata": {},
     "source": [
      "###Tip Classification Model"
     ]
    },
    {
     "cell_type": "code",
     "collapsed": false,
     "input": [
      "train_df,test_df = GetTrainingAndTest(df)\n",
      "\n",
      "dvec = DictVectorizer()\n",
      "dict_df = train_df[feature_cols].T.to_dict().values()\n",
      "train_data = pd.DataFrame(dvec.fit_transform(dict_df).toarray())\n",
      "\n",
      "dict_df = test_df[feature_cols].T.to_dict().values()\n",
      "test_data = pd.DataFrame(dvec.transform(dict_df).toarray())\n",
      "\n",
      "X_train = train_data\n",
      "Y_train =  train_df['cluster_class'].reshape(len(train_df['cluster_class']), 1)\n",
      "\n",
      "X_dev = test_data\n",
      "Y_dev = test_df['cluster_class'].reshape(len(test_df['cluster_class']), 1)"
     ],
     "language": "python",
     "metadata": {},
     "outputs": []
    },
    {
     "cell_type": "markdown",
     "metadata": {},
     "source": [
      "####Support Vector Machine Classifier"
     ]
    },
    {
     "cell_type": "code",
     "collapsed": false,
     "input": [
      "run_SVM(X_train, Y_train, Y_dev)"
     ],
     "language": "python",
     "metadata": {},
     "outputs": []
    },
    {
     "cell_type": "markdown",
     "metadata": {},
     "source": [
      "####Decision Tree Classifier"
     ]
    },
    {
     "cell_type": "code",
     "collapsed": false,
     "input": [
      "run_decision_tree(X_train, Y_train, Y_dev)"
     ],
     "language": "python",
     "metadata": {},
     "outputs": []
    },
    {
     "cell_type": "markdown",
     "metadata": {},
     "source": [
      "### TIP PERCENT CLASSIFIFCATION MODEL"
     ]
    },
    {
     "cell_type": "code",
     "collapsed": false,
     "input": [
      "train_df,test_df = GetTrainingAndTest(df)\n",
      "\n",
      "dvec = DictVectorizer()\n",
      "dict_df = train_df[feature_cols].T.to_dict().values()\n",
      "train_data = pd.DataFrame(dvec.fit_transform(dict_df).toarray())\n",
      "\n",
      "dict_df = test_df[feature_cols].T.to_dict().values()\n",
      "test_data = pd.DataFrame(dvec.transform(dict_df).toarray())\n",
      "\n",
      "X_train = train_data\n",
      "Y_train =  train_df['cluster_percent_class'].reshape(len(train_df['cluster_percent_class']), 1)\n",
      "\n",
      "X_dev = test_data\n",
      "Y_dev = test_df['cluster_percent_class'].reshape(len(test_df['cluster_percent_class']), 1)"
     ],
     "language": "python",
     "metadata": {},
     "outputs": [],
     "prompt_number": 21
    },
    {
     "cell_type": "markdown",
     "metadata": {},
     "source": [
      "#### Decision tree classifier"
     ]
    },
    {
     "cell_type": "code",
     "collapsed": false,
     "input": [
      "run_decision_tree(X_train, Y_train, Y_dev)"
     ],
     "language": "python",
     "metadata": {},
     "outputs": [
      {
       "output_type": "stream",
       "stream": "stdout",
       "text": [
        "DRC set accuracy: 50.101158\n"
       ]
      }
     ],
     "prompt_number": 22
    },
    {
     "cell_type": "markdown",
     "metadata": {},
     "source": [
      "#### SVM Classifier"
     ]
    },
    {
     "cell_type": "code",
     "collapsed": false,
     "input": [],
     "language": "python",
     "metadata": {},
     "outputs": []
    },
    {
     "cell_type": "markdown",
     "metadata": {},
     "source": [
      "#### Random Forests"
     ]
    },
    {
     "cell_type": "code",
     "collapsed": false,
     "input": [],
     "language": "python",
     "metadata": {},
     "outputs": []
    },
    {
     "cell_type": "markdown",
     "metadata": {},
     "source": [
      "#### Adaboost with DRC"
     ]
    },
    {
     "cell_type": "code",
     "collapsed": false,
     "input": [],
     "language": "python",
     "metadata": {},
     "outputs": []
    },
    {
     "cell_type": "markdown",
     "metadata": {},
     "source": [
      "###Tip Amount Prediction Regression Model"
     ]
    },
    {
     "cell_type": "code",
     "collapsed": false,
     "input": [
      "train_df,test_df = GetTrainingAndTest(df)\n",
      "dvec = DictVectorizer()\n",
      "dict_df = train_df[feature_cols].T.to_dict().values()\n",
      "train_data = pd.DataFrame(dvec.fit_transform(dict_df).toarray())\n",
      "\n",
      "dict_df = test_df[feature_cols].T.to_dict().values()\n",
      "test_data = pd.DataFrame(dvec.transform(dict_df).toarray())\n",
      "\n",
      "X_train = train_data\n",
      "Y_train =  train_df[' tip_amount'].reshape(len(train_df[' tip_amount']), 1)\n",
      "\n",
      "X_dev = test_data\n",
      "Y_dev = test_df[' tip_amount'].reshape(len(test_df[' tip_amount']), 1)"
     ],
     "language": "python",
     "metadata": {},
     "outputs": []
    },
    {
     "cell_type": "markdown",
     "metadata": {},
     "source": [
      "####Baseline Accuracy for Regression"
     ]
    },
    {
     "cell_type": "code",
     "collapsed": false,
     "input": [
      "tip_mean = df[' tip_amount'].mean()\n",
      "\n",
      "diff_df = df[' tip_amount'].apply(lambda(x): abs(x-tip_mean))\n",
      "mae = diff_df.sum()/df.shape[0]\n",
      "print \"Mean absolute Error: %f\" %(mae)"
     ],
     "language": "python",
     "metadata": {},
     "outputs": []
    },
    {
     "cell_type": "markdown",
     "metadata": {},
     "source": [
      "####Linear Regression Model"
     ]
    },
    {
     "cell_type": "code",
     "collapsed": false,
     "input": [
      "Y_reg_train =  train_df[' tip_amount'].reshape(len(train_df[' tip_amount']), 1)\n",
      "Y_reg_dev = test_df[' tip_amount'].reshape(len(test_df[' tip_amount']), 1)\n",
      "\n",
      "lr = linear_model.LinearRegression()\n",
      "lr.fit(X_train, Y_reg_train.reshape(Y_train.shape[0],))\n",
      "Y_pred_dev = lr.predict(X_dev)\n",
      "Y_pred_dev = Y_pred_dev.reshape(len(Y_pred_dev), 1)\n",
      "print \"Linear Regression Accuracy:%f\" %(lr.score(X_dev, Y_reg_dev))\n",
      "\n",
      "mae = np.sum(np.absolute(Y_reg_dev - Y_pred_dev))/Y_reg_dev.shape[0]\n",
      "print \"Mean absolute Error: %f\" %(mae)"
     ],
     "language": "python",
     "metadata": {},
     "outputs": []
    },
    {
     "cell_type": "markdown",
     "metadata": {},
     "source": [
      "####SVM Regression Model"
     ]
    },
    {
     "cell_type": "code",
     "collapsed": false,
     "input": [
      "svr = svm.SVR()\n",
      "svr.fit(X_train, Y_reg_train.reshape(Y_train.shape[0],))\n",
      "# Y_pred_dev2 = lgr.predict(X_dev)\n",
      "print svr.score(X_dev, Y_reg_dev)"
     ],
     "language": "python",
     "metadata": {},
     "outputs": []
    },
    {
     "cell_type": "markdown",
     "metadata": {},
     "source": [
      "####Lasso Regression Model"
     ]
    },
    {
     "cell_type": "code",
     "collapsed": false,
     "input": [
      "lasso = linear_model.Lasso()\n",
      "lasso.fit(X_train, Y_reg_train.reshape(Y_train.shape[0],))\n",
      "Y_pred_dev = lasso.predict(X_dev).reshape(len(Y_pred_dev), 1)\n",
      "print \"Lasso Regression Accuracy:%f\" %(lasso.score(X_dev, Y_reg_dev))\n",
      "\n",
      "mae = np.sum(np.absolute(Y_reg_dev - Y_pred_dev))/Y_reg_dev.shape[0]\n",
      "print \"Mean absolute Error: %f\" %(mae)\n",
      "\n",
      "# print lasso.coefs"
     ],
     "language": "python",
     "metadata": {},
     "outputs": []
    }
   ],
   "metadata": {}
  }
 ]
}