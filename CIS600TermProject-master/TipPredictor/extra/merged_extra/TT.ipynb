{
 "metadata": {
  "name": ""
 },
 "nbformat": 3,
 "nbformat_minor": 0,
 "worksheets": [
  {
   "cells": [
    {
     "cell_type": "code",
     "collapsed": false,
     "input": [
      "import pandas as pd\n",
      "import numpy as np"
     ],
     "language": "python",
     "metadata": {},
     "outputs": [],
     "prompt_number": 2
    },
    {
     "cell_type": "code",
     "collapsed": false,
     "input": [
      "s1 = pd.read_csv('../../data/trip_merged_onemonth.csv')"
     ],
     "language": "python",
     "metadata": {},
     "outputs": [],
     "prompt_number": 4
    },
    {
     "cell_type": "code",
     "collapsed": false,
     "input": [
      "s1.head()"
     ],
     "language": "python",
     "metadata": {},
     "outputs": [
      {
       "html": [
        "<div style=\"max-height:1000px;max-width:1500px;overflow:auto;\">\n",
        "<table border=\"1\" class=\"dataframe\">\n",
        "  <thead>\n",
        "    <tr style=\"text-align: right;\">\n",
        "      <th></th>\n",
        "      <th>Unnamed: 0</th>\n",
        "      <th>medallion</th>\n",
        "      <th>hack_license</th>\n",
        "      <th>vendor_id_x</th>\n",
        "      <th>rate_code</th>\n",
        "      <th>store_and_fwd_flag</th>\n",
        "      <th>pickup_datetime</th>\n",
        "      <th>dropoff_datetime</th>\n",
        "      <th>passenger_count</th>\n",
        "      <th>trip_time_in_secs</th>\n",
        "      <th>...</th>\n",
        "      <th>dropoff_longitude</th>\n",
        "      <th>dropoff_latitude</th>\n",
        "      <th>vendor_id_y</th>\n",
        "      <th>payment_type</th>\n",
        "      <th>fare_amount</th>\n",
        "      <th>surcharge</th>\n",
        "      <th>mta_tax</th>\n",
        "      <th>tip_amount</th>\n",
        "      <th>tolls_amount</th>\n",
        "      <th>total_amount</th>\n",
        "    </tr>\n",
        "  </thead>\n",
        "  <tbody>\n",
        "    <tr>\n",
        "      <th>0</th>\n",
        "      <td>0</td>\n",
        "      <td>2013000001</td>\n",
        "      <td>2013000001</td>\n",
        "      <td>VTS</td>\n",
        "      <td>1</td>\n",
        "      <td>NaN</td>\n",
        "      <td>2013-01-01 00:00:00</td>\n",
        "      <td>2013-01-01 00:28:00</td>\n",
        "      <td>1</td>\n",
        "      <td>1680</td>\n",
        "      <td>...</td>\n",
        "      <td>-73.954185</td>\n",
        "      <td>40.778847</td>\n",
        "      <td>VTS</td>\n",
        "      <td>CSH</td>\n",
        "      <td>20.5</td>\n",
        "      <td>0.5</td>\n",
        "      <td>0.5</td>\n",
        "      <td>0.00</td>\n",
        "      <td>0</td>\n",
        "      <td>21.50</td>\n",
        "    </tr>\n",
        "    <tr>\n",
        "      <th>1</th>\n",
        "      <td>1</td>\n",
        "      <td>2013000002</td>\n",
        "      <td>2013000002</td>\n",
        "      <td>VTS</td>\n",
        "      <td>1</td>\n",
        "      <td>NaN</td>\n",
        "      <td>2013-01-01 00:00:00</td>\n",
        "      <td>2013-01-01 00:06:00</td>\n",
        "      <td>5</td>\n",
        "      <td>360</td>\n",
        "      <td>...</td>\n",
        "      <td>-73.981834</td>\n",
        "      <td>40.768639</td>\n",
        "      <td>VTS</td>\n",
        "      <td>CSH</td>\n",
        "      <td>6.0</td>\n",
        "      <td>0.5</td>\n",
        "      <td>0.5</td>\n",
        "      <td>0.00</td>\n",
        "      <td>0</td>\n",
        "      <td>7.00</td>\n",
        "    </tr>\n",
        "    <tr>\n",
        "      <th>2</th>\n",
        "      <td>2</td>\n",
        "      <td>2013000003</td>\n",
        "      <td>2013000003</td>\n",
        "      <td>VTS</td>\n",
        "      <td>1</td>\n",
        "      <td>NaN</td>\n",
        "      <td>2013-01-01 00:00:00</td>\n",
        "      <td>2013-01-01 00:10:00</td>\n",
        "      <td>1</td>\n",
        "      <td>600</td>\n",
        "      <td>...</td>\n",
        "      <td>-74.013779</td>\n",
        "      <td>40.705036</td>\n",
        "      <td>VTS</td>\n",
        "      <td>CRD</td>\n",
        "      <td>10.5</td>\n",
        "      <td>0.5</td>\n",
        "      <td>0.5</td>\n",
        "      <td>2.20</td>\n",
        "      <td>0</td>\n",
        "      <td>13.70</td>\n",
        "    </tr>\n",
        "    <tr>\n",
        "      <th>3</th>\n",
        "      <td>3</td>\n",
        "      <td>2013000004</td>\n",
        "      <td>2013000004</td>\n",
        "      <td>VTS</td>\n",
        "      <td>1</td>\n",
        "      <td>NaN</td>\n",
        "      <td>2013-01-01 00:00:00</td>\n",
        "      <td>2013-01-01 00:08:00</td>\n",
        "      <td>2</td>\n",
        "      <td>480</td>\n",
        "      <td>...</td>\n",
        "      <td>-73.977737</td>\n",
        "      <td>40.757927</td>\n",
        "      <td>VTS</td>\n",
        "      <td>CRD</td>\n",
        "      <td>8.0</td>\n",
        "      <td>0.5</td>\n",
        "      <td>0.5</td>\n",
        "      <td>1.70</td>\n",
        "      <td>0</td>\n",
        "      <td>10.70</td>\n",
        "    </tr>\n",
        "    <tr>\n",
        "      <th>4</th>\n",
        "      <td>4</td>\n",
        "      <td>2013000005</td>\n",
        "      <td>2013000005</td>\n",
        "      <td>VTS</td>\n",
        "      <td>1</td>\n",
        "      <td>NaN</td>\n",
        "      <td>2013-01-01 00:00:00</td>\n",
        "      <td>2013-01-01 00:16:00</td>\n",
        "      <td>4</td>\n",
        "      <td>960</td>\n",
        "      <td>...</td>\n",
        "      <td>-73.977226</td>\n",
        "      <td>40.783607</td>\n",
        "      <td>VTS</td>\n",
        "      <td>CRD</td>\n",
        "      <td>14.5</td>\n",
        "      <td>0.5</td>\n",
        "      <td>0.5</td>\n",
        "      <td>4.65</td>\n",
        "      <td>0</td>\n",
        "      <td>20.15</td>\n",
        "    </tr>\n",
        "  </tbody>\n",
        "</table>\n",
        "<p>5 rows \u00d7 23 columns</p>\n",
        "</div>"
       ],
       "metadata": {},
       "output_type": "pyout",
       "prompt_number": 5,
       "text": [
        "   Unnamed: 0   medallion   hack_license  vendor_id_x   rate_code  \\\n",
        "0           0  2013000001     2013000001          VTS           1   \n",
        "1           1  2013000002     2013000002          VTS           1   \n",
        "2           2  2013000003     2013000003          VTS           1   \n",
        "3           3  2013000004     2013000004          VTS           1   \n",
        "4           4  2013000005     2013000005          VTS           1   \n",
        "\n",
        "   store_and_fwd_flag      pickup_datetime     dropoff_datetime  \\\n",
        "0                 NaN  2013-01-01 00:00:00  2013-01-01 00:28:00   \n",
        "1                 NaN  2013-01-01 00:00:00  2013-01-01 00:06:00   \n",
        "2                 NaN  2013-01-01 00:00:00  2013-01-01 00:10:00   \n",
        "3                 NaN  2013-01-01 00:00:00  2013-01-01 00:08:00   \n",
        "4                 NaN  2013-01-01 00:00:00  2013-01-01 00:16:00   \n",
        "\n",
        "    passenger_count   trip_time_in_secs      ...         dropoff_longitude  \\\n",
        "0                 1                1680      ...                -73.954185   \n",
        "1                 5                 360      ...                -73.981834   \n",
        "2                 1                 600      ...                -74.013779   \n",
        "3                 2                 480      ...                -73.977737   \n",
        "4                 4                 960      ...                -73.977226   \n",
        "\n",
        "    dropoff_latitude   vendor_id_y   payment_type   fare_amount  surcharge  \\\n",
        "0          40.778847           VTS            CSH          20.5        0.5   \n",
        "1          40.768639           VTS            CSH           6.0        0.5   \n",
        "2          40.705036           VTS            CRD          10.5        0.5   \n",
        "3          40.757927           VTS            CRD           8.0        0.5   \n",
        "4          40.783607           VTS            CRD          14.5        0.5   \n",
        "\n",
        "   mta_tax   tip_amount   tolls_amount   total_amount  \n",
        "0      0.5         0.00              0          21.50  \n",
        "1      0.5         0.00              0           7.00  \n",
        "2      0.5         2.20              0          13.70  \n",
        "3      0.5         1.70              0          10.70  \n",
        "4      0.5         4.65              0          20.15  \n",
        "\n",
        "[5 rows x 23 columns]"
       ]
      }
     ],
     "prompt_number": 5
    },
    {
     "cell_type": "code",
     "collapsed": false,
     "input": [
      "from datetime import datetime\n",
      "def InterpretPickupTime(df):\n",
      "    count = df.count()[0]\n",
      "    month = [0]*count\n",
      "    hourOfDay = [0]*count\n",
      "    dayOfWeek = [0]*count\n",
      "    try:\n",
      "        for i in range(count):\n",
      "            dt = datetime.strptime(df[\" pickup_datetime\"][i],\"%Y-%m-%d %H:%M:%S\")\n",
      "            month[i] = dt.month\n",
      "            dayOfWeek[i] = dt.weekday() #0=monday, 6=sunday\n",
      "            hourOfDay[i] = dt.hour\n",
      "    except:\n",
      "        print \"Exception\" + str(i) + \"  \"+ df[\" pickup_datetime\"][i]\n",
      "        return\n",
      "    df[\"month\"] = month\n",
      "    df[\"hourOfDay\"] = hourOfDay\n",
      "    df[\"dayOfWeek\"] = dayOfWeek\n"
     ],
     "language": "python",
     "metadata": {},
     "outputs": [],
     "prompt_number": 4
    },
    {
     "cell_type": "code",
     "collapsed": false,
     "input": [
      "InterpretPickupTime(s1)"
     ],
     "language": "python",
     "metadata": {},
     "outputs": [],
     "prompt_number": 5
    },
    {
     "cell_type": "code",
     "collapsed": false,
     "input": [
      "s1.columns"
     ],
     "language": "python",
     "metadata": {},
     "outputs": [
      {
       "metadata": {},
       "output_type": "pyout",
       "prompt_number": 7,
       "text": [
        "Index([u'Unnamed: 0', u'medallion', u' hack_license', u' vendor_id_x', u' rate_code', u' store_and_fwd_flag', u' pickup_datetime', u' dropoff_datetime', u' passenger_count', u' trip_time_in_secs', u' trip_distance', u' pickup_longitude', u' pickup_latitude', u' dropoff_longitude', u' dropoff_latitude', u' vendor_id_y', u' payment_type', u' fare_amount', u' surcharge', u' mta_tax', u' tip_amount', u' tolls_amount', u' total_amount', u'month', u'hourOfDay', u'dayOfWeek'], dtype='object')"
       ]
      }
     ],
     "prompt_number": 7
    },
    {
     "cell_type": "code",
     "collapsed": false,
     "input": [
      "s1[\" pickup_datetime\"][5426160]"
     ],
     "language": "python",
     "metadata": {},
     "outputs": [
      {
       "metadata": {},
       "output_type": "pyout",
       "prompt_number": 21,
       "text": [
        "'2013-01-13 00:00:00'"
       ]
      }
     ],
     "prompt_number": 21
    },
    {
     "cell_type": "code",
     "collapsed": false,
     "input": [
      "kutti_s1 = s1[:10000]"
     ],
     "language": "python",
     "metadata": {},
     "outputs": [],
     "prompt_number": 6
    },
    {
     "cell_type": "markdown",
     "metadata": {},
     "source": [
      "dropoff date and time -> hour of day, month, day of week \n"
     ]
    },
    {
     "cell_type": "heading",
     "level": 1,
     "metadata": {},
     "source": [
      "USE THIS!!!!"
     ]
    },
    {
     "cell_type": "code",
     "collapsed": false,
     "input": [
      "from datetime import datetime\n",
      "def InterpretPickupTime(df, field):\n",
      "    count = df.count()[0]\n",
      "    month = [0]*count #1-12\n",
      "    hourOfDay = [0]*count #0-23\n",
      "    dayOfWeek = [0]*count #0=monday, 6=sunday\n",
      "    weekend = [\"X\"]*count #weekday/weekend\n",
      "    timegroup = [\"X\"]*count #0-5early, 6-10morning, 11-15afternoon, 16-20evening, 21-23night, \n",
      "    try:\n",
      "        for i in range(count):\n",
      "            dt = datetime.strptime(df[field][i],\"%Y-%m-%d %H:%M:%S\")\n",
      "            month[i] = dt.month\n",
      "            dayOfWeek[i] = dt.weekday()\n",
      "            hourOfDay[i] = dt.hour\n",
      "            if dt.weekday()> 4:\n",
      "                weekend[i] = \"weekend\";\n",
      "            else:\n",
      "                weekend[i] = \"weekday\";\n",
      "            if hourOfDay[i] < 6:\n",
      "                timegroup[i] = \"early\"\n",
      "            elif hourOfDay[i] < 11:\n",
      "                timegroup[i] = \"morning\"\n",
      "            elif hourOfDay[i] < 16:\n",
      "                timegroup[i] = \"afternoon\"\n",
      "            elif hourOfDay[i] < 21:\n",
      "                timegroup[i] = \"evening\"\n",
      "            else:\n",
      "                timegroup[i] = \"night\"\n",
      "    except:\n",
      "        print \"Exception\" + str(i) + \"  \"+ df[field][i]\n",
      "        return\n",
      "    df[field+\"month\"] = month\n",
      "    df[field+\"hourOfDay\"] = hourOfDay\n",
      "    df[field+\"dayOfWeek\"] = dayOfWeek\n",
      "    df[field+\"weekend\"] = weekend\n",
      "    df[field+\"timegroup\"] = timegroup"
     ],
     "language": "python",
     "metadata": {},
     "outputs": [],
     "prompt_number": 19
    },
    {
     "cell_type": "code",
     "collapsed": false,
     "input": [
      "def GetZipCodesByBurough():\n",
      "    zipcodesByB = pd.read_csv(\"../../../zipcodesByBuruough.csv\",header=None)\n",
      "    zipDiction={}\n",
      "    for i in range(zipcodesByB.count()[0]):\n",
      "        print zipcodesByB[0][i]\n",
      "        for row in zipcodesByB[1][i].split(\",\"):\n",
      "            zipDiction[int(row.strip())]=zipcodesByB[0][i]\n",
      "    return zipDiction\n",
      "\n",
      "def PickZipCode(Lat,Long,zipDiction):\n",
      "    #first pick min latitude\n",
      "    zipcodes_NY = pd.read_csv(\"../../../zipcode_NYC.csv\")\n",
      "    minLong = min(zipcodes_NY.longitude.tolist(), key=lambda x:abs(x-Long))\n",
      "    minLat = min(zipcodes_NY[zipcodes_NY.longitude == minLong].latitude.tolist(), key=lambda x:abs(x-Lat))\n",
      "#     print minLat,minLong\n",
      "    z = zipcodes_NY[((zipcodes_NY.longitude==minLong)&(zipcodes_NY.latitude==minLat))][\"zip\"].tolist()[0]\n",
      "#     print z\n",
      "    area = zipDiction[z]\n",
      "    return z,area"
     ],
     "language": "python",
     "metadata": {},
     "outputs": [],
     "prompt_number": 52
    },
    {
     "cell_type": "code",
     "collapsed": false,
     "input": [
      "# field=\"dropoff\"\n",
      "# i=0\n",
      "# print kutti_s1[\" \"+field+\"_latitude\"][i],kutti_s1[\" \"+field+\"_longitude\"][i]\n",
      "PickZipCode(kutti_s1[\" \"+field+\"_latitude\"][i],kutti_s1[\" \"+field+\"_longitude\"][i],zipDiction)\n",
      "# print kutti_s1[\" \"+field+\"_longitude\"][i],kutti_s1[\" \"+field+\"_latitude\"][i]\n",
      "# zipcodes_NY.zip"
     ],
     "language": "python",
     "metadata": {},
     "outputs": [
      {
       "output_type": "stream",
       "stream": "stdout",
       "text": [
        "40.776777 -73.9541\n"
       ]
      }
     ],
     "prompt_number": 51
    },
    {
     "cell_type": "code",
     "collapsed": false,
     "input": [
      "def AssignZipcodes(df,field):\n",
      "    count = df.count()[0]\n",
      "    zipz = [0]*count\n",
      "    area = [\"X\"]*count\n",
      "    zipDiction = GetZipCodesByBurough()\n",
      "    try:\n",
      "        for i in range(count):\n",
      "            zipz[i],area[i] = PickZipCode(df[\" \"+field+\"_latitude\"][i],df[\" \"+field+\"_longitude\"][i],zipDiction)\n",
      "    except:\n",
      "        print \"exception \"+str(i)\n",
      "    df[\"zipz\"]=zipz\n",
      "    df[field+\"area\"]=area"
     ],
     "language": "python",
     "metadata": {},
     "outputs": [],
     "prompt_number": 53
    },
    {
     "cell_type": "code",
     "collapsed": false,
     "input": [
      "kutti_s1.shape"
     ],
     "language": "python",
     "metadata": {},
     "outputs": [
      {
       "metadata": {},
       "output_type": "pyout",
       "prompt_number": 55,
       "text": [
        "(10000, 25)"
       ]
      }
     ],
     "prompt_number": 55
    },
    {
     "cell_type": "code",
     "collapsed": false,
     "input": [],
     "language": "python",
     "metadata": {},
     "outputs": []
    },
    {
     "cell_type": "code",
     "collapsed": false,
     "input": [
      "zipDiction = GetZipCodesByBurough()"
     ],
     "language": "python",
     "metadata": {},
     "outputs": [
      {
       "output_type": "stream",
       "stream": "stdout",
       "text": [
        "Bronx\n",
        "Brooklyn\n",
        "Manhattan\n",
        "Queens\n",
        "StatenIsland\n"
       ]
      }
     ],
     "prompt_number": 27
    },
    {
     "cell_type": "code",
     "collapsed": false,
     "input": [],
     "language": "python",
     "metadata": {},
     "outputs": []
    },
    {
     "cell_type": "code",
     "collapsed": false,
     "input": [
      "AssignZipcodes(kutti_s1,\"dropoff\")"
     ],
     "language": "python",
     "metadata": {},
     "outputs": [
      {
       "output_type": "stream",
       "stream": "stdout",
       "text": [
        "Bronx\n",
        "Brooklyn\n",
        "Manhattan\n",
        "Queens\n",
        "StatenIsland\n",
        "exception 2"
       ]
      },
      {
       "output_type": "stream",
       "stream": "stdout",
       "text": [
        "\n"
       ]
      },
      {
       "output_type": "stream",
       "stream": "stderr",
       "text": [
        "-c:11: SettingWithCopyWarning: \n",
        "A value is trying to be set on a copy of a slice from a DataFrame.\n",
        "Try using .loc[row_indexer,col_indexer] = value instead\n",
        "\n",
        "See the the caveats in the documentation: http://pandas.pydata.org/pandas-docs/stable/indexing.html#indexing-view-versus-copy\n",
        "-c:12: SettingWithCopyWarning: \n",
        "A value is trying to be set on a copy of a slice from a DataFrame.\n",
        "Try using .loc[row_indexer,col_indexer] = value instead\n",
        "\n",
        "See the the caveats in the documentation: http://pandas.pydata.org/pandas-docs/stable/indexing.html#indexing-view-versus-copy\n"
       ]
      }
     ],
     "prompt_number": 54
    },
    {
     "cell_type": "code",
     "collapsed": false,
     "input": [
      "def ModifyDataset(df):\n",
      "    field = \" pickup_datetime\"\n",
      "    InterpretPickupTime(df, field)\n",
      "    field = \" dropoff_datetime\"\n",
      "    InterpretPickupTime(df, field)\n",
      "    "
     ],
     "language": "python",
     "metadata": {},
     "outputs": [],
     "prompt_number": 10
    },
    {
     "cell_type": "code",
     "collapsed": false,
     "input": [
      "ModifyDataset(kutti_s1)"
     ],
     "language": "python",
     "metadata": {},
     "outputs": [
      {
       "ename": "NameError",
       "evalue": "name 'ModifyDataset' is not defined",
       "output_type": "pyerr",
       "traceback": [
        "\u001b[0;31m---------------------------------------------------------------------------\u001b[0m\n\u001b[0;31mNameError\u001b[0m                                 Traceback (most recent call last)",
        "\u001b[0;32m<ipython-input-9-5d02dd44c58c>\u001b[0m in \u001b[0;36m<module>\u001b[0;34m()\u001b[0m\n\u001b[0;32m----> 1\u001b[0;31m \u001b[0mModifyDataset\u001b[0m\u001b[0;34m(\u001b[0m\u001b[0mkutti_s1\u001b[0m\u001b[0;34m)\u001b[0m\u001b[0;34m\u001b[0m\u001b[0m\n\u001b[0m",
        "\u001b[0;31mNameError\u001b[0m: name 'ModifyDataset' is not defined"
       ]
      }
     ],
     "prompt_number": 9
    },
    {
     "cell_type": "code",
     "collapsed": false,
     "input": [
      "kutti_s1.head()"
     ],
     "language": "python",
     "metadata": {},
     "outputs": [
      {
       "html": [
        "<div style=\"max-height:1000px;max-width:1500px;overflow:auto;\">\n",
        "<table border=\"1\" class=\"dataframe\">\n",
        "  <thead>\n",
        "    <tr style=\"text-align: right;\">\n",
        "      <th></th>\n",
        "      <th>Unnamed: 0</th>\n",
        "      <th>medallion</th>\n",
        "      <th>hack_license</th>\n",
        "      <th>vendor_id_x</th>\n",
        "      <th>rate_code</th>\n",
        "      <th>store_and_fwd_flag</th>\n",
        "      <th>pickup_datetime</th>\n",
        "      <th>dropoff_datetime</th>\n",
        "      <th>passenger_count</th>\n",
        "      <th>trip_time_in_secs</th>\n",
        "      <th>...</th>\n",
        "      <th>dropoff_longitude</th>\n",
        "      <th>dropoff_latitude</th>\n",
        "      <th>vendor_id_y</th>\n",
        "      <th>payment_type</th>\n",
        "      <th>fare_amount</th>\n",
        "      <th>surcharge</th>\n",
        "      <th>mta_tax</th>\n",
        "      <th>tip_amount</th>\n",
        "      <th>tolls_amount</th>\n",
        "      <th>total_amount</th>\n",
        "    </tr>\n",
        "  </thead>\n",
        "  <tbody>\n",
        "    <tr>\n",
        "      <th>0</th>\n",
        "      <td>0</td>\n",
        "      <td>2013000001</td>\n",
        "      <td>2013000001</td>\n",
        "      <td>VTS</td>\n",
        "      <td>1</td>\n",
        "      <td>NaN</td>\n",
        "      <td>2013-01-01 00:00:00</td>\n",
        "      <td>2013-01-01 00:28:00</td>\n",
        "      <td>1</td>\n",
        "      <td>1680</td>\n",
        "      <td>...</td>\n",
        "      <td>-73.954185</td>\n",
        "      <td>40.778847</td>\n",
        "      <td>VTS</td>\n",
        "      <td>CSH</td>\n",
        "      <td>20.5</td>\n",
        "      <td>0.5</td>\n",
        "      <td>0.5</td>\n",
        "      <td>0.00</td>\n",
        "      <td>0</td>\n",
        "      <td>21.50</td>\n",
        "    </tr>\n",
        "    <tr>\n",
        "      <th>1</th>\n",
        "      <td>1</td>\n",
        "      <td>2013000002</td>\n",
        "      <td>2013000002</td>\n",
        "      <td>VTS</td>\n",
        "      <td>1</td>\n",
        "      <td>NaN</td>\n",
        "      <td>2013-01-01 00:00:00</td>\n",
        "      <td>2013-01-01 00:06:00</td>\n",
        "      <td>5</td>\n",
        "      <td>360</td>\n",
        "      <td>...</td>\n",
        "      <td>-73.981834</td>\n",
        "      <td>40.768639</td>\n",
        "      <td>VTS</td>\n",
        "      <td>CSH</td>\n",
        "      <td>6.0</td>\n",
        "      <td>0.5</td>\n",
        "      <td>0.5</td>\n",
        "      <td>0.00</td>\n",
        "      <td>0</td>\n",
        "      <td>7.00</td>\n",
        "    </tr>\n",
        "    <tr>\n",
        "      <th>2</th>\n",
        "      <td>2</td>\n",
        "      <td>2013000003</td>\n",
        "      <td>2013000003</td>\n",
        "      <td>VTS</td>\n",
        "      <td>1</td>\n",
        "      <td>NaN</td>\n",
        "      <td>2013-01-01 00:00:00</td>\n",
        "      <td>2013-01-01 00:10:00</td>\n",
        "      <td>1</td>\n",
        "      <td>600</td>\n",
        "      <td>...</td>\n",
        "      <td>-74.013779</td>\n",
        "      <td>40.705036</td>\n",
        "      <td>VTS</td>\n",
        "      <td>CRD</td>\n",
        "      <td>10.5</td>\n",
        "      <td>0.5</td>\n",
        "      <td>0.5</td>\n",
        "      <td>2.20</td>\n",
        "      <td>0</td>\n",
        "      <td>13.70</td>\n",
        "    </tr>\n",
        "    <tr>\n",
        "      <th>3</th>\n",
        "      <td>3</td>\n",
        "      <td>2013000004</td>\n",
        "      <td>2013000004</td>\n",
        "      <td>VTS</td>\n",
        "      <td>1</td>\n",
        "      <td>NaN</td>\n",
        "      <td>2013-01-01 00:00:00</td>\n",
        "      <td>2013-01-01 00:08:00</td>\n",
        "      <td>2</td>\n",
        "      <td>480</td>\n",
        "      <td>...</td>\n",
        "      <td>-73.977737</td>\n",
        "      <td>40.757927</td>\n",
        "      <td>VTS</td>\n",
        "      <td>CRD</td>\n",
        "      <td>8.0</td>\n",
        "      <td>0.5</td>\n",
        "      <td>0.5</td>\n",
        "      <td>1.70</td>\n",
        "      <td>0</td>\n",
        "      <td>10.70</td>\n",
        "    </tr>\n",
        "    <tr>\n",
        "      <th>4</th>\n",
        "      <td>4</td>\n",
        "      <td>2013000005</td>\n",
        "      <td>2013000005</td>\n",
        "      <td>VTS</td>\n",
        "      <td>1</td>\n",
        "      <td>NaN</td>\n",
        "      <td>2013-01-01 00:00:00</td>\n",
        "      <td>2013-01-01 00:16:00</td>\n",
        "      <td>4</td>\n",
        "      <td>960</td>\n",
        "      <td>...</td>\n",
        "      <td>-73.977226</td>\n",
        "      <td>40.783607</td>\n",
        "      <td>VTS</td>\n",
        "      <td>CRD</td>\n",
        "      <td>14.5</td>\n",
        "      <td>0.5</td>\n",
        "      <td>0.5</td>\n",
        "      <td>4.65</td>\n",
        "      <td>0</td>\n",
        "      <td>20.15</td>\n",
        "    </tr>\n",
        "  </tbody>\n",
        "</table>\n",
        "<p>5 rows \u00d7 23 columns</p>\n",
        "</div>"
       ],
       "metadata": {},
       "output_type": "pyout",
       "prompt_number": 34,
       "text": [
        "   Unnamed: 0   medallion   hack_license  vendor_id_x   rate_code  \\\n",
        "0           0  2013000001     2013000001          VTS           1   \n",
        "1           1  2013000002     2013000002          VTS           1   \n",
        "2           2  2013000003     2013000003          VTS           1   \n",
        "3           3  2013000004     2013000004          VTS           1   \n",
        "4           4  2013000005     2013000005          VTS           1   \n",
        "\n",
        "   store_and_fwd_flag      pickup_datetime     dropoff_datetime  \\\n",
        "0                 NaN  2013-01-01 00:00:00  2013-01-01 00:28:00   \n",
        "1                 NaN  2013-01-01 00:00:00  2013-01-01 00:06:00   \n",
        "2                 NaN  2013-01-01 00:00:00  2013-01-01 00:10:00   \n",
        "3                 NaN  2013-01-01 00:00:00  2013-01-01 00:08:00   \n",
        "4                 NaN  2013-01-01 00:00:00  2013-01-01 00:16:00   \n",
        "\n",
        "    passenger_count   trip_time_in_secs      ...         dropoff_longitude  \\\n",
        "0                 1                1680      ...                -73.954185   \n",
        "1                 5                 360      ...                -73.981834   \n",
        "2                 1                 600      ...                -74.013779   \n",
        "3                 2                 480      ...                -73.977737   \n",
        "4                 4                 960      ...                -73.977226   \n",
        "\n",
        "    dropoff_latitude   vendor_id_y   payment_type   fare_amount  surcharge  \\\n",
        "0          40.778847           VTS            CSH          20.5        0.5   \n",
        "1          40.768639           VTS            CSH           6.0        0.5   \n",
        "2          40.705036           VTS            CRD          10.5        0.5   \n",
        "3          40.757927           VTS            CRD           8.0        0.5   \n",
        "4          40.783607           VTS            CRD          14.5        0.5   \n",
        "\n",
        "   mta_tax   tip_amount   tolls_amount   total_amount  \n",
        "0      0.5         0.00              0          21.50  \n",
        "1      0.5         0.00              0           7.00  \n",
        "2      0.5         2.20              0          13.70  \n",
        "3      0.5         1.70              0          10.70  \n",
        "4      0.5         4.65              0          20.15  \n",
        "\n",
        "[5 rows x 23 columns]"
       ]
      }
     ],
     "prompt_number": 34
    },
    {
     "cell_type": "heading",
     "level": 2,
     "metadata": {},
     "source": [
      "Location"
     ]
    },
    {
     "cell_type": "code",
     "collapsed": false,
     "input": [
      "# s1[\" pickup_latitude\"],s1[\" pickup_longitude\"]"
     ],
     "language": "python",
     "metadata": {},
     "outputs": [],
     "prompt_number": 81
    },
    {
     "cell_type": "code",
     "collapsed": false,
     "input": [
      "zipcodes = pd.read_csv(\"../../../zipcode_NYC.csv\")"
     ],
     "language": "python",
     "metadata": {},
     "outputs": [],
     "prompt_number": 12
    },
    {
     "cell_type": "code",
     "collapsed": false,
     "input": [
      "zipcodes=zipcodes[zipcodes.state.isin([\"NY\",\"NJ\"])]"
     ],
     "language": "python",
     "metadata": {},
     "outputs": [],
     "prompt_number": 13
    },
    {
     "cell_type": "code",
     "collapsed": false,
     "input": [
      "print zipcodes.latitude.max(),zipcodes.longitude.max(),zipcodes.latitude.min(), zipcodes.longitude.min()"
     ],
     "language": "python",
     "metadata": {},
     "outputs": [
      {
       "output_type": "stream",
       "stream": "stdout",
       "text": [
        "44.990606 -71.9506 38.936896 -79.74933\n"
       ]
      }
     ],
     "prompt_number": 14
    },
    {
     "cell_type": "code",
     "collapsed": false,
     "input": [
      "print zipcodes_NY.latitude.max(),zipcodes_NY.longitude.max(),zipcodes_NY.latitude.min(), zipcodes_NY.longitude.min()"
     ],
     "language": "python",
     "metadata": {},
     "outputs": [
      {
       "output_type": "stream",
       "stream": "stdout",
       "text": [
        "40.867653 -73.715016 40.658825 -74.04118\n"
       ]
      }
     ],
     "prompt_number": 17
    },
    {
     "cell_type": "code",
     "collapsed": false,
     "input": [
      "print kutti_s1[\" pickup_latitude\"].max(),kutti_s1[\" pickup_longitude\"].max(),kutti_s1[\" pickup_latitude\"].min(), kutti_s1[\" pickup_longitude\"].min()"
     ],
     "language": "python",
     "metadata": {},
     "outputs": [
      {
       "output_type": "stream",
       "stream": "stdout",
       "text": [
        "41.453693 -71.309334 40.616493 -74.208199\n"
       ]
      }
     ],
     "prompt_number": 27
    },
    {
     "cell_type": "code",
     "collapsed": false,
     "input": [
      "kutti_s1[\" pickup_longitude\"].max()"
     ],
     "language": "python",
     "metadata": {},
     "outputs": [
      {
       "metadata": {},
       "output_type": "pyout",
       "prompt_number": 24,
       "text": [
        "-71.309333999999978"
       ]
      }
     ],
     "prompt_number": 24
    },
    {
     "cell_type": "code",
     "collapsed": false,
     "input": [
      "kutti_s1[\" pickup_latitude\"].min()"
     ],
     "language": "python",
     "metadata": {},
     "outputs": [
      {
       "metadata": {},
       "output_type": "pyout",
       "prompt_number": 25,
       "text": [
        "40.616492999999998"
       ]
      }
     ],
     "prompt_number": 25
    },
    {
     "cell_type": "code",
     "collapsed": false,
     "input": [
      "kutti_s1[\" pickup_longitude\"].min()"
     ],
     "language": "python",
     "metadata": {},
     "outputs": [
      {
       "metadata": {},
       "output_type": "pyout",
       "prompt_number": 21,
       "text": [
        "-74.208198999999993"
       ]
      }
     ],
     "prompt_number": 21
    },
    {
     "cell_type": "code",
     "collapsed": false,
     "input": [
      "kutti_s1 = kutti_s1[kutti_s1[\" pickup_longitude\"]!=0.0]\n",
      "kutti_s1 = kutti_s1[kutti_s1[\" pickup_latitude\"]!=0.0]\n",
      "kutti_s1 = kutti_s1[kutti_s1[\" pickup_longitude\"]!=-0.028333001] #also removed 0.0"
     ],
     "language": "python",
     "metadata": {},
     "outputs": [],
     "prompt_number": 11
    },
    {
     "cell_type": "code",
     "collapsed": false,
     "input": [
      "zipcodes_NY = zipcodes[zipcodes.city == \"New York\"]"
     ],
     "language": "python",
     "metadata": {},
     "outputs": [],
     "prompt_number": 16
    },
    {
     "cell_type": "code",
     "collapsed": false,
     "input": [
      "zipcodes_NY.zip.count()"
     ],
     "language": "python",
     "metadata": {},
     "outputs": [
      {
       "metadata": {},
       "output_type": "pyout",
       "prompt_number": 18,
       "text": [
        "167"
       ]
      }
     ],
     "prompt_number": 18
    },
    {
     "cell_type": "code",
     "collapsed": false,
     "input": [
      "zipcodesByB = pd.read_csv(\"../../../zipcodesByBuruough.csv\",header=None)\n",
      "zipcodesByB.head()"
     ],
     "language": "python",
     "metadata": {},
     "outputs": [
      {
       "html": [
        "<div style=\"max-height:1000px;max-width:1500px;overflow:auto;\">\n",
        "<table border=\"1\" class=\"dataframe\">\n",
        "  <thead>\n",
        "    <tr style=\"text-align: right;\">\n",
        "      <th></th>\n",
        "      <th>0</th>\n",
        "      <th>1</th>\n",
        "    </tr>\n",
        "  </thead>\n",
        "  <tbody>\n",
        "    <tr>\n",
        "      <th>0</th>\n",
        "      <td>Bronx</td>\n",
        "      <td>10453, 10457, 10460, 10458, 10467, 10468, 1045...</td>\n",
        "    </tr>\n",
        "    <tr>\n",
        "      <th>1</th>\n",
        "      <td>Brooklyn</td>\n",
        "      <td>11212, 11213, 11216, 11233, 11238,11209, 11214...</td>\n",
        "    </tr>\n",
        "    <tr>\n",
        "      <th>2</th>\n",
        "      <td>Manhattan</td>\n",
        "      <td>10026, 10027, 10030, 10037, 10039,10001, 10011...</td>\n",
        "    </tr>\n",
        "    <tr>\n",
        "      <th>3</th>\n",
        "      <td>Queens</td>\n",
        "      <td>11361, 11362, 11363, 11364,11354, 11355, 11356...</td>\n",
        "    </tr>\n",
        "    <tr>\n",
        "      <th>4</th>\n",
        "      <td>StatenIsland</td>\n",
        "      <td>10302, 10303, 10310,10306, 10307, 10308, 10309...</td>\n",
        "    </tr>\n",
        "  </tbody>\n",
        "</table>\n",
        "</div>"
       ],
       "metadata": {},
       "output_type": "pyout",
       "prompt_number": 78,
       "text": [
        "              0                                                  1\n",
        "0         Bronx  10453, 10457, 10460, 10458, 10467, 10468, 1045...\n",
        "1      Brooklyn  11212, 11213, 11216, 11233, 11238,11209, 11214...\n",
        "2     Manhattan  10026, 10027, 10030, 10037, 10039,10001, 10011...\n",
        "3        Queens  11361, 11362, 11363, 11364,11354, 11355, 11356...\n",
        "4  StatenIsland  10302, 10303, 10310,10306, 10307, 10308, 10309..."
       ]
      }
     ],
     "prompt_number": 78
    },
    {
     "cell_type": "code",
     "collapsed": true,
     "input": [
      "def GetZipCodesByBurough():\n",
      "    zipcodesByB = pd.read_csv(\"../../../zipcodesByBuruough.csv\",header=None)\n",
      "    zipDiction={}\n",
      "    for i in range(zipcodesByB.count()[0]):\n",
      "        print zipcodesByB[0][i]\n",
      "        for row in zipcodesByB[1][i].split(\",\"):\n",
      "            zipDiction[int(row.strip())]=zipcodesByB[0][i]\n",
      "    return zipDiction\n",
      "\n",
      "zipDiction = GetZipCodesByBurough()"
     ],
     "language": "python",
     "metadata": {},
     "outputs": [
      {
       "output_type": "stream",
       "stream": "stdout",
       "text": [
        "Bronx\n",
        "Brooklyn\n",
        "Manhattan\n",
        "Queens\n",
        "StatenIsland\n"
       ]
      }
     ],
     "prompt_number": 111
    },
    {
     "cell_type": "code",
     "collapsed": false,
     "input": [
      "len(zipDiction.keys())"
     ],
     "language": "python",
     "metadata": {},
     "outputs": [
      {
       "metadata": {},
       "output_type": "pyout",
       "prompt_number": 112,
       "text": [
        "178"
       ]
      }
     ],
     "prompt_number": 112
    },
    {
     "cell_type": "code",
     "collapsed": false,
     "input": [
      "latitude = kutti_s1[\" pickup_latitude\"][189]\n",
      "longitude = kutti_s1[\" pickup_longitude\"][189]\n",
      "print latitude,longitude"
     ],
     "language": "python",
     "metadata": {},
     "outputs": [
      {
       "output_type": "stream",
       "stream": "stdout",
       "text": [
        "40.725605 -73.992241\n"
       ]
      }
     ],
     "prompt_number": 44
    },
    {
     "cell_type": "code",
     "collapsed": false,
     "input": [
      "def GetZipCodesByBurough():\n",
      "    zipcodesByB = pd.read_csv(\"../../../zipcodesByBuruough.csv\",header=None)\n",
      "    zipDiction={}\n",
      "    for i in range(zipcodesByB.count()[0]):\n",
      "        print zipcodesByB[0][i]\n",
      "        for row in zipcodesByB[1][i].split(\",\"):\n",
      "            zipDiction[int(row.strip())]=zipcodesByB[0][i]\n",
      "    return zipDiction\n",
      "\n",
      "def PickZipCode(Lat,Long):\n",
      "    #first pick min latitude\n",
      "    minLat = min(zipcodes_NY.latitude.tolist(), key=lambda x:abs(x-Lat))\n",
      "    minLong = min(zipcodes_NY[zipcodes_NY.latitude == minLat].longitude.tolist(), key=lambda x:abs(x-Long))\n",
      "    z = zipcodes_NY[((zipcodes_NY.longitude==minLong)&(zipcodes_NY.latitude==minLat))][\"zip\"].tolist()[0]\n",
      "    area = zipDiction[z]\n",
      "    return z,area\n",
      "\n",
      "\n",
      "\n",
      "PickZipCode(latitude,longitude)"
     ],
     "language": "python",
     "metadata": {},
     "outputs": [],
     "prompt_number": 115
    },
    {
     "cell_type": "code",
     "collapsed": false,
     "input": [
      "row = zipcodesByB[1][2]\n",
      "val = row.split(\",\")\n",
      "val = [int(v.strip()) for v in val]\n",
      "# val"
     ],
     "language": "python",
     "metadata": {},
     "outputs": [],
     "prompt_number": 116
    },
    {
     "cell_type": "code",
     "collapsed": false,
     "input": [
      "def Mo"
     ],
     "language": "python",
     "metadata": {},
     "outputs": []
    }
   ],
   "metadata": {}
  }
 ]
}