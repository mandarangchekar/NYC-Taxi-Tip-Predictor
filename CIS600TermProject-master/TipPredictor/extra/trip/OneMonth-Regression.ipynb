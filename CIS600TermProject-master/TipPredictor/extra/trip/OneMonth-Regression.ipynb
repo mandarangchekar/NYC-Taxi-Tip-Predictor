{
 "metadata": {
  "name": ""
 },
 "nbformat": 3,
 "nbformat_minor": 0,
 "worksheets": [
  {
   "cells": [
    {
     "cell_type": "code",
     "collapsed": false,
     "input": [
      "import pandas as pd\n",
      "import numpy as np\n",
      "import sklearn\n",
      "from sklearn import datasets, linear_model, metrics\n",
      "from sklearn.feature_extraction import DictVectorizer\n",
      "# from sklearn.linear_model import *"
     ],
     "language": "python",
     "metadata": {},
     "outputs": [],
     "prompt_number": 19
    },
    {
     "cell_type": "code",
     "collapsed": false,
     "input": [
      "#df=pd.read_csv(\"trip_data_1.csv\")\n",
      "df = pd.io.parsers.read_csv(\"trip_data_1.csv\")"
     ],
     "language": "python",
     "metadata": {},
     "outputs": [],
     "prompt_number": 20
    },
    {
     "cell_type": "code",
     "collapsed": false,
     "input": [
      "df_onedriver = df[df[\" hack_license\"] == 2013000001]"
     ],
     "language": "python",
     "metadata": {},
     "outputs": [],
     "prompt_number": 21
    },
    {
     "cell_type": "code",
     "collapsed": false,
     "input": [
      "df_onedriver.shape"
     ],
     "language": "python",
     "metadata": {},
     "outputs": [
      {
       "metadata": {},
       "output_type": "pyout",
       "prompt_number": 22,
       "text": [
        "(511, 14)"
       ]
      }
     ],
     "prompt_number": 22
    },
    {
     "cell_type": "code",
     "collapsed": false,
     "input": [
      "from datetime import datetime\n",
      "def GetTimeDiff(t2,t1):\n",
      "    pattern = \"%Y-%m-%d %H:%M:%S\"\n",
      "    return datetime.strptime(t2,pattern)-datetime.strptime(t1,pattern)\n",
      "\n",
      "def CalcWaitTime():\n",
      "    count = df_onedriver.count()[0]\n",
      "    time_df = [0]*df_onedriver.count()[0]\n",
      "    for i in range (count-1):\n",
      "        pickups = df_onedriver[\" pickup_datetime\"].tolist()\n",
      "        dropoffs = df_onedriver[\" dropoff_datetime\"].tolist()\n",
      "#         df_onedriver['waittime'] = 0\n",
      "        time_df[i] = GetTimeDiff(pickups[i+1], dropoffs[i]).total_seconds()\n",
      "#         print type(time_df)\n",
      "    print time_df\n",
      "    df_onedriver[\"waittime\"] = np.array(time_df)\n",
      "#         print df_onedriver[\"waittime\"][i]\n",
      "#     print GetTimeDiff(pickups[i+1], dropoffs[i]).total_seconds()"
     ],
     "language": "python",
     "metadata": {},
     "outputs": [],
     "prompt_number": 23
    },
    {
     "cell_type": "code",
     "collapsed": false,
     "input": [
      "CalcWaitTime()\n",
      "# df_onedriver.count()[0]\n",
      "#i=0\n",
      "# df_onedriver[\" dropoff_datetime\"][i] - df_onedriver[\" pickup_datetime\"][i+1]\n",
      "#type(df_onedriver[\" pickup_datetime\"][1:2].to_string())"
     ],
     "language": "python",
     "metadata": {},
     "outputs": [
      {
       "output_type": "stream",
       "stream": "stdout",
       "text": [
        "[1320.0, 0.0, 180.0, 0.0, 60.0, 120.0, 1380.0, 60.0, 60.0, 300.0, 60.0, 120.0, 4440.0, 180.0, 297840.0, 60.0, 180.0, 120.0, 720.0, 540.0, 1440.0, 180.0, 120.0, 240.0, 120.0, 180.0, 720.0, 60.0, 1260.0, 1500.0, 720.0, 5160.0, 240.0, 360.0, 1080.0, 1380.0, 1320.0, 240.0, 1740.0, 900.0, 660.0, 300.0, 1440.0, 720.0, 720.0, 360.0, 199920.0, 600.0, 360.0, 1980.0, 600.0, 600.0, 3180.0, 120.0, 180.0, 300.0, 120.0, 60.0, 240.0, 60.0, 1140.0, 60.0, 1380.0, 660.0, 600.0, 1740.0, 600.0, 180.0, 240.0, 720.0, 1440.0, 240.0, 900.0, 2460.0, 1200.0, 960.0, 540.0, 1560.0, 180.0, 420.0, 120.0, 1440.0, 60.0, 319320.0, 120.0, 180.0, 300.0, 60.0, 300.0, 1140.0, 120.0, 300.0, 60.0, 360.0, 240.0, 420.0, 240.0, 60.0, 60.0, 0.0, 360.0, 1140.0, 240.0, 60.0, 60.0, 240.0, 1020.0, 60.0, 60.0, 180.0, 120.0, 1560.0, 180.0, 180.0, 1620.0, 480.0, 660.0, 540.0, 720.0, 1440.0, 2460.0, 420.0, 49440.0, 240.0, 1440.0, 540.0, 60.0, 1920.0, 60.0, 180.0, 60.0, 300.0, 420.0, 1140.0, 1380.0, 420.0, 180.0, 660.0, 120.0, 60.0, 60.0, 120.0, 180.0, 780.0, 120.0, 540.0, 1260.0, 180.0, 120.0, 600.0, 120.0, 840.0, 300.0, 540.0, 1080.0, 840.0, 117840.0, 1860.0, 240.0, 840.0, 1320.0, 480.0, 1020.0, 720.0, 900.0, 360.0, 840.0, 480.0, 60.0, 2460.0, 2040.0, 1620.0, 60.0, 2280.0, 120.0, 1620.0, 1440.0, 61620.0, 240.0, 1920.0, 540.0, 1080.0, 180.0, 120.0, 600.0, 1380.0, 240.0, 60.0, 660.0, 0.0, 660.0, 240.0, 120.0, 2040.0, 900.0, 149760.0, 240.0, 600.0, 240.0, 60.0, 300.0, 60.0, 60.0, 180.0, 60.0, 0.0, 1020.0, 60.0, 300.0, 60.0, 60.0, 180.0, 540.0, 120.0, 240.0, 180.0, 2040.0, 60.0, 180.0, 240.0, 420.0, 540.0, 360.0, 540.0, 2280.0, 57960.0, 120.0, 1080.0, 60.0, 720.0, 300.0, 60.0, 120.0, 0.0, 60.0, 60.0, 120.0, 3240.0, 420.0, 60.0, 120.0, 540.0, 240.0, 1080.0, 120.0, 240.0, 180.0, 540.0, 1620.0, 3900.0, 180.0, 420.0, 1440.0, 60.0, 480.0, 54480.0, 1140.0, 540.0, 5460.0, 720.0, 540.0, 300.0, 540.0, 360.0, 60.0, 540.0, 180.0, 720.0, 240.0, 240.0, 180.0, 0.0, 60.0, 60.0, 840.0, 120.0, 1140.0, 660.0, 1560.0, 540.0, 360.0, 46260.0, 120.0, 180.0, 180.0, 180.0, 180.0, 900.0, 180.0, 60.0, 720.0, 300.0, 840.0, 180.0, 600.0, 1080.0, 300.0, 180.0, 60.0, 120.0, 120.0, 120.0, 1860.0, 240.0, 180.0, 120.0, 300.0, 4080.0, 420.0, 60.0, 1020.0, 180.0, 540.0, 420.0, 1680.0, 540.0, 360.0, 136320.0, 60.0, 120.0, 180.0, 0.0, 2040.0, 660.0, 240.0, 180.0, 1500.0, 540.0, 360.0, 120.0, 60.0, 120.0, 660.0, 780.0, 300.0, 540.0, 360.0, 63900.0, 120.0, 1680.0, 360.0, 60.0, 60.0, 120.0, 1560.0, 240.0, 420.0, 60.0, 0.0, 180.0, 180.0, 60.0, 1440.0, 120.0, 240.0, 1200.0, 1260.0, 1200.0, 62220.0, 360.0, 180.0, 660.0, 60.0, 240.0, 240.0, 900.0, 780.0, 120.0, 720.0, 60.0, 2580.0, 180.0, 180.0, 1440.0, 300.0, 120.0, 2340.0, 480.0, 60.0, 60.0, 600.0, 420.0, 600.0, 480.0, 240.0, 900.0, 54240.0, 180.0, 60.0, 120.0, 120.0, 60.0, 960.0, 180.0, 0.0, 240.0, 180.0, 1860.0, 120.0, 60.0, 60.0, 60.0, 840.0, 1020.0, 60.0, 120.0, 1140.0, 300.0, 60.0, 60.0, 60.0, 180.0, 180.0, 600.0, 300.0, 1440.0, 300.0, 420.0, 420.0, 1140.0, 1320.0, 120.0, 300.0, 48780.0, 60.0, 120.0, 780.0, 960.0, 180.0, 720.0, 60.0, 120.0, 660.0, 540.0, 60.0, 660.0, 240.0, 60.0, 120.0, 180.0, 180.0, 2280.0, 300.0, 240.0, 60.0, 120.0, 60.0, 60.0, 60.0, 60.0, 60.0, 120.0, 120.0, 120.0, 0.0, 60.0, 120.0, 1200.0, 120.0, 4080.0, 900.0, 48300.0, 120.0, 240.0, 780.0, 420.0, 1320.0, 60.0, 2040.0, 2700.0, 1320.0, 720.0, 120.0, 360.0, 1020.0, 360.0, 120.0, 151320.0, 600.0, 180.0, 660.0, 60.0, 60.0, 120.0, 0.0, 180.0, 660.0, 1980.0, 300.0, 360.0, 360.0, 900.0, 120.0, 153780.0, 60.0, 120.0, 2400.0, 120.0, 660.0, 180.0, 360.0, 180.0, 60.0, 120.0, 840.0, 60.0, 0.0, 3060.0, 1320.0, 1140.0, 0]\n"
       ]
      }
     ],
     "prompt_number": 24
    },
    {
     "cell_type": "code",
     "collapsed": false,
     "input": [
      "df_onedriver[\"waittime\"].head()"
     ],
     "language": "python",
     "metadata": {},
     "outputs": [
      {
       "metadata": {},
       "output_type": "pyout",
       "prompt_number": 25,
       "text": [
        "0        1320\n",
        "23484       0\n",
        "33522     180\n",
        "41144       0\n",
        "44342      60\n",
        "Name: waittime, dtype: float64"
       ]
      }
     ],
     "prompt_number": 25
    },
    {
     "cell_type": "code",
     "collapsed": false,
     "input": [
      "df_onedriver[' rate_code'].min()"
     ],
     "language": "python",
     "metadata": {},
     "outputs": [
      {
       "metadata": {},
       "output_type": "pyout",
       "prompt_number": 26,
       "text": [
        "1"
       ]
      }
     ],
     "prompt_number": 26
    },
    {
     "cell_type": "code",
     "collapsed": false,
     "input": [
      "import matplotlib\n",
      "matplotlib.use('Agg')\n",
      "from matplotlib import pyplot as plt\n",
      "%matplotlib inline "
     ],
     "language": "python",
     "metadata": {},
     "outputs": [
      {
       "output_type": "stream",
       "stream": "stderr",
       "text": [
        "/usr/lib/pymodules/python2.7/matplotlib/__init__.py:1173: UserWarning:  This call to matplotlib.use() has no effect\n",
        "because the backend has already been chosen;\n",
        "matplotlib.use() must be called *before* pylab, matplotlib.pyplot,\n",
        "or matplotlib.backends is imported for the first time.\n",
        "\n",
        "  warnings.warn(_use_error_msg)\n"
       ]
      }
     ],
     "prompt_number": 27
    },
    {
     "cell_type": "code",
     "collapsed": false,
     "input": [
      "# x_list = df_onedriver[' pickup_datetime']\n",
      "x_list = range(df_onedriver.count()[0])\n",
      "y_list = df_onedriver['waittime'].tolist()\n",
      "plt.plot(x_list, y_list, 'ro')\n",
      "plt.show()\n",
      "print df_onedriver['waittime'].max()"
     ],
     "language": "python",
     "metadata": {},
     "outputs": [
      {
       "metadata": {},
       "output_type": "display_data",
       "png": "[encoded data removed]",
       "text": [
        "<matplotlib.figure.Figure at 0x7f9f4ae913d0>"
       ]
      },
      {
       "output_type": "stream",
       "stream": "stdout",
       "text": [
        "319320.0\n"
       ]
      }
     ],
     "prompt_number": 28
    },
    {
     "cell_type": "code",
     "collapsed": false,
     "input": [
      "df_onedriver['waittime'] = df_onedriver['waittime'].apply(lambda x: 0 if x > 3600 else x)\n",
      "y_list = df_onedriver['waittime'].tolist()\n",
      "plt.plot(x_list, y_list, 'ro')\n",
      "plt.show()\n",
      "print df_onedriver['waittime'].max()"
     ],
     "language": "python",
     "metadata": {},
     "outputs": [
      {
       "metadata": {},
       "output_type": "display_data",
       "png": "[encoded data removed]",
       "text": [
        "<matplotlib.figure.Figure at 0x7f9f3fdca0d0>"
       ]
      },
      {
       "output_type": "stream",
       "stream": "stdout",
       "text": [
        "3240.0\n"
       ]
      }
     ],
     "prompt_number": 29
    },
    {
     "cell_type": "code",
     "collapsed": false,
     "input": [
      "print [(col, pd.isnull(df_onedriver[col]).sum()) for col in df_onedriver.columns]\n",
      "feature_cols = [' trip_time_in_secs', ' trip_distance', ' pickup_longitude', ' pickup_latitude', ' dropoff_longitude',\\\n",
      "                ' dropoff_latitude',' pickup_datetime', ' dropoff_datetime', ' vendor_id', 'medallion']"
     ],
     "language": "python",
     "metadata": {},
     "outputs": [
      {
       "output_type": "stream",
       "stream": "stdout",
       "text": [
        "[('medallion', 0), (' hack_license', 0), (' vendor_id', 0), (' rate_code', 0), (' store_and_fwd_flag', 511), (' pickup_datetime', 0), (' dropoff_datetime', 0), (' passenger_count', 0), (' trip_time_in_secs', 0), (' trip_distance', 0), (' pickup_longitude', 0), (' pickup_latitude', 0), (' dropoff_longitude', 0), (' dropoff_latitude', 0), ('waittime', 0)]\n"
       ]
      }
     ],
     "prompt_number": 30
    },
    {
     "cell_type": "code",
     "collapsed": false,
     "input": [
      "train_df = df_onedriver[:300]\n",
      "test_df = df_onedriver[301:]\n",
      "\n",
      "dvec = DictVectorizer()\n",
      "dict_df = train_df[feature_cols].T.to_dict().values()\n",
      "train_data = pd.DataFrame(dvec.fit_transform(dict_df).toarray())\n",
      "\n",
      "dict_df = test_df[feature_cols].T.to_dict().values()\n",
      "test_data = pd.DataFrame(dvec.transform(dict_df).toarray())\n",
      "\n",
      "\n",
      "X_train = train_data\n",
      "Y_train =  train_df['waittime'].reshape(len(train_df['waittime']), 1)\n",
      "\n",
      "X_dev = test_data\n",
      "Y_dev = test_df['waittime'].reshape(len(test_df['waittime']), 1)"
     ],
     "language": "python",
     "metadata": {},
     "outputs": [],
     "prompt_number": 31
    },
    {
     "cell_type": "code",
     "collapsed": false,
     "input": [
      "log_regr = sklearn.linear_model.LogisticRegression()\n",
      "log_regr.fit(X_train, Y_train)\n",
      "\n",
      "# The coefficients\n",
      "# print('Coefficients: \\n', lasso_regr.coef_)\n",
      "predicted_Y_dev = log_regr.predict(X_dev)\n",
      "# # The mean square error\n",
      "# print(\"Residual sum of squares: %.2f\"\n",
      "#       % np.mean((lasso_regr.predict(X_dev) - Y_dev) ** 2))\n",
      "\n",
      "# # Explained variance score: 1 is perfect prediction\n",
      "# print('Variance score: %.2f' % lasso_regr.score(X_dev, Y_dev))\n",
      "\n",
      "# # Y_pred_test = lasso_regr.predict(X_test)"
     ],
     "language": "python",
     "metadata": {},
     "outputs": [
      {
       "output_type": "stream",
       "stream": "stderr",
       "text": [
        "/usr/lib/python2.7/dist-packages/sklearn/preprocessing/label.py:99: DataConversionWarning: A column-vector y was passed when a 1d array was expected. Please change the shape of y to (n_samples, ), for example using ravel().\n",
        "  y = column_or_1d(y, warn=True)\n"
       ]
      }
     ],
     "prompt_number": 35
    },
    {
     "cell_type": "code",
     "collapsed": false,
     "input": [
      "#Best possible score is 1.0, lower values are not ideal. Should we normalize the labels (Y values) as well?\n",
      "print log_regr.score(X_dev, Y_dev)\n",
      "# print 1- metrics.mean_absolute_error(Y_dev, predicted_Y_dev)"
     ],
     "language": "python",
     "metadata": {},
     "outputs": [
      {
       "output_type": "stream",
       "stream": "stdout",
       "text": [
        "0.17619047619\n"
       ]
      }
     ],
     "prompt_number": 37
    }
   ],
   "metadata": {}
  }
 ]
}