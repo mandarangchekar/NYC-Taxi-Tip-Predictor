{
 "metadata": {
  "name": ""
 },
 "nbformat": 3,
 "nbformat_minor": 0,
 "worksheets": [
  {
   "cells": [
    {
     "cell_type": "code",
     "collapsed": false,
     "input": [
      "import pandas as pd\n",
      "import numpy as np\n",
      "import math\n",
      "from sklearn import svm"
     ],
     "language": "python",
     "metadata": {},
     "outputs": [],
     "prompt_number": 1
    },
    {
     "cell_type": "code",
     "collapsed": false,
     "input": [
      "df = pd.io.parsers.read_csv(\"trip_data_1.csv\")"
     ],
     "language": "python",
     "metadata": {},
     "outputs": [],
     "prompt_number": 3
    },
    {
     "cell_type": "code",
     "collapsed": false,
     "input": [
      "df.shape"
     ],
     "language": "python",
     "metadata": {},
     "outputs": [
      {
       "metadata": {},
       "output_type": "pyout",
       "prompt_number": 4,
       "text": [
        "(14776615, 14)"
       ]
      }
     ],
     "prompt_number": 4
    },
    {
     "cell_type": "code",
     "collapsed": false,
     "input": [
      "driverList = df[\" hack_license\"].unique()"
     ],
     "language": "python",
     "metadata": {},
     "outputs": [],
     "prompt_number": 5
    },
    {
     "cell_type": "code",
     "collapsed": false,
     "input": [
      "df_drivers = df[df[\" hack_license\"].isin(driverList[:10])]"
     ],
     "language": "python",
     "metadata": {},
     "outputs": [],
     "prompt_number": 6
    },
    {
     "cell_type": "code",
     "collapsed": false,
     "input": [
      "from datetime import datetime\n",
      "def GetTimeDiff(t2,t1):\n",
      "    pattern = \"%Y-%m-%d %H:%M:%S\"\n",
      "    return datetime.strptime(t2,pattern)-datetime.strptime(t1,pattern)\n",
      "\n",
      "def GetWaitClasses(seconds):\n",
      "    if seconds>(25*60):\n",
      "        return \"G\"\n",
      "    elif seconds>(15*60):\n",
      "        return \"F\"\n",
      "    elif seconds>(8*60):\n",
      "        return \"E\"\n",
      "    elif seconds>(6*60):\n",
      "        return \"D\"\n",
      "    elif seconds>(4*60):\n",
      "        return \"C\"\n",
      "    elif seconds>(2*60):\n",
      "        return \"B\"\n",
      "    else:\n",
      "        return \"A\"\n",
      "\n",
      "def CalcWaitTime(df):\n",
      "    count = df.count()[0]\n",
      "    time_df = ['X']*count\n",
      "    for i in range (count-1):\n",
      "        pickups = df[\" pickup_datetime\"].tolist()\n",
      "        dropoffs = df[\" dropoff_datetime\"].tolist()\n",
      "#         df_onedriver['waittime'] = 0\n",
      "        time_df[i] = GetWaitClasses(GetTimeDiff(pickups[i+1], dropoffs[i]).total_seconds())\n",
      "#         print type(time_df)\n",
      "#     print time_df\n",
      "    df[\"waittime\"] = np.array(time_df)"
     ],
     "language": "python",
     "metadata": {},
     "outputs": [],
     "prompt_number": 7
    },
    {
     "cell_type": "code",
     "collapsed": false,
     "input": [
      "CalcWaitTime(df_drivers)"
     ],
     "language": "python",
     "metadata": {},
     "outputs": [
      {
       "output_type": "stream",
       "stream": "stderr",
       "text": [
        "-c:32: SettingWithCopyWarning: \n",
        "A value is trying to be set on a copy of a slice from a DataFrame.\n",
        "Try using .loc[row_indexer,col_indexer] = value instead\n",
        "\n",
        "See the the caveats in the documentation: http://pandas.pydata.org/pandas-docs/stable/indexing.html#indexing-view-versus-copy\n"
       ]
      }
     ],
     "prompt_number": 8
    },
    {
     "cell_type": "code",
     "collapsed": false,
     "input": [
      "def GetTrainingAndTest(df):\n",
      "    tr = int(math.floor(0.7*df.count()[0]))\n",
      "    training = df[0:tr]\n",
      "    test = df[tr:]\n",
      "    return training,test\n",
      "\n",
      "training,test = GetTrainingAndTest(df_drivers)"
     ],
     "language": "python",
     "metadata": {},
     "outputs": [],
     "prompt_number": 9
    },
    {
     "cell_type": "code",
     "collapsed": false,
     "input": [
      "training.shape"
     ],
     "language": "python",
     "metadata": {},
     "outputs": [
      {
       "metadata": {},
       "output_type": "pyout",
       "prompt_number": 10,
       "text": [
        "(4232, 15)"
       ]
      }
     ],
     "prompt_number": 10
    },
    {
     "cell_type": "code",
     "collapsed": false,
     "input": [
      "import sklearn\n",
      "from sklearn.tree import DecisionTreeClassifier\n",
      "from sklearn.feature_extraction import DictVectorizer #to turn categorial variables into numeric arrays\n",
      "from sklearn import preprocessing #to transform the feature labels\n",
      "from sklearn.externals.six import StringIO"
     ],
     "language": "python",
     "metadata": {},
     "outputs": [],
     "prompt_number": 11
    },
    {
     "cell_type": "code",
     "collapsed": false,
     "input": [
      "dvec = DictVectorizer()\n",
      "feature_cols = [col for col in dev.columns if col  in ['sex','pclass','agegroup','family_size','cabincheck']]"
     ],
     "language": "python",
     "metadata": {},
     "outputs": [],
     "prompt_number": 14
    },
    {
     "cell_type": "code",
     "collapsed": false,
     "input": [
      "x=5"
     ],
     "language": "python",
     "metadata": {},
     "outputs": [],
     "prompt_number": "*"
    }
   ],
   "metadata": {}
  }
 ]
}