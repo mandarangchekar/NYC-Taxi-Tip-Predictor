{
 "metadata": {
  "name": ""
 },
 "nbformat": 3,
 "nbformat_minor": 0,
 "worksheets": [
  {
   "cells": [
    {
     "cell_type": "code",
     "collapsed": false,
     "input": [
      "import pandas as pd\n",
      "import numpy as np\n",
      "import math\n",
      "import sklearn\n",
      "from sklearn import datasets, linear_model, metrics, svm\n",
      "from sklearn.feature_extraction import DictVectorizer"
     ],
     "language": "python",
     "metadata": {},
     "outputs": [
      {
       "output_type": "stream",
       "stream": "stderr",
       "text": [
        "/usr/local/lib/python2.7/dist-packages/numpy/core/fromnumeric.py:2507: VisibleDeprecationWarning: `rank` is deprecated; use the `ndim` attribute or function instead. To find the rank of a matrix see `numpy.linalg.matrix_rank`.\n",
        "  VisibleDeprecationWarning)\n"
       ]
      }
     ],
     "prompt_number": 1
    },
    {
     "cell_type": "code",
     "collapsed": false,
     "input": [
      "df = pd.io.parsers.read_csv(\"trip_data_12.csv\")"
     ],
     "language": "python",
     "metadata": {},
     "outputs": [],
     "prompt_number": 3
    },
    {
     "cell_type": "code",
     "collapsed": false,
     "input": [
      "df.shape"
     ],
     "language": "python",
     "metadata": {},
     "outputs": [
      {
       "metadata": {},
       "output_type": "pyout",
       "prompt_number": 4,
       "text": [
        "(13971118, 14)"
       ]
      }
     ],
     "prompt_number": 4
    },
    {
     "cell_type": "code",
     "collapsed": false,
     "input": [
      "driverList = df[\" hack_license\"].unique()"
     ],
     "language": "python",
     "metadata": {},
     "outputs": [],
     "prompt_number": 4
    },
    {
     "cell_type": "code",
     "collapsed": false,
     "input": [
      "df_drivers = df[df[\" hack_license\"].isin(driverList[:50])]"
     ],
     "language": "python",
     "metadata": {},
     "outputs": [],
     "prompt_number": 12
    },
    {
     "cell_type": "code",
     "collapsed": false,
     "input": [
      "from datetime import datetime\n",
      "def GetTimeDiff(t2,t1):\n",
      "    pattern = \"%Y-%m-%d %H:%M:%S\"\n",
      "    return datetime.strptime(t2,pattern)-datetime.strptime(t1,pattern)\n",
      "\n",
      "def GetWaitClasses(seconds):\n",
      "    if seconds>(6*60):\n",
      "        return \"G\"\n",
      "    elif seconds>(5*60):\n",
      "        return \"F\"\n",
      "    elif seconds>(4*60):\n",
      "        return \"E\"\n",
      "    elif seconds>(3*60):\n",
      "        return \"D\"\n",
      "    elif seconds>(2*60):\n",
      "        return \"C\"\n",
      "    elif seconds>(1*60):\n",
      "        return \"B\"\n",
      "    else:\n",
      "        return \"A\"\n",
      "\n",
      "def CalcWaitTime(df):\n",
      "    count = df.count()[0]\n",
      "    time_df = ['X']*count\n",
      "    for i in range (count-1):\n",
      "        pickups = df[\" pickup_datetime\"].tolist()\n",
      "        dropoffs = df[\" dropoff_datetime\"].tolist()\n",
      "#         df_onedriver['waittime'] = 0\n",
      "        time_df[i] = GetWaitClasses(GetTimeDiff(pickups[i+1], dropoffs[i]).total_seconds())\n",
      "#         print type(time_df)\n",
      "#     print time_df\n",
      "    df[\"waittime\"] = np.array(time_df)"
     ],
     "language": "python",
     "metadata": {},
     "outputs": [],
     "prompt_number": 13
    },
    {
     "cell_type": "code",
     "collapsed": false,
     "input": [
      "CalcWaitTime(df_drivers)"
     ],
     "language": "python",
     "metadata": {},
     "outputs": [],
     "prompt_number": 14
    },
    {
     "cell_type": "code",
     "collapsed": false,
     "input": [
      "def GetTrainingAndTest(df):\n",
      "    tr = int(math.floor(0.7*df.count()[0]))\n",
      "    training = df[0:tr]\n",
      "    test = df[tr:]\n",
      "    return training,test\n",
      "\n",
      "train_df,test_df = GetTrainingAndTest(df_drivers)"
     ],
     "language": "python",
     "metadata": {},
     "outputs": [],
     "prompt_number": 15
    },
    {
     "cell_type": "code",
     "collapsed": false,
     "input": [
      "print [(col, pd.isnull(df_drivers[col]).sum()) for col in df_drivers.columns]\n",
      "feature_cols = [' trip_time_in_secs', ' trip_distance', ' pickup_longitude', ' pickup_latitude', ' dropoff_longitude',\\\n",
      "                ' dropoff_latitude',' pickup_datetime', ' dropoff_datetime', ' vendor_id', 'medallion']"
     ],
     "language": "python",
     "metadata": {},
     "outputs": [
      {
       "output_type": "stream",
       "stream": "stdout",
       "text": [
        "[('medallion', 0), (' hack_license', 0), (' vendor_id', 0), (' rate_code', 0), (' store_and_fwd_flag', 26859), (' pickup_datetime', 0), (' dropoff_datetime', 0), (' passenger_count', 0), (' trip_time_in_secs', 0), (' trip_distance', 0), (' pickup_longitude', 0), (' pickup_latitude', 0), (' dropoff_longitude', 0), (' dropoff_latitude', 0), ('waittime', 0)]\n"
       ]
      }
     ],
     "prompt_number": 16
    },
    {
     "cell_type": "code",
     "collapsed": false,
     "input": [
      "dvec = DictVectorizer()\n",
      "dict_df = train_df[feature_cols].T.to_dict().values()\n",
      "train_data = pd.DataFrame(dvec.fit_transform(dict_df).toarray())\n",
      "\n",
      "dict_df = test_df[feature_cols].T.to_dict().values()\n",
      "test_data = pd.DataFrame(dvec.transform(dict_df).toarray())\n",
      "\n",
      "\n",
      "X_train = train_data\n",
      "Y_train =  train_df['waittime'].reshape(len(train_df['waittime']), 1)\n",
      "\n",
      "X_dev = test_data\n",
      "Y_dev = test_df['waittime'].reshape(len(test_df['waittime']), 1)"
     ],
     "language": "python",
     "metadata": {},
     "outputs": [],
     "prompt_number": 17
    },
    {
     "cell_type": "code",
     "collapsed": false,
     "input": [
      "ctr_A = 0\n",
      "ctr_B = 0\n",
      "ctr_C = 0\n",
      "ctr_D = 0\n",
      "ctr_E= 0\n",
      "ctr_F = 0\n",
      "ctr_G = 0\n",
      "\n",
      "for i in range(Y_dev.shape[0]):\n",
      "    if Y_dev[i] == 'A':\n",
      "        ctr_A += 1\n",
      "    elif Y_dev[i] == 'B':\n",
      "        ctr_B += 1\n",
      "    elif Y_dev[i] == 'C':\n",
      "        ctr_C += 1\n",
      "    elif Y_dev[i] == 'D':\n",
      "        ctr_D += 1\n",
      "    elif Y_dev[i] == 'E':\n",
      "        ctr_E += 1\n",
      "    elif Y_dev[i] == 'F':\n",
      "        ctr_F += 1\n",
      "    elif Y_dev[i] == 'G':\n",
      "        ctr_G += 1\n",
      "        \n",
      "        \n",
      "total = ctr_A + ctr_B + ctr_C + ctr_D + ctr_E + ctr_F + ctr_G\n",
      "# print ctr_A,  ctr_B,  ctr_C, ctr_D\n",
      "float(ctr_A)*100/total,  float(ctr_B)*100/total,  float(ctr_C)*100/total, float(ctr_D)*100/total, float(ctr_E)*100/total, float(ctr_F)*100/total, float(ctr_G)*100/total"
     ],
     "language": "python",
     "metadata": {},
     "outputs": [
      {
       "metadata": {},
       "output_type": "pyout",
       "prompt_number": 18,
       "text": [
        "(97.24704177734847,\n",
        " 0.627867664815262,\n",
        " 0.41052885776382514,\n",
        " 0.26563631972953394,\n",
        " 0.18111567254286404,\n",
        " 0.13281815986476697,\n",
        " 1.1349915479352812)"
       ]
      }
     ],
     "prompt_number": 18
    },
    {
     "cell_type": "code",
     "collapsed": false,
     "input": [
      "svm_clf = svm.SVC(kernel='rbf', class_weight='auto')\n",
      "svm_clf.fit(X_train, Y_train.reshape(Y_train.shape[0],))\n",
      "Y_pred_dev = svm_clf.predict(X_dev)\n",
      "SVM_acc = float(sum(map(lambda x,y : x==y, Y_pred_dev, Y_dev)))/len(Y_dev)\n",
      "print \"SVM RBF Kernel set accuracy: %f\" %(SVM_acc)"
     ],
     "language": "python",
     "metadata": {},
     "outputs": [],
     "prompt_number": "*"
    },
    {
     "cell_type": "code",
     "collapsed": false,
     "input": [
      "ctr_A = 0\n",
      "ctr_B = 0\n",
      "ctr_C = 0\n",
      "for i in range(Y_pred_dev.shape[0]):\n",
      "    if Y_pred_dev[i] == 'A':\n",
      "        ctr_A += 1\n",
      "    elif Y_pred_dev[i] == 'B':\n",
      "        ctr_B += 1\n",
      "    elif Y_pred_dev[i] == 'C':\n",
      "        ctr_C += 1\n",
      "print ctr_A,  ctr_B,  ctr_C"
     ],
     "language": "python",
     "metadata": {},
     "outputs": [],
     "prompt_number": "*"
    }
   ],
   "metadata": {}
  }
 ]
}