{
  "nbformat": 4,
  "nbformat_minor": 0,
  "metadata": {
    "colab": {
      "provenance": []
    }
  },
  "cells": [
    {
      "cell_type": "markdown",
      "source": [
        "#####Importing Libraries"
      ],
      "metadata": {
        "id": "tT-YeeMijE_V"
      }
    },
    {
      "cell_type": "code",
      "source": [
        "#import libraries\n",
        "import pandas as pd\n",
        "import numpy as np\n",
        "import math\n",
        "import sklearn\n",
        "from sklearn import datasets, linear_model, metrics, svm\n",
        "from sklearn.feature_extraction import DictVectorizer\n",
        "from sklearn import tree"
      ],
      "outputs": [],
      "metadata": {
        "id": "ki2qghJ9jE_W"
      },
      "execution_count": null
    },
    {
      "cell_type": "code",
      "source": [
        "#import file\n",
        "df_f = pd.read_csv(\"../data/clean.csv\")\n",
        "df = df_f"
      ],
      "outputs": [],
      "metadata": {
        "id": "V2j0RlRBjE_W"
      },
      "execution_count": null
    },
    {
      "cell_type": "code",
      "source": [
        "import matplotlib\n",
        "matplotlib.use('Agg')\n",
        "from matplotlib import pyplot as plt\n",
        "%matplotlib inline"
      ],
      "outputs": [
        {
          "output_type": "stream",
          "text": [
            "/usr/lib/pymodules/python2.7/matplotlib/__init__.py:1173: UserWarning:  This call to matplotlib.use() has no effect\n",
            "because the backend has already been chosen;\n",
            "matplotlib.use() must be called *before* pylab, matplotlib.pyplot,\n",
            "or matplotlib.backends is imported for the first time.\n",
            "\n",
            "  warnings.warn(_use_error_msg)\n"
          ],
          "name": "stderr"
        }
      ],
      "metadata": {
        "id": "1eFe0fsfjE_X",
        "outputId": "d692c312-a0c7-47fd-b0e4-bedcd0a8b226"
      },
      "execution_count": null
    },
    {
      "cell_type": "code",
      "source": [
        "#Histogram of tip amounts\n",
        "plt.hist(df[' tip_amount'].values, range=[0,10])\n",
        "plt.ylabel(\"Density\")\n",
        "plt.xlabel(\"Tip Amount\")\n",
        "plt.grid(b=True, which='major', axis='y')  \n",
        "plt.title(\"Tip distribution\")"
      ],
      "outputs": [
        {
          "output_type": "execute_result",
          "data": {},
          "metadata": {},
          "execution_count": 40
        },
        {
          "output_type": "display_data",
          "data": {},
          "metadata": {}
        }
      ],
      "metadata": {
        "id": "BxZNM89gjE_X",
        "outputId": "ef4b016e-7044-4a20-bfc6-6f1a07ca6204"
      },
      "execution_count": null
    },
    {
      "cell_type": "code",
      "source": [
        "#Function to calculate tip percentage\n",
        "def GetTipPercent(tip, fare):\n",
        "    if fare == 0.0:\n",
        "        return 0\n",
        "    else:\n",
        "        return tip*100/fare\n",
        "#Function to calculate tip percentage for each ride in dataframe\n",
        "def CalcuateTipPercentage(df):\n",
        "    count = df.count()[0]\n",
        "    tip_df = ['X']*count\n",
        "    tip_amnt = df[\" tip_amount\"].tolist()\n",
        "    fare_amnt = df[' fare_amount'].tolist()\n",
        "    for i in range (count):\n",
        "        tip_df[i] = GetTipPercent(tip_amnt[i], fare_amnt[i])\n",
        "#     print \"dsfdjskgjdslkg\"\n",
        "    df[\"tip_percent\"] = np.array(tip_df)   "
      ],
      "outputs": [],
      "metadata": {
        "id": "sdwx33yzjE_X"
      },
      "execution_count": null
    },
    {
      "cell_type": "code",
      "source": [
        "#Histogram of tip percentage\n",
        "CalcuateTipPercentage(df_f)"
      ],
      "outputs": [],
      "metadata": {
        "id": "269kD6RnjE_X"
      },
      "execution_count": null
    },
    {
      "cell_type": "code",
      "source": [
        "plt.hist(df_f['tip_percent'].values, range=[0,35])\n",
        "plt.ylabel(\"Density\")\n",
        "plt.xlabel(\"Tip Percent\")\n",
        "plt.grid(b=True, which='major', axis='y')  \n",
        "plt.title(\"Tip Percentage Distribution\")"
      ],
      "outputs": [
        {
          "output_type": "execute_result",
          "data": {},
          "metadata": {},
          "execution_count": 43
        },
        {
          "output_type": "display_data",
          "data": {},
          "metadata": {}
        }
      ],
      "metadata": {
        "id": "1mtZKFyajE_X",
        "outputId": "faecd630-2651-4591-a5f5-788bdc962cc4"
      },
      "execution_count": null
    },
    {
      "cell_type": "code",
      "source": [
        "=-"
      ],
      "outputs": [
        {
          "output_type": "execute_result",
          "data": {},
          "metadata": {},
          "execution_count": 44
        },
        {
          "output_type": "display_data",
          "data": {},
          "metadata": {}
        }
      ],
      "metadata": {
        "id": "0R-nrlMujE_Y",
        "outputId": "b7947cfb-7425-4364-9107-84dc726e46eb"
      },
      "execution_count": null
    },
    {
      "cell_type": "code",
      "source": [
        "#Scatter plot of tip amount vs trip distance\n",
        "plt.scatter(df[' trip_distance'], df[' tip_amount'], alpha=.5)\n",
        "plt.ylabel(\"Tip Amount $\")\n",
        "plt.xlabel(\"Trip Distance miles\")\n",
        "plt.grid(b=True, which='major', axis='y')  \n",
        "plt.title(\"Tip by Trip Distance\") "
      ],
      "outputs": [
        {
          "output_type": "execute_result",
          "data": {},
          "metadata": {},
          "execution_count": 9
        },
        {
          "output_type": "display_data",
          "data": {},
          "metadata": {}
        }
      ],
      "metadata": {
        "id": "pW4_-zNWjE_Y",
        "outputId": "b94d70ea-c8a8-42d8-bb4d-6823406f4cde"
      },
      "execution_count": null
    },
    {
      "cell_type": "code",
      "source": [
        "#Scatter plot of tip amount vs trip time\n",
        "plt.scatter(df[' trip_time_in_secs'], df[' tip_amount'], alpha=.5)\n",
        "plt.ylabel(\"Tip Amount $\")\n",
        "plt.xlabel(\"Trip Time secs\")\n",
        "plt.grid(b=True, which='major', axis='y')  \n",
        "plt.title(\"Tip by Trip time\")"
      ],
      "outputs": [
        {
          "output_type": "execute_result",
          "data": {},
          "metadata": {},
          "execution_count": 10
        },
        {
          "output_type": "display_data",
          "data": {},
          "metadata": {}
        }
      ],
      "metadata": {
        "id": "pNglIhsRjE_Y",
        "outputId": "64a3f100-f8db-445b-b762-efd069682d21"
      },
      "execution_count": null
    },
    {
      "cell_type": "code",
      "source": [
        "# create a mapping from categorical values to unique integers:\n",
        "integer_map = dict([(val, i) for i, val in enumerate(set(df[' payment_type']))]) \n",
        "ax = df[' payment_type'].apply(lambda x: integer_map[x])\n",
        "\n",
        "\n",
        "plt.scatter(ax, df[' tip_amount'], alpha=.5)\n",
        "plt.ylabel(\"Tip Amount $\")\n",
        "plt.xlabel(\"Payment Type \")\n",
        "plt.grid(b=True, which='major', axis='y')  \n",
        "plt.title(\"Tip by Payment Type\")"
      ],
      "outputs": [
        {
          "output_type": "execute_result",
          "data": {},
          "metadata": {},
          "execution_count": 11
        },
        {
          "output_type": "display_data",
          "data": {},
          "metadata": {}
        }
      ],
      "metadata": {
        "id": "g3ljtwBYjE_Y",
        "outputId": "8cabd1e1-57bc-4ea0-e946-fa00068b7a51"
      },
      "execution_count": null
    },
    {
      "cell_type": "code",
      "source": [
        "print df[' payment_type'].unique()\n",
        "print integer_map"
      ],
      "outputs": [
        {
          "output_type": "stream",
          "text": [
            "['CRD' 'CSH' 'NOC' 'DIS']\n",
            "{'NOC': 3, 'CSH': 1, 'CRD': 2, 'DIS': 0}\n"
          ],
          "name": "stdout"
        }
      ],
      "metadata": {
        "id": "2o0v-JDkjE_Y",
        "outputId": "206f14f4-73c8-45d7-943e-1008f1710772"
      },
      "execution_count": null
    },
    {
      "cell_type": "code",
      "source": [
        "# Generate a scatter plot of tip amount against fare amount\n",
        "plt.scatter(df[' fare_amount'], df[' tip_amount'], alpha=.5)\n",
        "plt.ylabel(\"Tip Amount $\")\n",
        "plt.xlabel(\"fare_amount $ \")\n",
        "plt.grid(b=True, which='major', axis='y')  \n",
        "plt.title(\"Tip by fare_amount\")"
      ],
      "outputs": [
        {
          "output_type": "execute_result",
          "data": {},
          "metadata": {},
          "execution_count": 13
        },
        {
          "output_type": "display_data",
          "data": {},
          "metadata": {}
        }
      ],
      "metadata": {
        "id": "ZIKwdQ2SjE_Y",
        "outputId": "e4788afd-825d-4a19-ba39-833ce84132fd"
      },
      "execution_count": null
    },
    {
      "cell_type": "code",
      "source": [
        "# Generate a scatter plot of tip amount against tolls amount\n",
        "plt.scatter(df[' tolls_amount'], df[' tip_amount'], alpha=.5)\n",
        "plt.ylabel(\"Tip Amount $\")\n",
        "plt.xlabel(\"tolls_amount $ \")\n",
        "plt.grid(b=True, which='major', axis='y')  \n",
        "plt.title(\"Tip by tolls_amount\")"
      ],
      "outputs": [
        {
          "output_type": "execute_result",
          "data": {},
          "metadata": {},
          "execution_count": 14
        },
        {
          "output_type": "display_data",
          "data": {},
          "metadata": {}
        }
      ],
      "metadata": {
        "id": "GvL20CAijE_Y",
        "outputId": "9a3d3d95-36b2-40e0-fedd-f227d5c60f5c"
      },
      "execution_count": null
    },
    {
      "cell_type": "code",
      "source": [
        "from datetime import datetime\n",
        "def InterpretPickupTime(df, field):\n",
        "    count = df.count()[0]\n",
        "    month = [0]*count #1-12\n",
        "    hourOfDay = [0]*count #0-23\n",
        "    dayOfWeek = [0]*count #0=monday, 6=sunday\n",
        "    weekend = [\"X\"]*count #weekday/weekend\n",
        "    timegroup = [\"X\"]*count #0-5early, 6-10morning, 11-15afternoon, 16-20evening, 21-23night, \n",
        "    try:\n",
        "        for i in range(count):\n",
        "            dt = datetime.strptime(df[field][i],\"%Y-%m-%d %H:%M:%S\")\n",
        "            month[i] = dt.month\n",
        "            dayOfWeek[i] = dt.weekday()\n",
        "            hourOfDay[i] = dt.hour\n",
        "            if dt.weekday()> 4:\n",
        "                weekend[i] = \"weekend\";\n",
        "            else:\n",
        "                weekend[i] = \"weekday\";\n",
        "            if hourOfDay[i] < 6:\n",
        "                timegroup[i] = \"early\"\n",
        "            elif hourOfDay[i] < 11:\n",
        "                timegroup[i] = \"morning\"\n",
        "            elif hourOfDay[i] < 16:\n",
        "                timegroup[i] = \"afternoon\"\n",
        "            elif hourOfDay[i] < 21:\n",
        "                timegroup[i] = \"evening\"\n",
        "            else:\n",
        "                timegroup[i] = \"night\"\n",
        "    except:\n",
        "        print \"Exception\" + str(i) + \"  \"+ df[field][i]\n",
        "        return\n",
        "    df[field+\"month\"] = month\n",
        "    df[field+\"hourOfDay\"] = hourOfDay\n",
        "    df[field+\"dayOfWeek\"] = dayOfWeek\n",
        "    df[field+\"weekend\"] = weekend\n",
        "    df[field+\"timegroup\"] = timegroup"
      ],
      "outputs": [],
      "metadata": {
        "id": "2G-_IyXMjE_Y"
      },
      "execution_count": null
    },
    {
      "cell_type": "code",
      "source": [
        "InterpretPickupTime(df_f, \" pickup_datetime\")"
      ],
      "outputs": [],
      "metadata": {
        "id": "tO3t5Z0YjE_Y"
      },
      "execution_count": null
    },
    {
      "cell_type": "code",
      "source": [
        "InterpretPickupTime(df_f, \" dropoff_datetime\")"
      ],
      "outputs": [],
      "metadata": {
        "id": "zkk-JYSojE_Z"
      },
      "execution_count": null
    },
    {
      "cell_type": "code",
      "source": [
        "# create a mapping from categorical values to unique integers:\n",
        "integer_map = dict([(val, i) for i, val in enumerate(set(df_f[' pickup_datetimeweekend']))]) \n",
        "\n",
        "# plot using this integer map, applied over `categorical`\n",
        "ax = df_f[' pickup_datetimeweekend'].apply(lambda x: integer_map[x])\n",
        "\n",
        "\n",
        "plt.scatter(ax, df_f[' tip_amount'], alpha=.5)\n",
        "plt.ylabel(\"Tip Amount $\")\n",
        "plt.xlabel(\"pickup_datetimeweekend\")\n",
        "plt.grid(b=True, which='major', axis='y')  \n",
        "plt.title(\"Tip by pickup_datetimeweekend\")"
      ],
      "outputs": [
        {
          "output_type": "execute_result",
          "data": {},
          "metadata": {},
          "execution_count": 18
        },
        {
          "output_type": "display_data",
          "data": {},
          "metadata": {}
        }
      ],
      "metadata": {
        "id": "9ERSGFQHjE_Z",
        "outputId": "f9b50bf6-466f-4fe2-97a8-91a53486382e"
      },
      "execution_count": null
    },
    {
      "cell_type": "code",
      "source": [
        "# create a mapping from categorical values to unique integers:\n",
        "integer_map = dict([(val, i) for i, val in enumerate(set(df_f[' dropoff_datetimeweekend']))]) \n",
        "\n",
        "# plot using this integer map, applied over `categorical`\n",
        "ax = df_f[' dropoff_datetimeweekend'].apply(lambda x: integer_map[x])\n",
        "\n",
        "\n",
        "plt.scatter(ax, df_f[' tip_amount'], alpha=.5)\n",
        "plt.ylabel(\"Tip Amount $\")\n",
        "plt.xlabel(\"dropoff_datetimeweekend\")\n",
        "plt.grid(b=True, which='major', axis='y')  \n",
        "plt.title(\"Tip by dropoff_datetimeweekend\")"
      ],
      "outputs": [
        {
          "output_type": "execute_result",
          "data": {},
          "metadata": {},
          "execution_count": 19
        },
        {
          "output_type": "display_data",
          "data": {},
          "metadata": {}
        }
      ],
      "metadata": {
        "id": "WRYVjZKijE_Z",
        "outputId": "2dab4349-be36-44c6-9e42-cad9b3ba695b"
      },
      "execution_count": null
    },
    {
      "cell_type": "code",
      "source": [
        "print integer_map"
      ],
      "outputs": [
        {
          "output_type": "stream",
          "text": [
            "{'weekend': 0, 'weekday': 1}\n"
          ],
          "name": "stdout"
        }
      ],
      "metadata": {
        "id": "t2AumHy-jE_Z",
        "outputId": "f0d7a6f4-fc18-4371-e29a-cb80ea67ec0d"
      },
      "execution_count": null
    },
    {
      "cell_type": "code",
      "source": [
        "# create a mapping from categorical values to unique integers:\n",
        "integer_map = dict([(val, i) for i, val in enumerate(set(df_f[' pickup_datetimetimegroup']))]) \n",
        "\n",
        "# plot using this integer map, applied over `categorical`\n",
        "ax = df_f[' pickup_datetimetimegroup'].apply(lambda x: integer_map[x])\n",
        "\n",
        "\n",
        "plt.scatter(ax, df_f[' tip_amount'], alpha=.5)\n",
        "plt.ylabel(\"Tip Amount $\")\n",
        "plt.xlabel(\"pickup_datetimetimegroup\")\n",
        "plt.grid(b=True, which='major', axis='y')  \n",
        "plt.title(\"Tip by pickup_datetimetimegroup\")"
      ],
      "outputs": [
        {
          "output_type": "execute_result",
          "data": {},
          "metadata": {},
          "execution_count": 21
        },
        {
          "output_type": "display_data",
          "data": {},
          "metadata": {}
        }
      ],
      "metadata": {
        "id": "ILtQscmQjE_Z",
        "outputId": "5d2f113c-4d04-4469-a6d6-f740c5fff0e1"
      },
      "execution_count": null
    },
    {
      "cell_type": "code",
      "source": [
        "# create a mapping from categorical values to unique integers:\n",
        "integer_map = dict([(val, i) for i, val in enumerate(set(df_f[' dropoff_datetimetimegroup']))]) \n",
        "\n",
        "# plot using this integer map, applied over `categorical`\n",
        "ax = df_f[' dropoff_datetimetimegroup'].apply(lambda x: integer_map[x])\n",
        "\n",
        "\n",
        "plt.scatter(ax, df_f[' tip_amount'], alpha=.5)\n",
        "plt.ylabel(\"Tip Amount $\")\n",
        "plt.xlabel(\"dropoff_datetimetimegroup\")\n",
        "plt.grid(b=True, which='major', axis='y')  \n",
        "plt.title(\"Tip by dropoff_datetimetimegroup\")"
      ],
      "outputs": [
        {
          "output_type": "execute_result",
          "data": {},
          "metadata": {},
          "execution_count": 22
        },
        {
          "output_type": "display_data",
          "data": {},
          "metadata": {}
        }
      ],
      "metadata": {
        "id": "v0AiHjrPjE_Z",
        "outputId": "4ed55c25-4aed-4c7f-b707-f5ba97ce7fa3"
      },
      "execution_count": null
    },
    {
      "cell_type": "code",
      "source": [
        "print integer_map"
      ],
      "outputs": [
        {
          "output_type": "stream",
          "text": [
            "{'early': 0, 'night': 4, 'evening': 1, 'afternoon': 3, 'morning': 2}\n"
          ],
          "name": "stdout"
        }
      ],
      "metadata": {
        "id": "Vt5z-SrDjE_Z",
        "outputId": "edcd6ddf-b758-4b5f-d52f-72cc2e0e1d43"
      },
      "execution_count": null
    },
    {
      "cell_type": "code",
      "source": [
        "#Scatter plot of tip amount vs pickup month\n",
        "plt.scatter(df_f[' pickup_datetimemonth'], df_f[' tip_amount'], alpha=.5)\n",
        "plt.ylabel(\"Tip Amount $\")\n",
        "plt.xlabel(\"pickup_datetimemonth\")\n",
        "plt.grid(b=True, which='major', axis='y')  \n",
        "plt.title(\"Tip by pickup_datetimemonth\")"
      ],
      "outputs": [
        {
          "output_type": "execute_result",
          "data": {},
          "metadata": {},
          "execution_count": 24
        },
        {
          "output_type": "display_data",
          "data": {},
          "metadata": {}
        }
      ],
      "metadata": {
        "id": "ryCVOw01jE_Z",
        "outputId": "cc96c770-a4fe-42f9-aa00-435e0865a476"
      },
      "execution_count": null
    },
    {
      "cell_type": "code",
      "source": [
        "#Scatter plot of tip amount vs drop off date month\n",
        "plt.scatter(df_f[' dropoff_datetimemonth'], df_f[' tip_amount'], alpha=.5)\n",
        "plt.ylabel(\"Tip Amount $\")\n",
        "plt.xlabel(\"dropoff_datetimemonth\")\n",
        "plt.grid(b=True, which='major', axis='y')  \n",
        "plt.title(\"Tip by dropoff_datetimemonth\")"
      ],
      "outputs": [
        {
          "output_type": "execute_result",
          "data": {},
          "metadata": {},
          "execution_count": 25
        },
        {
          "output_type": "display_data",
          "data": {},
          "metadata": {}
        }
      ],
      "metadata": {
        "id": "TS0v4j2ljE_Z",
        "outputId": "5ab867f0-eb6b-43e2-d4b1-f51dd490b3e3"
      },
      "execution_count": null
    },
    {
      "cell_type": "code",
      "source": [
        "#Scatter plot of tip amount vs pickup date time hour of the day\n",
        "plt.scatter(df_f[' pickup_datetimehourOfDay'], df_f[' tip_amount'], alpha=.5)\n",
        "plt.ylabel(\"Tip Amount $\")\n",
        "plt.xlabel(\"pickup_datetimehourOfDay\")\n",
        "plt.grid(b=True, which='major', axis='y')  \n",
        "plt.title(\"Tip by pickup_datetimehourOfDay\")"
      ],
      "outputs": [
        {
          "output_type": "execute_result",
          "data": {},
          "metadata": {},
          "execution_count": 26
        },
        {
          "output_type": "display_data",
          "data": {},
          "metadata": {}
        }
      ],
      "metadata": {
        "id": "mQ5KcPKUjE_Z",
        "outputId": "7077b103-8092-40d7-cd3d-c83b9f9aa304"
      },
      "execution_count": null
    },
    {
      "cell_type": "code",
      "source": [
        "#Scatter plot of tip amount vs dropoff date time hour of the day\n",
        "plt.scatter(df_f[' dropoff_datetimehourOfDay'], df_f[' tip_amount'], alpha=.5)\n",
        "plt.ylabel(\"Tip Amount $\")\n",
        "plt.xlabel(\"dropoff_datetimehourOfDay\")\n",
        "plt.grid(b=True, which='major', axis='y')  \n",
        "plt.title(\"Tip by dropoff_datetimehourOfDay\")"
      ],
      "outputs": [
        {
          "output_type": "execute_result",
          "data": {},
          "metadata": {},
          "execution_count": 27
        },
        {
          "output_type": "display_data",
          "data": {},
          "metadata": {}
        }
      ],
      "metadata": {
        "id": "LkV6WRN7jE_Z",
        "outputId": "d307c8ee-b82a-4c2f-bbec-c3ed99f38ee1"
      },
      "execution_count": null
    },
    {
      "cell_type": "code",
      "source": [
        "#Scatter plot of tip amount vs pickup date time of week\n",
        "plt.scatter(df_f[' pickup_datetimedayOfWeek'], df_f[' tip_amount'], alpha=.5)\n",
        "plt.ylabel(\"Tip Amount $\")\n",
        "plt.xlabel(\"pickup_datetimedayOfWeek\")\n",
        "plt.grid(b=True, which='major', axis='y')  \n",
        "plt.title(\"Tip by pickup_datetimedayOfWeek\")"
      ],
      "outputs": [
        {
          "output_type": "execute_result",
          "data": {},
          "metadata": {},
          "execution_count": 28
        },
        {
          "output_type": "display_data",
          "data": {},
          "metadata": {}
        }
      ],
      "metadata": {
        "id": "mVOoKkejjE_Z",
        "outputId": "ad964020-2cfd-46a2-ca7f-4d1c9e5084e4"
      },
      "execution_count": null
    },
    {
      "cell_type": "code",
      "source": [
        "#Scatter plot of tip amount vs dropoff datetime of the week\n",
        "plt.scatter(df_f[' dropoff_datetimedayOfWeek'], df_f[' tip_amount'], alpha=.5)\n",
        "plt.ylabel(\"Tip Amount $\")\n",
        "plt.xlabel(\"dropoff_datetimedayOfWeek\")\n",
        "plt.grid(b=True, which='major', axis='y')  \n",
        "plt.title(\"Tip by dropoff_datetimedayOfWeek\")"
      ],
      "outputs": [
        {
          "output_type": "execute_result",
          "data": {},
          "metadata": {},
          "execution_count": 29
        },
        {
          "output_type": "display_data",
          "data": {},
          "metadata": {}
        }
      ],
      "metadata": {
        "id": "_9B_Ol7njE_a",
        "outputId": "4602d437-3342-4f85-8d2a-5c4d4341a2da"
      },
      "execution_count": null
    },
    {
      "cell_type": "code",
      "source": [
        "df_r = df_f"
      ],
      "outputs": [],
      "metadata": {
        "id": "rblkZEGHjE_a"
      },
      "execution_count": null
    },
    {
      "cell_type": "code",
      "source": [
        "#Function to classify tips based on tip amount\n",
        "def GetTipClasses(tip):\n",
        "    if tip == 0.0:\n",
        "        return \"Z\"\n",
        "    elif tip > 0.0 and tip < 1.0:\n",
        "        return \"A\"\n",
        "    elif tip >= 1.0 and tip < 2.0:\n",
        "        return \"B\"\n",
        "    elif tip >= 2.0 and tip < 3.0:\n",
        "        return \"C\"\n",
        "    elif tip >= 3.0 and tip < 4.0:\n",
        "        return \"D\"\n",
        "    elif tip >= 4.0 and tip < 5.0:\n",
        "        return \"E\"\n",
        "    elif tip >= 5.0 and tip < 7.5:\n",
        "        return \"F\"\n",
        "    elif tip >= 7.5 and tip < 10.0:\n",
        "        return \"G\"\n",
        "    else:\n",
        "        return \"H\"\n",
        "#Function to calculate tip classes for a dataframe    \n",
        "def CalculateTipClasses(df):\n",
        "    count = df.count()[0]\n",
        "#     prin`t count\n",
        "    tip_df = ['X']*count\n",
        "    tip_amnt = df[\" tip_amount\"].tolist()\n",
        "    for i in range (count-1):\n",
        "        tip_df[i] = GetTipClasses(tip_amnt[i])\n",
        "    df[\"tip_class\"] = np.array(tip_df)\n",
        "    \n",
        "CalculateTipClasses(df_f)"
      ],
      "outputs": [],
      "metadata": {
        "id": "ZpSTvAC_jE_a"
      },
      "execution_count": null
    },
    {
      "cell_type": "code",
      "source": [
        "#Function to classify tips as either TIP or NOTIP\n",
        "def GetTipNoTip(tip):\n",
        "    if tip == 0.0:\n",
        "        return \"NOTIP\"\n",
        "    else:\n",
        "        return \"TIP\"\n",
        "#Function to add a new column to the dataframe to classify tips as either TIP or NOTIP\n",
        "def CalculateTipNoTip(df):\n",
        "    count = df.count()[0]\n",
        "#     print count\n",
        "    tip_df = ['X']*count\n",
        "    tip_amnt = df[\" tip_amount\"].tolist()\n",
        "    for i in range (count-1):\n",
        "        tip_df[i] = GetTipNoTip(tip_amnt[i])\n",
        "    df[\"tip_no_tip\"] = np.array(tip_df)\n",
        "    \n",
        "CalculateTipNoTip(df_f)"
      ],
      "outputs": [],
      "metadata": {
        "id": "ckTgNzigjE_a"
      },
      "execution_count": null
    },
    {
      "cell_type": "code",
      "source": [
        "# Function to retrieve zip codes by borough from a CSV file\n",
        "def GetZipCodesByBurough():\n",
        "    zipcodesByB = pd.read_csv(\"../../../zipcodesByBuruough.csv\",header=None)\n",
        "    zipDiction={}\n",
        "    for i in range(zipcodesByB.count()[0]):\n",
        "        print zipcodesByB[0][i]\n",
        "        for row in zipcodesByB[1][i].split(\",\"):\n",
        "            zipDiction[int(row.strip())]=zipcodesByB[0][i]\n",
        "    return zipDiction\n",
        "# Function to pick the zip code based on latitude and longitude\n",
        "def PickZipCode(Lat,Long,zipDiction):\n",
        "    #first pick min latitude\n",
        "    zipcodes_NY = pd.read_csv(\"../../../zipcode_NYC.csv\")\n",
        "    minLong = min(zipcodes_NY.longitude.tolist(), key=lambda x:abs(x-Long))\n",
        "    minLat = min(zipcodes_NY[zipcodes_NY.longitude == minLong].latitude.tolist(), key=lambda x:abs(x-Lat))\n",
        "#     print minLat,minLong\n",
        "    z = zipcodes_NY[((zipcodes_NY.longitude==minLong)&(zipcodes_NY.latitude==minLat))][\"zip\"].tolist()[0]\n",
        "#     print z\n",
        "    area = zipDiction[z]\n",
        "    return z,area\n",
        "# Function to assign zip codes and areas to a dataframe based on latitude and longitude\n",
        "def AssignZipcodes(df,field):\n",
        "    count = df.count()[0]\n",
        "    zipz = [0]*count\n",
        "    area = [\"X\"]*count\n",
        "    zipDiction = GetZipCodesByBurough()\n",
        "    try:\n",
        "        for i in range(count):\n",
        "            zipz[i],area[i] = PickZipCode(df[\" \"+field+\"_latitude\"][i],df[\" \"+field+\"_longitude\"][i],zipDiction)\n",
        "    except:\n",
        "        print \"exception \"+str(i)\n",
        "    df[\"zipz\"]=zipz\n",
        "    df[field+\"area\"]=area"
      ],
      "outputs": [],
      "metadata": {
        "id": "Pc6POwV8jE_a"
      },
      "execution_count": null
    },
    {
      "cell_type": "code",
      "source": [
        "AssignZipcodes(df_f, 'pickup')"
      ],
      "outputs": [
        {
          "output_type": "stream",
          "text": [
            "Bronx\n",
            "Brooklyn\n",
            "Manhattan\n",
            "Queens\n",
            "StatenIsland\n",
            "exception 0"
          ],
          "name": "stdout"
        },
        {
          "output_type": "stream",
          "text": [
            "\n"
          ],
          "name": "stdout"
        }
      ],
      "metadata": {
        "id": "28yambiSjE_a",
        "outputId": "9cb05c87-82ec-4751-ec53-50a3c143c0b6"
      },
      "execution_count": null
    },
    {
      "cell_type": "code",
      "source": [
        "AssignZipcodes(df_f, 'dropoff')"
      ],
      "outputs": [
        {
          "output_type": "stream",
          "text": [
            "Bronx\n",
            "Brooklyn\n",
            "Manhattan\n",
            "Queens\n",
            "StatenIsland\n",
            "exception 0"
          ],
          "name": "stdout"
        },
        {
          "output_type": "stream",
          "text": [
            "\n"
          ],
          "name": "stdout"
        }
      ],
      "metadata": {
        "id": "7oDi2Lh4jE_a",
        "outputId": "507f4830-c862-454a-c41c-4c53e6a022f5"
      },
      "execution_count": null
    },
    {
      "cell_type": "markdown",
      "source": [
        "####Analyzing the distribution of data across the Tip Classses "
      ],
      "metadata": {
        "id": "GZA8AFSOjE_a"
      }
    },
    {
      "cell_type": "code",
      "source": [
        "ctr_Z = 0\n",
        "ctr_A = 0\n",
        "ctr_B = 0\n",
        "ctr_C = 0\n",
        "ctr_D = 0\n",
        "ctr_E = 0\n",
        "ctr_F = 0\n",
        "ctr_G = 0\n",
        "ctr_H = 0\n",
        "for i in range(Y_dev.shape[0]):\n",
        "    if Y_dev[i] == 'Z':\n",
        "        ctr_Z += 1\n",
        "    elif Y_dev[i] == 'A':\n",
        "        ctr_A += 1\n",
        "    elif Y_dev[i] == 'B':\n",
        "        ctr_B += 1\n",
        "    elif Y_dev[i] == 'C':\n",
        "        ctr_C += 1\n",
        "    elif Y_dev[i] == 'D':\n",
        "        ctr_D += 1\n",
        "    elif Y_dev[i] == 'E':\n",
        "        ctr_E += 1\n",
        "    elif Y_dev[i] == 'F':\n",
        "        ctr_F += 1\n",
        "    elif Y_dev[i] == 'G':\n",
        "        ctr_G += 1\n",
        "    else:\n",
        "        ctr_H += 1   \n",
        "total = ctr_Z + ctr_A + ctr_B + ctr_C + ctr_D + ctr_E + ctr_F + ctr_G + ctr_H \n",
        "print total\n",
        "float(ctr_Z)*100/total, float(ctr_A)*100/total,  float(ctr_B)*100/total,  float(ctr_C)*100/total, float(ctr_D)*100/total, float(ctr_E)*100/total, float(ctr_F)*100/total, float(ctr_G)*100/total, float(ctr_H)*100/total"
      ],
      "outputs": [
        {
          "output_type": "error",
          "ename": "NameError",
          "evalue": "name 'Y_dev' is not defined",
          "traceback": [
            "\u001b[0;31m---------------------------------------------------------------------------\u001b[0m\n\u001b[0;31mNameError\u001b[0m                                 Traceback (most recent call last)",
            "\u001b[0;32m<ipython-input-36-cfd682320791>\u001b[0m in \u001b[0;36m<module>\u001b[0;34m()\u001b[0m\n\u001b[1;32m      8\u001b[0m \u001b[0mctr_G\u001b[0m \u001b[0;34m=\u001b[0m \u001b[0;36m0\u001b[0m\u001b[0;34m\u001b[0m\u001b[0m\n\u001b[1;32m      9\u001b[0m \u001b[0mctr_H\u001b[0m \u001b[0;34m=\u001b[0m \u001b[0;36m0\u001b[0m\u001b[0;34m\u001b[0m\u001b[0m\n\u001b[0;32m---> 10\u001b[0;31m \u001b[0;32mfor\u001b[0m \u001b[0mi\u001b[0m \u001b[0;32min\u001b[0m \u001b[0mrange\u001b[0m\u001b[0;34m(\u001b[0m\u001b[0mY_dev\u001b[0m\u001b[0;34m.\u001b[0m\u001b[0mshape\u001b[0m\u001b[0;34m[\u001b[0m\u001b[0;36m0\u001b[0m\u001b[0;34m]\u001b[0m\u001b[0;34m)\u001b[0m\u001b[0;34m:\u001b[0m\u001b[0;34m\u001b[0m\u001b[0m\n\u001b[0m\u001b[1;32m     11\u001b[0m     \u001b[0;32mif\u001b[0m \u001b[0mY_dev\u001b[0m\u001b[0;34m[\u001b[0m\u001b[0mi\u001b[0m\u001b[0;34m]\u001b[0m \u001b[0;34m==\u001b[0m \u001b[0;34m'Z'\u001b[0m\u001b[0;34m:\u001b[0m\u001b[0;34m\u001b[0m\u001b[0m\n\u001b[1;32m     12\u001b[0m         \u001b[0mctr_Z\u001b[0m \u001b[0;34m+=\u001b[0m \u001b[0;36m1\u001b[0m\u001b[0;34m\u001b[0m\u001b[0m\n",
            "\u001b[0;31mNameError\u001b[0m: name 'Y_dev' is not defined"
          ]
        }
      ],
      "metadata": {
        "id": "phnWx-fZjE_a",
        "outputId": "3f295d45-fec5-40ff-9097-39a4a33b4571"
      },
      "execution_count": null
    },
    {
      "cell_type": "code",
      "source": [
        "ctr_Z = 0\n",
        "ctr_A = 0\n",
        "ctr_B = 0\n",
        "ctr_C = 0\n",
        "ctr_D = 0\n",
        "ctr_E = 0\n",
        "ctr_F = 0\n",
        "ctr_G = 0\n",
        "ctr_H = 0\n",
        "for i in range(Y_pred_dev.shape[0]):\n",
        "    if Y_pred_dev[i] == 'Z':\n",
        "        ctr_Z += 1\n",
        "    elif Y_pred_dev[i] == 'A':\n",
        "        ctr_A += 1\n",
        "    elif Y_pred_dev[i] == 'B':\n",
        "        ctr_B += 1\n",
        "    elif Y_pred_dev[i] == 'C':\n",
        "        ctr_C += 1\n",
        "    elif Y_pred_dev[i] == 'D':\n",
        "        ctr_D += 1\n",
        "    elif Y_pred_dev[i] == 'E':\n",
        "        ctr_E += 1\n",
        "    elif Y_pred_dev[i] == 'F':\n",
        "        ctr_F += 1\n",
        "    elif Y_pred_dev[i] == 'G':\n",
        "        ctr_G += 1\n",
        "    else:\n",
        "        ctr_H += 1   \n",
        "total = ctr_Z + ctr_A + ctr_B + ctr_C + ctr_D + ctr_E + ctr_F + ctr_G + ctr_H \n",
        "print total\n",
        "float(ctr_Z)*100/total, float(ctr_A)*100/total,  float(ctr_B)*100/total,  float(ctr_C)*100/total, float(ctr_D)*100/total, float(ctr_E)*100/total, float(ctr_F)*100/total, float(ctr_G)*100/total, float(ctr_H)*100/total"
      ],
      "outputs": [],
      "metadata": {
        "id": "XC0gAHxLjE_a"
      },
      "execution_count": null
    }
  ]
}